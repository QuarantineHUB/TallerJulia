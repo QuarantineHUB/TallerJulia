{
 "cells": [
  {
   "cell_type": "markdown",
   "metadata": {},
   "source": [
    "# Taller de introducción  a Julia"
   ]
  },
  {
   "cell_type": "markdown",
   "metadata": {},
   "source": [
    "## Jupyter"
   ]
  },
  {
   "cell_type": "markdown",
   "metadata": {},
   "source": [
    "### Ejecutar una celda\n",
    "Basta combinar `shift` + `enter` para ejecutar el código que está dentro de la celda. Usaremos 2 tipos de celdas,  __Markdown__ con $\\LaTeX$ y las del lenguaje que hayas elegido en el notebook."
   ]
  },
  {
   "cell_type": "code",
   "execution_count": 89,
   "metadata": {},
   "outputs": [],
   "source": [
    "1+1;      #con punto y coma evitas que se imprima el resultado"
   ]
  },
  {
   "cell_type": "markdown",
   "metadata": {},
   "source": [
    "### Como consultar la documentación rápido"
   ]
  },
  {
   "cell_type": "code",
   "execution_count": 7,
   "metadata": {},
   "outputs": [
    {
     "name": "stdout",
     "output_type": "stream",
     "text": [
      "search: \u001b[0m\u001b[1mp\u001b[22m\u001b[0m\u001b[1mr\u001b[22m\u001b[0m\u001b[1mi\u001b[22m\u001b[0m\u001b[1mn\u001b[22m\u001b[0m\u001b[1mt\u001b[22m \u001b[0m\u001b[1mp\u001b[22m\u001b[0m\u001b[1mr\u001b[22m\u001b[0m\u001b[1mi\u001b[22m\u001b[0m\u001b[1mn\u001b[22m\u001b[0m\u001b[1mt\u001b[22mln \u001b[0m\u001b[1mp\u001b[22m\u001b[0m\u001b[1mr\u001b[22m\u001b[0m\u001b[1mi\u001b[22m\u001b[0m\u001b[1mn\u001b[22m\u001b[0m\u001b[1mt\u001b[22mstyled s\u001b[0m\u001b[1mp\u001b[22m\u001b[0m\u001b[1mr\u001b[22m\u001b[0m\u001b[1mi\u001b[22m\u001b[0m\u001b[1mn\u001b[22m\u001b[0m\u001b[1mt\u001b[22m is\u001b[0m\u001b[1mp\u001b[22m\u001b[0m\u001b[1mr\u001b[22m\u001b[0m\u001b[1mi\u001b[22m\u001b[0m\u001b[1mn\u001b[22m\u001b[0m\u001b[1mt\u001b[22m \u001b[0m\u001b[1mp\u001b[22m\u001b[0m\u001b[1mr\u001b[22mev\u001b[0m\u001b[1mi\u001b[22m\u001b[0m\u001b[1mn\u001b[22md \u001b[0m\u001b[1mp\u001b[22ma\u001b[0m\u001b[1mr\u001b[22ment\u001b[0m\u001b[1mi\u001b[22m\u001b[0m\u001b[1mn\u001b[22mdices \u001b[0m\u001b[1mp\u001b[22m\u001b[0m\u001b[1mr\u001b[22mec\u001b[0m\u001b[1mi\u001b[22msio\u001b[0m\u001b[1mn\u001b[22m\n",
      "\n"
     ]
    },
    {
     "data": {
      "text/latex": [
       "\\begin{verbatim}\n",
       "print([io::IO], xs...)\n",
       "\\end{verbatim}\n",
       "Write to \\texttt{io} (or to the default output stream \\href{@ref}{\\texttt{stdout}} if \\texttt{io} is not given) a canonical (un-decorated) text representation. The representation used by \\texttt{print} includes minimal formatting and tries to avoid Julia-specific details.\n",
       "\n",
       "\\texttt{print} falls back to calling \\texttt{show}, so most types should just define \\texttt{show}. Define \\texttt{print} if your type has a separate \"plain\" representation. For example, \\texttt{show} displays strings with quotes, and \\texttt{print} displays strings without quotes.\n",
       "\n",
       "\\href{@ref}{\\texttt{string}} returns the output of \\texttt{print} as a string.\n",
       "\n",
       "\\section{Examples}\n",
       "\\begin{verbatim}\n",
       "julia> print(\"Hello World!\")\n",
       "Hello World!\n",
       "julia> io = IOBuffer();\n",
       "\n",
       "julia> print(io, \"Hello\", ' ', :World!)\n",
       "\n",
       "julia> String(take!(io))\n",
       "\"Hello World!\"\n",
       "\\end{verbatim}\n"
      ],
      "text/markdown": [
       "```\n",
       "print([io::IO], xs...)\n",
       "```\n",
       "\n",
       "Write to `io` (or to the default output stream [`stdout`](@ref) if `io` is not given) a canonical (un-decorated) text representation. The representation used by `print` includes minimal formatting and tries to avoid Julia-specific details.\n",
       "\n",
       "`print` falls back to calling `show`, so most types should just define `show`. Define `print` if your type has a separate \"plain\" representation. For example, `show` displays strings with quotes, and `print` displays strings without quotes.\n",
       "\n",
       "[`string`](@ref) returns the output of `print` as a string.\n",
       "\n",
       "# Examples\n",
       "\n",
       "```jldoctest\n",
       "julia> print(\"Hello World!\")\n",
       "Hello World!\n",
       "julia> io = IOBuffer();\n",
       "\n",
       "julia> print(io, \"Hello\", ' ', :World!)\n",
       "\n",
       "julia> String(take!(io))\n",
       "\"Hello World!\"\n",
       "```\n"
      ],
      "text/plain": [
       "\u001b[36m  print([io::IO], xs...)\u001b[39m\n",
       "\n",
       "  Write to \u001b[36mio\u001b[39m (or to the default output stream \u001b[36mstdout\u001b[39m if \u001b[36mio\u001b[39m is not given) a\n",
       "  canonical (un-decorated) text representation. The representation used by\n",
       "  \u001b[36mprint\u001b[39m includes minimal formatting and tries to avoid Julia-specific details.\n",
       "\n",
       "  \u001b[36mprint\u001b[39m falls back to calling \u001b[36mshow\u001b[39m, so most types should just define \u001b[36mshow\u001b[39m.\n",
       "  Define \u001b[36mprint\u001b[39m if your type has a separate \"plain\" representation. For\n",
       "  example, \u001b[36mshow\u001b[39m displays strings with quotes, and \u001b[36mprint\u001b[39m displays strings\n",
       "  without quotes.\n",
       "\n",
       "  \u001b[36mstring\u001b[39m returns the output of \u001b[36mprint\u001b[39m as a string.\n",
       "\n",
       "\u001b[1m  Examples\u001b[22m\n",
       "\u001b[1m  ≡≡≡≡≡≡≡≡≡≡\u001b[22m\n",
       "\n",
       "\u001b[36m  julia> print(\"Hello World!\")\u001b[39m\n",
       "\u001b[36m  Hello World!\u001b[39m\n",
       "\u001b[36m  julia> io = IOBuffer();\u001b[39m\n",
       "\u001b[36m  \u001b[39m\n",
       "\u001b[36m  julia> print(io, \"Hello\", ' ', :World!)\u001b[39m\n",
       "\u001b[36m  \u001b[39m\n",
       "\u001b[36m  julia> String(take!(io))\u001b[39m\n",
       "\u001b[36m  \"Hello World!\"\u001b[39m"
      ]
     },
     "execution_count": 7,
     "metadata": {},
     "output_type": "execute_result"
    }
   ],
   "source": [
    "?print"
   ]
  },
  {
   "cell_type": "markdown",
   "metadata": {},
   "source": [
    "### Ejecutar comandos de shell"
   ]
  },
  {
   "cell_type": "code",
   "execution_count": 11,
   "metadata": {},
   "outputs": [
    {
     "name": "stdout",
     "output_type": "stream",
     "text": [
      "total 7916\n",
      "   4 -rw-r--r-- 1 bryand bryand    2040 may 29 20:26 brief.txt\n",
      "   4 drwxr-xr-x 2 bryand bryand    4096 may 29 12:16 img\n",
      "   4 -rw-r--r-- 1 bryand bryand     131 may 29 12:46 myscript.jl\n",
      "1240 -rw-r--r-- 1 bryand bryand 1266342 may 29 20:28 PRESENTACIÓN PROGRAMMATHON 2020.pdf\n",
      "6364 -rw-r--r-- 1 bryand bryand 6516668 may 29 20:27 PRESENTACIÓN PROGRAMMATHON 2020.pptx\n",
      " 300 -rw-r--r-- 1 bryand bryand  307070 may 30 12:06 Taller_QUARANTINE-HUB.ipynb\n"
     ]
    }
   ],
   "source": [
    ";ls -ls"
   ]
  },
  {
   "cell_type": "markdown",
   "metadata": {},
   "source": [
    "## Paquetes \n",
    "\n",
    "A la fecha hay más de 3 000 paquetes. \n",
    "\n",
    "Toda la documentación de Julia está centralizada y ordenada de manera eficiente. Y su control de versiones es muy poderoso. \n",
    "\n",
    "Es posible llamar codigo de Python o R usando los paquetes `PyCall` o `RCall`.\n",
    "\n",
    "Pueden consultar los paquetes em [juliaobserver](https://juliaobserver.com/),  [juliahub](https://juliahub.com/ui/Home) y [julia.jl](https://github.com/svaksha/Julia.jl).\n",
    "\n",
    "Para instalar un paquete hay que mandar a llamar al administrador de paqutes __Pkg__.\n",
    "\n"
   ]
  },
  {
   "cell_type": "code",
   "execution_count": 12,
   "metadata": {},
   "outputs": [],
   "source": [
    "using Pkg"
   ]
  },
  {
   "cell_type": "markdown",
   "metadata": {},
   "source": [
    "Luego con ayuda de este instalar el paquete. Entre comillas el nombre del paquete sin la extensión `.jl`."
   ]
  },
  {
   "cell_type": "code",
   "execution_count": 10,
   "metadata": {},
   "outputs": [
    {
     "name": "stdout",
     "output_type": "stream",
     "text": [
      "\u001b[32m\u001b[1m  Updating\u001b[22m\u001b[39m registry at `~/.julia/registries/General`\n",
      "\u001b[32m\u001b[1m  Updating\u001b[22m\u001b[39m git-repo `https://github.com/JuliaRegistries/General.git`\n",
      "\u001b[2K\u001b[?25h[1mFetching:\u001b[22m\u001b[39m [========================================>]  100.0 %.0 %\u001b[36m\u001b[1mFetching:\u001b[22m\u001b[39m [============================>            ]  68.8 %\u001b[32m\u001b[1m Resolving\u001b[22m\u001b[39m package versions...\n",
      "\u001b[32m\u001b[1m Installed\u001b[22m\u001b[39m Example ─ v0.5.3\n",
      "\u001b[32m\u001b[1m Installed\u001b[22m\u001b[39m Adapt ─── v1.1.0\n",
      "\u001b[32m\u001b[1m  Updating\u001b[22m\u001b[39m `~/.julia/environments/v1.3/Project.toml`\n",
      " \u001b[90m [7876af07]\u001b[39m\u001b[92m + Example v0.5.3\u001b[39m\n",
      "\u001b[32m\u001b[1m  Updating\u001b[22m\u001b[39m `~/.julia/environments/v1.3/Manifest.toml`\n",
      " \u001b[90m [79e6a3ab]\u001b[39m\u001b[93m ↑ Adapt v1.0.1 ⇒ v1.1.0\u001b[39m\n",
      " \u001b[90m [7876af07]\u001b[39m\u001b[92m + Example v0.5.3\u001b[39m\n"
     ]
    }
   ],
   "source": [
    "Pkg.add(\"Example\") #la instalación solo se hace una vez"
   ]
  },
  {
   "cell_type": "markdown",
   "metadata": {},
   "source": [
    "Después solo lo usamos. Lo mandamos a llamar cada vez iniciemos el notebook (el script)."
   ]
  },
  {
   "cell_type": "code",
   "execution_count": 11,
   "metadata": {},
   "outputs": [
    {
     "name": "stderr",
     "output_type": "stream",
     "text": [
      "┌ Info: Precompiling Example [7876af07-990d-54b4-ab0e-23690620f79a]\n",
      "└ @ Base loading.jl:1273\n"
     ]
    }
   ],
   "source": [
    "using Example    #la primera vez se compila"
   ]
  },
  {
   "cell_type": "markdown",
   "metadata": {},
   "source": [
    "En el caso de tener un script local, i.e. en el mismo directorio. Usamos la instrucción `include`"
   ]
  },
  {
   "cell_type": "code",
   "execution_count": 13,
   "metadata": {},
   "outputs": [
    {
     "data": {
      "text/plain": [
       "sum1 (generic function with 1 method)"
      ]
     },
     "execution_count": 13,
     "metadata": {},
     "output_type": "execute_result"
    }
   ],
   "source": [
    "include(\"./myscript.jl\")"
   ]
  },
  {
   "cell_type": "code",
   "execution_count": null,
   "metadata": {},
   "outputs": [],
   "source": []
  },
  {
   "cell_type": "markdown",
   "metadata": {},
   "source": [
    "## Empezamos con Julia"
   ]
  },
  {
   "cell_type": "markdown",
   "metadata": {},
   "source": [
    "### Imprimir texto"
   ]
  },
  {
   "cell_type": "code",
   "execution_count": 17,
   "metadata": {},
   "outputs": [
    {
     "name": "stdout",
     "output_type": "stream",
     "text": [
      "Este es un textoEste es un texto"
     ]
    }
   ],
   "source": [
    "print(\"Este es un texto\")\n",
    "print(\"Este es un texto\")"
   ]
  },
  {
   "cell_type": "code",
   "execution_count": 15,
   "metadata": {},
   "outputs": [
    {
     "name": "stdout",
     "output_type": "stream",
     "text": [
      "Este es un texto con salto de líne incluido\n",
      "Este es un texto con salto de líne incluido\n"
     ]
    }
   ],
   "source": [
    "println(\"Este es un texto con salto de líne incluido\")\n",
    "println(\"Este es un texto con salto de líne incluido\")"
   ]
  },
  {
   "cell_type": "markdown",
   "metadata": {},
   "source": [
    "### Asignar variables"
   ]
  },
  {
   "cell_type": "code",
   "execution_count": 19,
   "metadata": {},
   "outputs": [
    {
     "data": {
      "text/plain": [
       "Int64"
      ]
     },
     "execution_count": 19,
     "metadata": {},
     "output_type": "execute_result"
    }
   ],
   "source": [
    "var1 = 42\n",
    "typeof(var1)"
   ]
  },
  {
   "cell_type": "code",
   "execution_count": 21,
   "metadata": {},
   "outputs": [
    {
     "data": {
      "text/plain": [
       "Float64"
      ]
     },
     "execution_count": 21,
     "metadata": {},
     "output_type": "execute_result"
    }
   ],
   "source": [
    "var2 = 42.0\n",
    "typeof(var2)"
   ]
  },
  {
   "cell_type": "code",
   "execution_count": 26,
   "metadata": {},
   "outputs": [
    {
     "data": {
      "text/plain": [
       "String"
      ]
     },
     "execution_count": 26,
     "metadata": {},
     "output_type": "execute_result"
    }
   ],
   "source": [
    "😃 = \"carita sonriente \"\n",
    "😸 = 89\n",
    "β = \"letra griega beta\" \n",
    "ä =12\n",
    "typeof(😃)\n",
    "typeof(β)"
   ]
  },
  {
   "cell_type": "code",
   "execution_count": 28,
   "metadata": {},
   "outputs": [
    {
     "data": {
      "text/plain": [
       "Float64"
      ]
     },
     "execution_count": 28,
     "metadata": {},
     "output_type": "execute_result"
    }
   ],
   "source": [
    "var3 = var1 + var2\n",
    "#typeof(var3)"
   ]
  },
  {
   "cell_type": "code",
   "execution_count": 29,
   "metadata": {},
   "outputs": [
    {
     "data": {
      "text/plain": [
       "\"carita sonriente letra griega beta\""
      ]
     },
     "execution_count": 29,
     "metadata": {},
     "output_type": "execute_result"
    }
   ],
   "source": [
    "😃*β"
   ]
  },
  {
   "cell_type": "markdown",
   "metadata": {},
   "source": [
    "### Comentarios"
   ]
  },
  {
   "cell_type": "code",
   "execution_count": 60,
   "metadata": {},
   "outputs": [],
   "source": [
    "# Un comentario de una sola linea"
   ]
  },
  {
   "cell_type": "code",
   "execution_count": 59,
   "metadata": {},
   "outputs": [],
   "source": [
    "#=\n",
    "Un \n",
    "comentario \n",
    "de \n",
    "varias \n",
    "líneas\n",
    "=#"
   ]
  },
  {
   "cell_type": "markdown",
   "metadata": {},
   "source": [
    "### Operaciones matemáticas"
   ]
  },
  {
   "cell_type": "code",
   "execution_count": 170,
   "metadata": {},
   "outputs": [
    {
     "data": {
      "text/plain": [
       "0"
      ]
     },
     "execution_count": 170,
     "metadata": {},
     "output_type": "execute_result"
    }
   ],
   "source": [
    "1 + 3  #suma\n",
    "\n",
    "5 - 4  #resta\n",
    "\n",
    "1*3    #multiplicación (3x)\n",
    "\n",
    "60/6   #división\n",
    "\n",
    "3//4   #división entera (racional)\n",
    "\n",
    "10^3   #potencia\n",
    "\n",
    "4%4    #modulo"
   ]
  },
  {
   "cell_type": "code",
   "execution_count": 31,
   "metadata": {},
   "outputs": [
    {
     "data": {
      "text/plain": [
       "Rational{Int64}"
      ]
     },
     "execution_count": 31,
     "metadata": {},
     "output_type": "execute_result"
    }
   ],
   "source": [
    "4//5 + 1//5\n",
    "\n",
    "typeof(4//5 + 1//5)"
   ]
  },
  {
   "cell_type": "code",
   "execution_count": 32,
   "metadata": {},
   "outputs": [
    {
     "data": {
      "text/plain": [
       "34.0"
      ]
     },
     "execution_count": 32,
     "metadata": {},
     "output_type": "execute_result"
    }
   ],
   "source": [
    "z = 34.0"
   ]
  },
  {
   "cell_type": "code",
   "execution_count": 33,
   "metadata": {},
   "outputs": [
    {
     "data": {
      "text/plain": [
       "102.0"
      ]
     },
     "execution_count": 33,
     "metadata": {},
     "output_type": "execute_result"
    }
   ],
   "source": [
    "3z"
   ]
  },
  {
   "cell_type": "markdown",
   "metadata": {},
   "source": [
    "### Cadenas "
   ]
  },
  {
   "cell_type": "code",
   "execution_count": 36,
   "metadata": {},
   "outputs": [
    {
     "data": {
      "text/plain": [
       "Char"
      ]
     },
     "execution_count": 36,
     "metadata": {},
     "output_type": "execute_result"
    }
   ],
   "source": [
    "cadena1 = \"Soy una cadena\"\n",
    "cadena2 = \"\"\"También yo \"soy\" una cadena\"\"\"\n",
    "\n",
    "#typeof(cadena1)\n",
    "#typeof('a')"
   ]
  },
  {
   "cell_type": "markdown",
   "metadata": {},
   "source": [
    "Interpolación y concatenación"
   ]
  },
  {
   "cell_type": "code",
   "execution_count": 38,
   "metadata": {},
   "outputs": [],
   "source": [
    "cadena1 = \"Hoy es un día bonito \"\n",
    "cadena2 = \"y además hay flores por ahí\"\n",
    "Nflores = 15;"
   ]
  },
  {
   "cell_type": "code",
   "execution_count": 41,
   "metadata": {},
   "outputs": [
    {
     "name": "stdout",
     "output_type": "stream",
     "text": [
      "Hay 15 flores allá afuera\n"
     ]
    }
   ],
   "source": [
    "#println(\"Hay $Nflores flores allá afuera\")                    #Interpolación\n",
    "#println(\"Hay \", Nflores, \" flores allá afuera\")\n",
    "\n",
    "#string(\"Hay\", Nflores, \" flores allá afuera\") \n",
    "\n",
    "#cadena1*cadena2                                               #Concatenación\n",
    "\n",
    "#cadena1^1000"
   ]
  },
  {
   "cell_type": "markdown",
   "metadata": {},
   "source": [
    "## Estructuras de datos"
   ]
  },
  {
   "cell_type": "markdown",
   "metadata": {},
   "source": [
    "### Tuplas"
   ]
  },
  {
   "cell_type": "code",
   "execution_count": 47,
   "metadata": {},
   "outputs": [
    {
     "data": {
      "text/plain": [
       "\"Solaris\""
      ]
     },
     "execution_count": 47,
     "metadata": {},
     "output_type": "execute_result"
    }
   ],
   "source": [
    "pelis = (\"Solaris\", \"Cinema Paradiso\", \"Mulan\")\n",
    "#pelis[1]        #Julia empieza a contar desde 1 \n",
    "\n",
    "#pelis[1] = \"Nemo\"   #Las tuplas no se pueden moficar\n",
    "\n",
    "#typeof(pelis)"
   ]
  },
  {
   "cell_type": "markdown",
   "metadata": {},
   "source": [
    "### Diccionarios"
   ]
  },
  {
   "cell_type": "code",
   "execution_count": 91,
   "metadata": {},
   "outputs": [
    {
     "data": {
      "text/plain": [
       "Dict{String,String} with 2 entries:\n",
       "  \"mamá\"   => \"12345\"\n",
       "  \"amigo1\" => \"54321\""
      ]
     },
     "execution_count": 91,
     "metadata": {},
     "output_type": "execute_result"
    }
   ],
   "source": [
    "tels = Dict(\"mamá\" => \"12345\", \"amigo1\" => \"54321\")\n",
    "\n",
    "#tels[\"mamá\"]\n",
    "\n",
    "#tels[\"primo\"] = \"09876\"  #Podemos agragar más elemtos\n",
    "\n",
    "#tels\n",
    "\n",
    "#pop!(tels, \"primo\")\n",
    "\n",
    "#tels\n",
    "\n",
    "#tels[1]              #Los diccionarios no están ordenados"
   ]
  },
  {
   "cell_type": "markdown",
   "metadata": {},
   "source": [
    "### Arreglos"
   ]
  },
  {
   "cell_type": "code",
   "execution_count": 64,
   "metadata": {},
   "outputs": [
    {
     "data": {
      "text/plain": [
       "7-element Array{Int64,1}:\n",
       "  2\n",
       "  3\n",
       "  5\n",
       "  7\n",
       " 11\n",
       " 13\n",
       " 17"
      ]
     },
     "execution_count": 64,
     "metadata": {},
     "output_type": "execute_result"
    }
   ],
   "source": [
    "libros = [\"Harry Potter\", \"The Lord of the Rings\", \"Rayuela\"]\n",
    "#libros[1]\n",
    "#libros[1] = \"The hobbit\"\n",
    "#libros\n",
    "\n",
    "\n",
    "#primos = [2, 3, 5, 7, 11, 13, 17]\n",
    "#push!(primos, 19)\n",
    "#primos\n",
    "#pop!(primos)\n",
    "#primos"
   ]
  },
  {
   "cell_type": "code",
   "execution_count": 70,
   "metadata": {},
   "outputs": [
    {
     "data": {
      "text/plain": [
       "5×4 Array{Float64,2}:\n",
       " 0.912894  0.729606  0.982973  0.389285\n",
       " 0.528348  0.206693  0.154178  0.213888\n",
       " 0.425576  0.902276  0.608483  0.85147 \n",
       " 0.412681  0.257159  0.438723  0.586547\n",
       " 0.902065  0.788838  0.476746  0.682695"
      ]
     },
     "execution_count": 70,
     "metadata": {},
     "output_type": "execute_result"
    }
   ],
   "source": [
    "rand(5, 4)      #Pueden existir Arreglos de más dimensiones"
   ]
  },
  {
   "cell_type": "markdown",
   "metadata": {},
   "source": [
    "## Estructuras de control"
   ]
  },
  {
   "cell_type": "markdown",
   "metadata": {},
   "source": [
    "### For\n",
    "\n",
    "```julia\n",
    "for VAR in CICLOITERABLE\n",
    "    CUERPO\n",
    "end\n",
    "```"
   ]
  },
  {
   "cell_type": "code",
   "execution_count": 73,
   "metadata": {},
   "outputs": [
    {
     "name": "stdout",
     "output_type": "stream",
     "text": [
      "1\n",
      "2\n",
      "3\n",
      "4\n",
      "5\n",
      "6\n",
      "7\n",
      "8\n",
      "9\n",
      "10\n"
     ]
    }
   ],
   "source": [
    "for i in 1:10 \n",
    "    println(i) \n",
    "end"
   ]
  },
  {
   "cell_type": "code",
   "execution_count": 117,
   "metadata": {},
   "outputs": [
    {
     "name": "stdout",
     "output_type": "stream",
     "text": [
      "Tengo que comprar huevo.\n",
      "Tengo que comprar lechuga.\n",
      "Tengo que comprar frijoles.\n",
      "Tengo que comprar arroz.\n"
     ]
    }
   ],
   "source": [
    "listaDeCompras = [\"huevo\", \"lechuga\", \"frijoles\", \"arroz\"]\n",
    "\n",
    "for producto in listaDeCompras #Mejora el rendimiento\n",
    "    println(\"Tengo que comprar \", producto, \".\")\n",
    "end"
   ]
  },
  {
   "cell_type": "code",
   "execution_count": 74,
   "metadata": {},
   "outputs": [
    {
     "data": {
      "text/plain": [
       "5×5 Array{Int64,2}:\n",
       " 0  0  0  0  0\n",
       " 0  0  0  0  0\n",
       " 0  0  0  0  0\n",
       " 0  0  0  0  0\n",
       " 0  0  0  0  0"
      ]
     },
     "execution_count": 74,
     "metadata": {},
     "output_type": "execute_result"
    }
   ],
   "source": [
    "n = 5\n",
    "A = fill(0, (n, n))"
   ]
  },
  {
   "cell_type": "code",
   "execution_count": 75,
   "metadata": {},
   "outputs": [
    {
     "data": {
      "text/plain": [
       "5×5 Array{Int64,2}:\n",
       " 2  3  4  5   6\n",
       " 3  4  5  6   7\n",
       " 4  5  6  7   8\n",
       " 5  6  7  8   9\n",
       " 6  7  8  9  10"
      ]
     },
     "execution_count": 75,
     "metadata": {},
     "output_type": "execute_result"
    }
   ],
   "source": [
    "for j in 1:n\n",
    "    for i in 1:n\n",
    "        A[i, j] = i + j\n",
    "    end\n",
    "end\n",
    "A"
   ]
  },
  {
   "cell_type": "code",
   "execution_count": 76,
   "metadata": {},
   "outputs": [
    {
     "data": {
      "text/plain": [
       "5×5 Array{Int64,2}:\n",
       " 0  0  0  0  0\n",
       " 0  0  0  0  0\n",
       " 0  0  0  0  0\n",
       " 0  0  0  0  0\n",
       " 0  0  0  0  0"
      ]
     },
     "execution_count": 76,
     "metadata": {},
     "output_type": "execute_result"
    }
   ],
   "source": [
    "B = fill(0, (n, n))"
   ]
  },
  {
   "cell_type": "code",
   "execution_count": 77,
   "metadata": {},
   "outputs": [
    {
     "data": {
      "text/plain": [
       "5×5 Array{Int64,2}:\n",
       " 2  3  4  5   6\n",
       " 3  4  5  6   7\n",
       " 4  5  6  7   8\n",
       " 5  6  7  8   9\n",
       " 6  7  8  9  10"
      ]
     },
     "execution_count": 77,
     "metadata": {},
     "output_type": "execute_result"
    }
   ],
   "source": [
    "for j in 1:n, i in 1:n\n",
    "    B[i, j] = i + j\n",
    "end\n",
    "B"
   ]
  },
  {
   "cell_type": "code",
   "execution_count": 78,
   "metadata": {},
   "outputs": [
    {
     "data": {
      "text/plain": [
       "5×5 Array{Int64,2}:\n",
       " 2  3  4  5   6\n",
       " 3  4  5  6   7\n",
       " 4  5  6  7   8\n",
       " 5  6  7  8   9\n",
       " 6  7  8  9  10"
      ]
     },
     "execution_count": 78,
     "metadata": {},
     "output_type": "execute_result"
    }
   ],
   "source": [
    "C = [i + j for i in 1:n, j in 1:n]"
   ]
  },
  {
   "cell_type": "markdown",
   "metadata": {},
   "source": [
    "### While\n",
    "\n",
    "```julia\n",
    "while CONDICION\n",
    "    CUERPO\n",
    "end\n",
    "```"
   ]
  },
  {
   "cell_type": "code",
   "execution_count": 79,
   "metadata": {},
   "outputs": [
    {
     "name": "stdout",
     "output_type": "stream",
     "text": [
      "0\n",
      "1\n",
      "2\n",
      "3\n",
      "4\n",
      "5\n",
      "6\n",
      "7\n",
      "8\n",
      "9\n"
     ]
    },
    {
     "data": {
      "text/plain": [
       "10"
      ]
     },
     "execution_count": 79,
     "metadata": {},
     "output_type": "execute_result"
    }
   ],
   "source": [
    "n = 0          #Condición inicial\n",
    "while n < 10 \n",
    "    println(n)\n",
    "    n += 1 \n",
    "end\n",
    "n"
   ]
  },
  {
   "cell_type": "markdown",
   "metadata": {},
   "source": [
    "### If\n",
    "\n",
    "Sintaxis\n",
    "```julia\n",
    "if CONDICION_1\n",
    "    OPCION_1\n",
    "elseif CONDICION_2\n",
    "    OPCION_2\n",
    "else\n",
    "    OPCION_3\n",
    "end\n",
    "```"
   ]
  },
  {
   "cell_type": "code",
   "execution_count": 80,
   "metadata": {},
   "outputs": [
    {
     "name": "stdout",
     "output_type": "stream",
     "text": [
      "Negativo"
     ]
    }
   ],
   "source": [
    "N = -2\n",
    "\n",
    "if(N<0)\n",
    "    print(\"Negativo\")\n",
    "elseif N>0\n",
    "    print(\"positivo\")\n",
    "else\n",
    "    print(N)\n",
    "end"
   ]
  },
  {
   "cell_type": "markdown",
   "metadata": {},
   "source": [
    "La otra forma de definir un `if` es con operadores ternarios\n",
    "\n",
    "```julia\n",
    "a ? b : c\n",
    "```\n",
    "es igual a \n",
    "\n",
    "```julia\n",
    "if a\n",
    "    b\n",
    "else\n",
    "    c\n",
    "end\n",
    "```"
   ]
  },
  {
   "cell_type": "code",
   "execution_count": 83,
   "metadata": {},
   "outputs": [
    {
     "name": "stdout",
     "output_type": "stream",
     "text": [
      "3"
     ]
    }
   ],
   "source": [
    "x = 3\n",
    "y = 2\n",
    "\n",
    "x>y ? print(x) : print(y)"
   ]
  },
  {
   "cell_type": "markdown",
   "metadata": {},
   "source": [
    "## Funciones\n",
    "\n",
    "### Definición de funciones"
   ]
  },
  {
   "cell_type": "code",
   "execution_count": 97,
   "metadata": {},
   "outputs": [
    {
     "data": {
      "text/plain": [
       "f1 (generic function with 1 method)"
      ]
     },
     "execution_count": 97,
     "metadata": {},
     "output_type": "execute_result"
    }
   ],
   "source": [
    "function f1(x)   \n",
    "    #=Documentación=# \n",
    "    return x^2\n",
    "end     #return"
   ]
  },
  {
   "cell_type": "code",
   "execution_count": 96,
   "metadata": {},
   "outputs": [
    {
     "data": {
      "text/plain": [
       "0"
      ]
     },
     "execution_count": 96,
     "metadata": {},
     "output_type": "execute_result"
    }
   ],
   "source": [
    "f1(3)"
   ]
  },
  {
   "cell_type": "code",
   "execution_count": 98,
   "metadata": {},
   "outputs": [
    {
     "data": {
      "text/plain": [
       "f2 (generic function with 1 method)"
      ]
     },
     "execution_count": 98,
     "metadata": {},
     "output_type": "execute_result"
    }
   ],
   "source": [
    "f2(x) = x^2 #Una sola linea"
   ]
  },
  {
   "cell_type": "code",
   "execution_count": 99,
   "metadata": {},
   "outputs": [
    {
     "data": {
      "text/plain": [
       "9"
      ]
     },
     "execution_count": 99,
     "metadata": {},
     "output_type": "execute_result"
    }
   ],
   "source": [
    "f2(3)"
   ]
  },
  {
   "cell_type": "code",
   "execution_count": 101,
   "metadata": {},
   "outputs": [
    {
     "data": {
      "text/plain": [
       "#7 (generic function with 1 method)"
      ]
     },
     "execution_count": 101,
     "metadata": {},
     "output_type": "execute_result"
    }
   ],
   "source": [
    "f3 = x -> x^2   #Función anónima"
   ]
  },
  {
   "cell_type": "code",
   "execution_count": 102,
   "metadata": {},
   "outputs": [
    {
     "name": "stdout",
     "output_type": "stream",
     "text": [
      "16 16 16"
     ]
    }
   ],
   "source": [
    "n = 4\n",
    "print(f1(n),\" \" ,f2(n), \" \" ,f3(n))"
   ]
  },
  {
   "cell_type": "code",
   "execution_count": 103,
   "metadata": {},
   "outputs": [],
   "source": [
    "ξ = f1;"
   ]
  },
  {
   "cell_type": "code",
   "execution_count": 104,
   "metadata": {},
   "outputs": [
    {
     "data": {
      "text/plain": [
       "100"
      ]
     },
     "execution_count": 104,
     "metadata": {},
     "output_type": "execute_result"
    }
   ],
   "source": [
    "ξ(10)"
   ]
  },
  {
   "cell_type": "markdown",
   "metadata": {},
   "source": [
    "### Funciones de orden  superior"
   ]
  },
  {
   "cell_type": "code",
   "execution_count": 105,
   "metadata": {},
   "outputs": [
    {
     "data": {
      "text/plain": [
       "5-element Array{Int64,1}:\n",
       "  1\n",
       "  4\n",
       "  9\n",
       " 16\n",
       " 25"
      ]
     },
     "execution_count": 105,
     "metadata": {},
     "output_type": "execute_result"
    }
   ],
   "source": [
    "#map\n",
    "map(f3, [1, 2, 3, 4, 5])"
   ]
  },
  {
   "cell_type": "code",
   "execution_count": 106,
   "metadata": {},
   "outputs": [
    {
     "data": {
      "text/plain": [
       "5-element Array{Float64,1}:\n",
       " 1.0\n",
       " 2.0\n",
       " 3.0\n",
       " 4.0\n",
       " 5.0"
      ]
     },
     "execution_count": 106,
     "metadata": {},
     "output_type": "execute_result"
    }
   ],
   "source": [
    "map(x->sqrt(x), [1, 4, 9, 16, 25])"
   ]
  },
  {
   "cell_type": "code",
   "execution_count": 107,
   "metadata": {},
   "outputs": [
    {
     "data": {
      "text/plain": [
       "5-element Array{Int64,1}:\n",
       "  1\n",
       "  4\n",
       "  9\n",
       " 16\n",
       " 25"
      ]
     },
     "execution_count": 107,
     "metadata": {},
     "output_type": "execute_result"
    }
   ],
   "source": [
    "#broadcast\n",
    "broadcast(f3, [1, 2, 3, 4, 5])"
   ]
  },
  {
   "cell_type": "code",
   "execution_count": 109,
   "metadata": {},
   "outputs": [
    {
     "data": {
      "text/plain": [
       "5-element Array{Int64,1}:\n",
       "   1\n",
       "   8\n",
       "  27\n",
       "  64\n",
       " 125"
      ]
     },
     "execution_count": 109,
     "metadata": {},
     "output_type": "execute_result"
    }
   ],
   "source": [
    "#versión abreviada\n",
    "a = [1, 2, 3, 4, 5]\n",
    "f3.(a)\n",
    "\n",
    "a.^3"
   ]
  },
  {
   "cell_type": "code",
   "execution_count": 110,
   "metadata": {},
   "outputs": [
    {
     "data": {
      "text/plain": [
       "5×5 Array{Int64,2}:\n",
       " 2  3  4  5   6\n",
       " 3  4  5  6   7\n",
       " 4  5  6  7   8\n",
       " 5  6  7  8   9\n",
       " 6  7  8  9  10"
      ]
     },
     "execution_count": 110,
     "metadata": {},
     "output_type": "execute_result"
    }
   ],
   "source": [
    "C = [i + j for i in 1:5, j in 1:5]"
   ]
  },
  {
   "cell_type": "code",
   "execution_count": 111,
   "metadata": {},
   "outputs": [
    {
     "data": {
      "text/plain": [
       "5×5 Array{Int64,2}:\n",
       "  90  110  130  150  170\n",
       " 110  135  160  185  210\n",
       " 130  160  190  220  250\n",
       " 150  185  220  255  290\n",
       " 170  210  250  290  330"
      ]
     },
     "execution_count": 111,
     "metadata": {},
     "output_type": "execute_result"
    }
   ],
   "source": [
    "f1(C)  #C^2 = C*C     #md"
   ]
  },
  {
   "cell_type": "code",
   "execution_count": 112,
   "metadata": {},
   "outputs": [
    {
     "data": {
      "text/plain": [
       "5×5 Array{Int64,2}:\n",
       "  4   9  16  25   36\n",
       "  9  16  25  36   49\n",
       " 16  25  36  49   64\n",
       " 25  36  49  64   81\n",
       " 36  49  64  81  100"
      ]
     },
     "execution_count": 112,
     "metadata": {},
     "output_type": "execute_result"
    }
   ],
   "source": [
    "f1.(C)"
   ]
  },
  {
   "cell_type": "code",
   "execution_count": 113,
   "metadata": {},
   "outputs": [
    {
     "data": {
      "text/plain": [
       "5×5 Array{Int64,2}:\n",
       "  4   9  16  25   36\n",
       "  9  16  25  36   49\n",
       " 16  25  36  49   64\n",
       " 25  36  49  64   81\n",
       " 36  49  64  81  100"
      ]
     },
     "execution_count": 113,
     "metadata": {},
     "output_type": "execute_result"
    }
   ],
   "source": [
    "C.^2"
   ]
  },
  {
   "cell_type": "code",
   "execution_count": 114,
   "metadata": {},
   "outputs": [
    {
     "data": {
      "text/plain": [
       "5×5 Array{Int64,2}:\n",
       " 177004  218009  259016  300025  341036\n",
       " 218009  268516  319025  369536  420049\n",
       " 259016  319025  379036  439049  499064\n",
       " 300025  369536  439049  508564  578081\n",
       " 341036  420049  499064  578081  657100"
      ]
     },
     "execution_count": 114,
     "metadata": {},
     "output_type": "execute_result"
    }
   ],
   "source": [
    "k = C.^2 + 2C^4 "
   ]
  },
  {
   "cell_type": "markdown",
   "metadata": {},
   "source": [
    "### Mutating Functions\n",
    "\n",
    "Las funciones que no lo son, dejan invariante al argumento, y devuelven un resultado que no se coloca en el mismo espacio de memoria. Las que si lo son, tiene un `!` al final y modifican directamente al objeto que toman como argumento."
   ]
  },
  {
   "cell_type": "code",
   "execution_count": 119,
   "metadata": {},
   "outputs": [
    {
     "name": "stdout",
     "output_type": "stream",
     "text": [
      "[3, 4, 6, 7, 8, 10]"
     ]
    }
   ],
   "source": [
    "v = [6, 4, 3, 7, 8, 10]\n",
    "sort(v)\n",
    "#print(v)\n",
    "sort!(v)\n",
    "print(v)"
   ]
  },
  {
   "cell_type": "markdown",
   "metadata": {},
   "source": [
    "## Gráficas\n",
    "\n",
    "En Julia hay varias maneras de graficar. El paquete nativo es `Plots`. Pero también se pueden usar `PyPlot` y `ggplot`."
   ]
  },
  {
   "cell_type": "code",
   "execution_count": 120,
   "metadata": {},
   "outputs": [],
   "source": [
    "using Plots"
   ]
  },
  {
   "cell_type": "code",
   "execution_count": null,
   "metadata": {},
   "outputs": [],
   "source": []
  },
  {
   "cell_type": "code",
   "execution_count": 121,
   "metadata": {},
   "outputs": [],
   "source": [
    "x = [i for i in 1:10]\n",
    "y = x.^2;"
   ]
  },
  {
   "cell_type": "code",
   "execution_count": 122,
   "metadata": {},
   "outputs": [
    {
     "data": {
      "image/svg+xml": [
       "<?xml version=\"1.0\" encoding=\"utf-8\"?>\n",
       "<svg xmlns=\"http://www.w3.org/2000/svg\" xmlns:xlink=\"http://www.w3.org/1999/xlink\" width=\"600\" height=\"400\" viewBox=\"0 0 2400 1600\">\n",
       "<defs>\n",
       "  <clipPath id=\"clip710\">\n",
       "    <rect x=\"0\" y=\"0\" width=\"2400\" height=\"1600\"/>\n",
       "  </clipPath>\n",
       "</defs>\n",
       "<path clip-path=\"url(#clip710)\" d=\"\n",
       "M0 1600 L2400 1600 L2400 0 L0 0  Z\n",
       "  \" fill=\"#ffffff\" fill-rule=\"evenodd\" fill-opacity=\"1\"/>\n",
       "<defs>\n",
       "  <clipPath id=\"clip711\">\n",
       "    <rect x=\"480\" y=\"0\" width=\"1681\" height=\"1600\"/>\n",
       "  </clipPath>\n",
       "</defs>\n",
       "<path clip-path=\"url(#clip710)\" d=\"\n",
       "M161.598 1486.45 L2352.76 1486.45 L2352.76 47.2441 L161.598 47.2441  Z\n",
       "  \" fill=\"#ffffff\" fill-rule=\"evenodd\" fill-opacity=\"1\"/>\n",
       "<defs>\n",
       "  <clipPath id=\"clip712\">\n",
       "    <rect x=\"161\" y=\"47\" width=\"2192\" height=\"1440\"/>\n",
       "  </clipPath>\n",
       "</defs>\n",
       "<polyline clip-path=\"url(#clip712)\" style=\"stroke:#000000; stroke-width:2; stroke-opacity:0.1; fill:none\" points=\"\n",
       "  453.293,1486.45 453.293,47.2441 \n",
       "  \"/>\n",
       "<polyline clip-path=\"url(#clip712)\" style=\"stroke:#000000; stroke-width:2; stroke-opacity:0.1; fill:none\" points=\"\n",
       "  912.655,1486.45 912.655,47.2441 \n",
       "  \"/>\n",
       "<polyline clip-path=\"url(#clip712)\" style=\"stroke:#000000; stroke-width:2; stroke-opacity:0.1; fill:none\" points=\"\n",
       "  1372.02,1486.45 1372.02,47.2441 \n",
       "  \"/>\n",
       "<polyline clip-path=\"url(#clip712)\" style=\"stroke:#000000; stroke-width:2; stroke-opacity:0.1; fill:none\" points=\"\n",
       "  1831.38,1486.45 1831.38,47.2441 \n",
       "  \"/>\n",
       "<polyline clip-path=\"url(#clip712)\" style=\"stroke:#000000; stroke-width:2; stroke-opacity:0.1; fill:none\" points=\"\n",
       "  2290.74,1486.45 2290.74,47.2441 \n",
       "  \"/>\n",
       "<polyline clip-path=\"url(#clip712)\" style=\"stroke:#000000; stroke-width:2; stroke-opacity:0.1; fill:none\" points=\"\n",
       "  161.598,1459.43 2352.76,1459.43 \n",
       "  \"/>\n",
       "<polyline clip-path=\"url(#clip712)\" style=\"stroke:#000000; stroke-width:2; stroke-opacity:0.1; fill:none\" points=\"\n",
       "  161.598,1116.57 2352.76,1116.57 \n",
       "  \"/>\n",
       "<polyline clip-path=\"url(#clip712)\" style=\"stroke:#000000; stroke-width:2; stroke-opacity:0.1; fill:none\" points=\"\n",
       "  161.598,773.703 2352.76,773.703 \n",
       "  \"/>\n",
       "<polyline clip-path=\"url(#clip712)\" style=\"stroke:#000000; stroke-width:2; stroke-opacity:0.1; fill:none\" points=\"\n",
       "  161.598,430.84 2352.76,430.84 \n",
       "  \"/>\n",
       "<polyline clip-path=\"url(#clip712)\" style=\"stroke:#000000; stroke-width:2; stroke-opacity:0.1; fill:none\" points=\"\n",
       "  161.598,87.9763 2352.76,87.9763 \n",
       "  \"/>\n",
       "<polyline clip-path=\"url(#clip710)\" style=\"stroke:#000000; stroke-width:4; stroke-opacity:1; fill:none\" points=\"\n",
       "  161.598,1486.45 2352.76,1486.45 \n",
       "  \"/>\n",
       "<polyline clip-path=\"url(#clip710)\" style=\"stroke:#000000; stroke-width:4; stroke-opacity:1; fill:none\" points=\"\n",
       "  161.598,1486.45 161.598,47.2441 \n",
       "  \"/>\n",
       "<polyline clip-path=\"url(#clip710)\" style=\"stroke:#000000; stroke-width:4; stroke-opacity:1; fill:none\" points=\"\n",
       "  453.293,1486.45 453.293,1469.18 \n",
       "  \"/>\n",
       "<polyline clip-path=\"url(#clip710)\" style=\"stroke:#000000; stroke-width:4; stroke-opacity:1; fill:none\" points=\"\n",
       "  912.655,1486.45 912.655,1469.18 \n",
       "  \"/>\n",
       "<polyline clip-path=\"url(#clip710)\" style=\"stroke:#000000; stroke-width:4; stroke-opacity:1; fill:none\" points=\"\n",
       "  1372.02,1486.45 1372.02,1469.18 \n",
       "  \"/>\n",
       "<polyline clip-path=\"url(#clip710)\" style=\"stroke:#000000; stroke-width:4; stroke-opacity:1; fill:none\" points=\"\n",
       "  1831.38,1486.45 1831.38,1469.18 \n",
       "  \"/>\n",
       "<polyline clip-path=\"url(#clip710)\" style=\"stroke:#000000; stroke-width:4; stroke-opacity:1; fill:none\" points=\"\n",
       "  2290.74,1486.45 2290.74,1469.18 \n",
       "  \"/>\n",
       "<polyline clip-path=\"url(#clip710)\" style=\"stroke:#000000; stroke-width:4; stroke-opacity:1; fill:none\" points=\"\n",
       "  161.598,1459.43 187.892,1459.43 \n",
       "  \"/>\n",
       "<polyline clip-path=\"url(#clip710)\" style=\"stroke:#000000; stroke-width:4; stroke-opacity:1; fill:none\" points=\"\n",
       "  161.598,1116.57 187.892,1116.57 \n",
       "  \"/>\n",
       "<polyline clip-path=\"url(#clip710)\" style=\"stroke:#000000; stroke-width:4; stroke-opacity:1; fill:none\" points=\"\n",
       "  161.598,773.703 187.892,773.703 \n",
       "  \"/>\n",
       "<polyline clip-path=\"url(#clip710)\" style=\"stroke:#000000; stroke-width:4; stroke-opacity:1; fill:none\" points=\"\n",
       "  161.598,430.84 187.892,430.84 \n",
       "  \"/>\n",
       "<polyline clip-path=\"url(#clip710)\" style=\"stroke:#000000; stroke-width:4; stroke-opacity:1; fill:none\" points=\"\n",
       "  161.598,87.9763 187.892,87.9763 \n",
       "  \"/>\n",
       "<path clip-path=\"url(#clip710)\" d=\"M 0 0 M447.946 1535.98 L464.265 1535.98 L464.265 1539.92 L442.321 1539.92 L442.321 1535.98 Q444.983 1533.23 449.566 1528.6 Q454.173 1523.95 455.353 1522.61 Q457.599 1520.08 458.478 1518.35 Q459.381 1516.59 459.381 1514.9 Q459.381 1512.14 457.437 1510.41 Q455.515 1508.67 452.414 1508.67 Q450.215 1508.67 447.761 1509.43 Q445.33 1510.2 442.553 1511.75 L442.553 1507.03 Q445.377 1505.89 447.83 1505.31 Q450.284 1504.73 452.321 1504.73 Q457.691 1504.73 460.886 1507.42 Q464.08 1510.11 464.08 1514.6 Q464.08 1516.73 463.27 1518.65 Q462.483 1520.54 460.377 1523.14 Q459.798 1523.81 456.696 1527.03 Q453.594 1530.22 447.946 1535.98 Z\" fill=\"#000000\" fill-rule=\"evenodd\" fill-opacity=\"1\" /><path clip-path=\"url(#clip710)\" d=\"M 0 0 M915.665 1509.43 L903.859 1527.88 L915.665 1527.88 L915.665 1509.43 M914.438 1505.36 L920.317 1505.36 L920.317 1527.88 L925.248 1527.88 L925.248 1531.77 L920.317 1531.77 L920.317 1539.92 L915.665 1539.92 L915.665 1531.77 L900.063 1531.77 L900.063 1527.26 L914.438 1505.36 Z\" fill=\"#000000\" fill-rule=\"evenodd\" fill-opacity=\"1\" /><path clip-path=\"url(#clip710)\" d=\"M 0 0 M1372.42 1520.78 Q1369.27 1520.78 1367.42 1522.93 Q1365.59 1525.08 1365.59 1528.83 Q1365.59 1532.56 1367.42 1534.73 Q1369.27 1536.89 1372.42 1536.89 Q1375.57 1536.89 1377.4 1534.73 Q1379.25 1532.56 1379.25 1528.83 Q1379.25 1525.08 1377.4 1522.93 Q1375.57 1520.78 1372.42 1520.78 M1381.71 1506.12 L1381.71 1510.38 Q1379.95 1509.55 1378.14 1509.11 Q1376.36 1508.67 1374.6 1508.67 Q1369.97 1508.67 1367.52 1511.8 Q1365.08 1514.92 1364.74 1521.24 Q1366.1 1519.23 1368.16 1518.16 Q1370.22 1517.07 1372.7 1517.07 Q1377.91 1517.07 1380.92 1520.24 Q1383.95 1523.39 1383.95 1528.83 Q1383.95 1534.16 1380.8 1537.37 Q1377.65 1540.59 1372.42 1540.59 Q1366.43 1540.59 1363.26 1536.01 Q1360.08 1531.4 1360.08 1522.67 Q1360.08 1514.48 1363.97 1509.62 Q1367.86 1504.73 1374.41 1504.73 Q1376.17 1504.73 1377.96 1505.08 Q1379.76 1505.43 1381.71 1506.12 Z\" fill=\"#000000\" fill-rule=\"evenodd\" fill-opacity=\"1\" /><path clip-path=\"url(#clip710)\" d=\"M 0 0 M1831.38 1523.51 Q1828.05 1523.51 1826.13 1525.29 Q1824.23 1527.07 1824.23 1530.2 Q1824.23 1533.32 1826.13 1535.11 Q1828.05 1536.89 1831.38 1536.89 Q1834.71 1536.89 1836.63 1535.11 Q1838.56 1533.3 1838.56 1530.2 Q1838.56 1527.07 1836.63 1525.29 Q1834.74 1523.51 1831.38 1523.51 M1826.7 1521.52 Q1823.69 1520.78 1822 1518.72 Q1820.34 1516.66 1820.34 1513.69 Q1820.34 1509.55 1823.28 1507.14 Q1826.24 1504.73 1831.38 1504.73 Q1836.54 1504.73 1839.48 1507.14 Q1842.42 1509.55 1842.42 1513.69 Q1842.42 1516.66 1840.73 1518.72 Q1839.06 1520.78 1836.08 1521.52 Q1839.46 1522.3 1841.33 1524.6 Q1843.23 1526.89 1843.23 1530.2 Q1843.23 1535.22 1840.15 1537.91 Q1837.1 1540.59 1831.38 1540.59 Q1825.66 1540.59 1822.58 1537.91 Q1819.53 1535.22 1819.53 1530.2 Q1819.53 1526.89 1821.43 1524.6 Q1823.32 1522.3 1826.7 1521.52 M1824.99 1514.13 Q1824.99 1516.82 1826.66 1518.32 Q1828.35 1519.83 1831.38 1519.83 Q1834.39 1519.83 1836.08 1518.32 Q1837.79 1516.82 1837.79 1514.13 Q1837.79 1511.45 1836.08 1509.94 Q1834.39 1508.44 1831.38 1508.44 Q1828.35 1508.44 1826.66 1509.94 Q1824.99 1511.45 1824.99 1514.13 Z\" fill=\"#000000\" fill-rule=\"evenodd\" fill-opacity=\"1\" /><path clip-path=\"url(#clip710)\" d=\"M 0 0 M2267.62 1535.98 L2275.26 1535.98 L2275.26 1509.62 L2266.95 1511.29 L2266.95 1507.03 L2275.21 1505.36 L2279.89 1505.36 L2279.89 1535.98 L2287.52 1535.98 L2287.52 1539.92 L2267.62 1539.92 L2267.62 1535.98 Z\" fill=\"#000000\" fill-rule=\"evenodd\" fill-opacity=\"1\" /><path clip-path=\"url(#clip710)\" d=\"M 0 0 M2302.59 1508.44 Q2298.98 1508.44 2297.15 1512 Q2295.35 1515.55 2295.35 1522.67 Q2295.35 1529.78 2297.15 1533.35 Q2298.98 1536.89 2302.59 1536.89 Q2306.23 1536.89 2308.03 1533.35 Q2309.86 1529.78 2309.86 1522.67 Q2309.86 1515.55 2308.03 1512 Q2306.23 1508.44 2302.59 1508.44 M2302.59 1504.73 Q2308.4 1504.73 2311.46 1509.34 Q2314.54 1513.92 2314.54 1522.67 Q2314.54 1531.4 2311.46 1536.01 Q2308.4 1540.59 2302.59 1540.59 Q2296.78 1540.59 2293.7 1536.01 Q2290.65 1531.4 2290.65 1522.67 Q2290.65 1513.92 2293.7 1509.34 Q2296.78 1504.73 2302.59 1504.73 Z\" fill=\"#000000\" fill-rule=\"evenodd\" fill-opacity=\"1\" /><path clip-path=\"url(#clip710)\" d=\"M 0 0 M125.654 1445.23 Q122.043 1445.23 120.214 1448.79 Q118.408 1452.34 118.408 1459.46 Q118.408 1466.57 120.214 1470.14 Q122.043 1473.68 125.654 1473.68 Q129.288 1473.68 131.094 1470.14 Q132.922 1466.57 132.922 1459.46 Q132.922 1452.34 131.094 1448.79 Q129.288 1445.23 125.654 1445.23 M125.654 1441.53 Q131.464 1441.53 134.52 1446.13 Q137.598 1450.72 137.598 1459.46 Q137.598 1468.19 134.52 1472.8 Q131.464 1477.38 125.654 1477.38 Q119.844 1477.38 116.765 1472.8 Q113.709 1468.19 113.709 1459.46 Q113.709 1450.72 116.765 1446.13 Q119.844 1441.53 125.654 1441.53 Z\" fill=\"#000000\" fill-rule=\"evenodd\" fill-opacity=\"1\" /><path clip-path=\"url(#clip710)\" d=\"M 0 0 M95.2605 1129.91 L111.58 1129.91 L111.58 1133.85 L89.6355 1133.85 L89.6355 1129.91 Q92.2975 1127.16 96.8808 1122.53 Q101.487 1117.87 102.668 1116.53 Q104.913 1114.01 105.793 1112.27 Q106.696 1110.51 106.696 1108.82 Q106.696 1106.07 104.751 1104.33 Q102.83 1102.6 99.728 1102.6 Q97.529 1102.6 95.0753 1103.36 Q92.6447 1104.12 89.867 1105.68 L89.867 1100.95 Q92.691 1099.82 95.1447 1099.24 Q97.5984 1098.66 99.6354 1098.66 Q105.006 1098.66 108.2 1101.35 Q111.395 1104.03 111.395 1108.52 Q111.395 1110.65 110.584 1112.57 Q109.797 1114.47 107.691 1117.06 Q107.112 1117.74 104.01 1120.95 Q100.909 1124.15 95.2605 1129.91 Z\" fill=\"#000000\" fill-rule=\"evenodd\" fill-opacity=\"1\" /><path clip-path=\"url(#clip710)\" d=\"M 0 0 M116.696 1099.29 L135.052 1099.29 L135.052 1103.22 L120.978 1103.22 L120.978 1111.69 Q121.996 1111.35 123.015 1111.18 Q124.033 1111 125.052 1111 Q130.839 1111 134.219 1114.17 Q137.598 1117.34 137.598 1122.76 Q137.598 1128.34 134.126 1131.44 Q130.654 1134.52 124.334 1134.52 Q122.158 1134.52 119.89 1134.15 Q117.645 1133.78 115.237 1133.04 L115.237 1128.34 Q117.321 1129.47 119.543 1130.03 Q121.765 1130.58 124.242 1130.58 Q128.246 1130.58 130.584 1128.48 Q132.922 1126.37 132.922 1122.76 Q132.922 1119.15 130.584 1117.04 Q128.246 1114.93 124.242 1114.93 Q122.367 1114.93 120.492 1115.35 Q118.64 1115.77 116.696 1116.65 L116.696 1099.29 Z\" fill=\"#000000\" fill-rule=\"evenodd\" fill-opacity=\"1\" /><path clip-path=\"url(#clip710)\" d=\"M 0 0 M89.6818 756.423 L108.038 756.423 L108.038 760.358 L93.9642 760.358 L93.9642 768.831 Q94.9827 768.483 96.0012 768.321 Q97.0197 768.136 98.0382 768.136 Q103.825 768.136 107.205 771.307 Q110.584 774.479 110.584 779.895 Q110.584 785.474 107.112 788.576 Q103.64 791.655 97.3206 791.655 Q95.1447 791.655 92.8762 791.284 Q90.6309 790.914 88.2235 790.173 L88.2235 785.474 Q90.3068 786.608 92.529 787.164 Q94.7512 787.719 97.2281 787.719 Q101.233 787.719 103.571 785.613 Q105.909 783.506 105.909 779.895 Q105.909 776.284 103.571 774.178 Q101.233 772.071 97.2281 772.071 Q95.3531 772.071 93.4781 772.488 Q91.6262 772.905 89.6818 773.784 L89.6818 756.423 Z\" fill=\"#000000\" fill-rule=\"evenodd\" fill-opacity=\"1\" /><path clip-path=\"url(#clip710)\" d=\"M 0 0 M125.654 759.502 Q122.043 759.502 120.214 763.067 Q118.408 766.608 118.408 773.738 Q118.408 780.844 120.214 784.409 Q122.043 787.951 125.654 787.951 Q129.288 787.951 131.094 784.409 Q132.922 780.844 132.922 773.738 Q132.922 766.608 131.094 763.067 Q129.288 759.502 125.654 759.502 M125.654 755.798 Q131.464 755.798 134.52 760.405 Q137.598 764.988 137.598 773.738 Q137.598 782.465 134.52 787.071 Q131.464 791.655 125.654 791.655 Q119.844 791.655 116.765 787.071 Q113.709 782.465 113.709 773.738 Q113.709 764.988 116.765 760.405 Q119.844 755.798 125.654 755.798 Z\" fill=\"#000000\" fill-rule=\"evenodd\" fill-opacity=\"1\" /><path clip-path=\"url(#clip710)\" d=\"M 0 0 M89.3577 413.56 L111.58 413.56 L111.58 415.55 L99.0336 448.12 L94.1494 448.12 L105.955 417.495 L89.3577 417.495 L89.3577 413.56 Z\" fill=\"#000000\" fill-rule=\"evenodd\" fill-opacity=\"1\" /><path clip-path=\"url(#clip710)\" d=\"M 0 0 M116.696 413.56 L135.052 413.56 L135.052 417.495 L120.978 417.495 L120.978 425.967 Q121.996 425.62 123.015 425.458 Q124.033 425.273 125.052 425.273 Q130.839 425.273 134.219 428.444 Q137.598 431.615 137.598 437.032 Q137.598 442.611 134.126 445.712 Q130.654 448.791 124.334 448.791 Q122.158 448.791 119.89 448.421 Q117.645 448.05 115.237 447.31 L115.237 442.611 Q117.321 443.745 119.543 444.3 Q121.765 444.856 124.242 444.856 Q128.246 444.856 130.584 442.749 Q132.922 440.643 132.922 437.032 Q132.922 433.421 130.584 431.314 Q128.246 429.208 124.242 429.208 Q122.367 429.208 120.492 429.624 Q118.64 430.041 116.696 430.921 L116.696 413.56 Z\" fill=\"#000000\" fill-rule=\"evenodd\" fill-opacity=\"1\" /><path clip-path=\"url(#clip710)\" d=\"M 0 0 M63.6634 101.321 L71.3023 101.321 L71.3023 74.9555 L62.9921 76.6222 L62.9921 72.3629 L71.256 70.6963 L75.9319 70.6963 L75.9319 101.321 L83.5707 101.321 L83.5707 105.256 L63.6634 105.256 L63.6634 101.321 Z\" fill=\"#000000\" fill-rule=\"evenodd\" fill-opacity=\"1\" /><path clip-path=\"url(#clip710)\" d=\"M 0 0 M98.6401 73.775 Q95.029 73.775 93.2003 77.3398 Q91.3948 80.8814 91.3948 88.011 Q91.3948 95.1174 93.2003 98.6822 Q95.029 102.224 98.6401 102.224 Q102.274 102.224 104.08 98.6822 Q105.909 95.1174 105.909 88.011 Q105.909 80.8814 104.08 77.3398 Q102.274 73.775 98.6401 73.775 M98.6401 70.0713 Q104.45 70.0713 107.506 74.6777 Q110.584 79.261 110.584 88.011 Q110.584 96.7378 107.506 101.344 Q104.45 105.928 98.6401 105.928 Q92.8299 105.928 89.7512 101.344 Q86.6957 96.7378 86.6957 88.011 Q86.6957 79.261 89.7512 74.6777 Q92.8299 70.0713 98.6401 70.0713 Z\" fill=\"#000000\" fill-rule=\"evenodd\" fill-opacity=\"1\" /><path clip-path=\"url(#clip710)\" d=\"M 0 0 M125.654 73.775 Q122.043 73.775 120.214 77.3398 Q118.408 80.8814 118.408 88.011 Q118.408 95.1174 120.214 98.6822 Q122.043 102.224 125.654 102.224 Q129.288 102.224 131.094 98.6822 Q132.922 95.1174 132.922 88.011 Q132.922 80.8814 131.094 77.3398 Q129.288 73.775 125.654 73.775 M125.654 70.0713 Q131.464 70.0713 134.52 74.6777 Q137.598 79.261 137.598 88.011 Q137.598 96.7378 134.52 101.344 Q131.464 105.928 125.654 105.928 Q119.844 105.928 116.765 101.344 Q113.709 96.7378 113.709 88.011 Q113.709 79.261 116.765 74.6777 Q119.844 70.0713 125.654 70.0713 Z\" fill=\"#000000\" fill-rule=\"evenodd\" fill-opacity=\"1\" /><polyline clip-path=\"url(#clip712)\" style=\"stroke:#009af9; stroke-width:4; stroke-opacity:1; fill:none\" points=\"\n",
       "  223.612,1445.72 453.293,1404.57 682.974,1336 912.655,1240 1142.34,1116.57 1372.02,965.707 1601.7,787.418 1831.38,581.7 2061.06,348.553 2290.74,87.9763 \n",
       "  \n",
       "  \"/>\n",
       "<path clip-path=\"url(#clip710)\" d=\"\n",
       "M1989.74 251.724 L2280.76 251.724 L2280.76 130.764 L1989.74 130.764  Z\n",
       "  \" fill=\"#ffffff\" fill-rule=\"evenodd\" fill-opacity=\"1\"/>\n",
       "<polyline clip-path=\"url(#clip710)\" style=\"stroke:#000000; stroke-width:4; stroke-opacity:1; fill:none\" points=\"\n",
       "  1989.74,251.724 2280.76,251.724 2280.76,130.764 1989.74,130.764 1989.74,251.724 \n",
       "  \"/>\n",
       "<polyline clip-path=\"url(#clip710)\" style=\"stroke:#009af9; stroke-width:4; stroke-opacity:1; fill:none\" points=\"\n",
       "  2013.74,191.244 2157.74,191.244 \n",
       "  \"/>\n",
       "<path clip-path=\"url(#clip710)\" d=\"M 0 0 M2195.58 210.931 Q2193.77 215.561 2192.06 216.973 Q2190.35 218.385 2187.48 218.385 L2184.08 218.385 L2184.08 214.82 L2186.58 214.82 Q2188.33 214.82 2189.31 213.987 Q2190.28 213.154 2191.46 210.052 L2192.22 208.107 L2181.74 182.598 L2186.25 182.598 L2194.35 202.876 L2202.46 182.598 L2206.97 182.598 L2195.58 210.931 Z\" fill=\"#000000\" fill-rule=\"evenodd\" fill-opacity=\"1\" /><path clip-path=\"url(#clip710)\" d=\"M 0 0 M2212.85 204.589 L2220.49 204.589 L2220.49 178.223 L2212.18 179.89 L2212.18 175.631 L2220.44 173.964 L2225.12 173.964 L2225.12 204.589 L2232.76 204.589 L2232.76 208.524 L2212.85 208.524 L2212.85 204.589 Z\" fill=\"#000000\" fill-rule=\"evenodd\" fill-opacity=\"1\" /></svg>\n"
      ]
     },
     "execution_count": 122,
     "metadata": {},
     "output_type": "execute_result"
    }
   ],
   "source": [
    "plot(x,y)"
   ]
  },
  {
   "cell_type": "code",
   "execution_count": 123,
   "metadata": {},
   "outputs": [
    {
     "data": {
      "image/svg+xml": [
       "<?xml version=\"1.0\" encoding=\"utf-8\"?>\n",
       "<svg xmlns=\"http://www.w3.org/2000/svg\" xmlns:xlink=\"http://www.w3.org/1999/xlink\" width=\"600\" height=\"400\" viewBox=\"0 0 2400 1600\">\n",
       "<defs>\n",
       "  <clipPath id=\"clip750\">\n",
       "    <rect x=\"0\" y=\"0\" width=\"2400\" height=\"1600\"/>\n",
       "  </clipPath>\n",
       "</defs>\n",
       "<path clip-path=\"url(#clip750)\" d=\"\n",
       "M0 1600 L2400 1600 L2400 0 L0 0  Z\n",
       "  \" fill=\"#ffffff\" fill-rule=\"evenodd\" fill-opacity=\"1\"/>\n",
       "<defs>\n",
       "  <clipPath id=\"clip751\">\n",
       "    <rect x=\"480\" y=\"0\" width=\"1681\" height=\"1600\"/>\n",
       "  </clipPath>\n",
       "</defs>\n",
       "<path clip-path=\"url(#clip750)\" d=\"\n",
       "M277.346 1450.7 L2352.76 1450.7 L2352.76 123.472 L277.346 123.472  Z\n",
       "  \" fill=\"#ffffff\" fill-rule=\"evenodd\" fill-opacity=\"1\"/>\n",
       "<defs>\n",
       "  <clipPath id=\"clip752\">\n",
       "    <rect x=\"277\" y=\"123\" width=\"2076\" height=\"1328\"/>\n",
       "  </clipPath>\n",
       "</defs>\n",
       "<polyline clip-path=\"url(#clip752)\" style=\"stroke:#000000; stroke-width:2; stroke-opacity:0.1; fill:none\" points=\"\n",
       "  553.632,1450.7 553.632,123.472 \n",
       "  \"/>\n",
       "<polyline clip-path=\"url(#clip752)\" style=\"stroke:#000000; stroke-width:2; stroke-opacity:0.1; fill:none\" points=\"\n",
       "  988.729,1450.7 988.729,123.472 \n",
       "  \"/>\n",
       "<polyline clip-path=\"url(#clip752)\" style=\"stroke:#000000; stroke-width:2; stroke-opacity:0.1; fill:none\" points=\"\n",
       "  1423.83,1450.7 1423.83,123.472 \n",
       "  \"/>\n",
       "<polyline clip-path=\"url(#clip752)\" style=\"stroke:#000000; stroke-width:2; stroke-opacity:0.1; fill:none\" points=\"\n",
       "  1858.92,1450.7 1858.92,123.472 \n",
       "  \"/>\n",
       "<polyline clip-path=\"url(#clip752)\" style=\"stroke:#000000; stroke-width:2; stroke-opacity:0.1; fill:none\" points=\"\n",
       "  2294.02,1450.7 2294.02,123.472 \n",
       "  \"/>\n",
       "<polyline clip-path=\"url(#clip752)\" style=\"stroke:#000000; stroke-width:2; stroke-opacity:0.1; fill:none\" points=\"\n",
       "  277.346,1425.78 2352.76,1425.78 \n",
       "  \"/>\n",
       "<polyline clip-path=\"url(#clip752)\" style=\"stroke:#000000; stroke-width:2; stroke-opacity:0.1; fill:none\" points=\"\n",
       "  277.346,1109.6 2352.76,1109.6 \n",
       "  \"/>\n",
       "<polyline clip-path=\"url(#clip752)\" style=\"stroke:#000000; stroke-width:2; stroke-opacity:0.1; fill:none\" points=\"\n",
       "  277.346,793.41 2352.76,793.41 \n",
       "  \"/>\n",
       "<polyline clip-path=\"url(#clip752)\" style=\"stroke:#000000; stroke-width:2; stroke-opacity:0.1; fill:none\" points=\"\n",
       "  277.346,477.222 2352.76,477.222 \n",
       "  \"/>\n",
       "<polyline clip-path=\"url(#clip752)\" style=\"stroke:#000000; stroke-width:2; stroke-opacity:0.1; fill:none\" points=\"\n",
       "  277.346,161.035 2352.76,161.035 \n",
       "  \"/>\n",
       "<polyline clip-path=\"url(#clip750)\" style=\"stroke:#000000; stroke-width:4; stroke-opacity:1; fill:none\" points=\"\n",
       "  277.346,1450.7 2352.76,1450.7 \n",
       "  \"/>\n",
       "<polyline clip-path=\"url(#clip750)\" style=\"stroke:#000000; stroke-width:4; stroke-opacity:1; fill:none\" points=\"\n",
       "  277.346,1450.7 277.346,123.472 \n",
       "  \"/>\n",
       "<polyline clip-path=\"url(#clip750)\" style=\"stroke:#000000; stroke-width:4; stroke-opacity:1; fill:none\" points=\"\n",
       "  553.632,1450.7 553.632,1434.77 \n",
       "  \"/>\n",
       "<polyline clip-path=\"url(#clip750)\" style=\"stroke:#000000; stroke-width:4; stroke-opacity:1; fill:none\" points=\"\n",
       "  988.729,1450.7 988.729,1434.77 \n",
       "  \"/>\n",
       "<polyline clip-path=\"url(#clip750)\" style=\"stroke:#000000; stroke-width:4; stroke-opacity:1; fill:none\" points=\"\n",
       "  1423.83,1450.7 1423.83,1434.77 \n",
       "  \"/>\n",
       "<polyline clip-path=\"url(#clip750)\" style=\"stroke:#000000; stroke-width:4; stroke-opacity:1; fill:none\" points=\"\n",
       "  1858.92,1450.7 1858.92,1434.77 \n",
       "  \"/>\n",
       "<polyline clip-path=\"url(#clip750)\" style=\"stroke:#000000; stroke-width:4; stroke-opacity:1; fill:none\" points=\"\n",
       "  2294.02,1450.7 2294.02,1434.77 \n",
       "  \"/>\n",
       "<polyline clip-path=\"url(#clip750)\" style=\"stroke:#000000; stroke-width:4; stroke-opacity:1; fill:none\" points=\"\n",
       "  277.346,1425.78 302.251,1425.78 \n",
       "  \"/>\n",
       "<polyline clip-path=\"url(#clip750)\" style=\"stroke:#000000; stroke-width:4; stroke-opacity:1; fill:none\" points=\"\n",
       "  277.346,1109.6 302.251,1109.6 \n",
       "  \"/>\n",
       "<polyline clip-path=\"url(#clip750)\" style=\"stroke:#000000; stroke-width:4; stroke-opacity:1; fill:none\" points=\"\n",
       "  277.346,793.41 302.251,793.41 \n",
       "  \"/>\n",
       "<polyline clip-path=\"url(#clip750)\" style=\"stroke:#000000; stroke-width:4; stroke-opacity:1; fill:none\" points=\"\n",
       "  277.346,477.222 302.251,477.222 \n",
       "  \"/>\n",
       "<polyline clip-path=\"url(#clip750)\" style=\"stroke:#000000; stroke-width:4; stroke-opacity:1; fill:none\" points=\"\n",
       "  277.346,161.035 302.251,161.035 \n",
       "  \"/>\n",
       "<path clip-path=\"url(#clip750)\" d=\"M 0 0 M548.285 1500.24 L564.605 1500.24 L564.605 1504.17 L542.66 1504.17 L542.66 1500.24 Q545.322 1497.48 549.906 1492.85 Q554.512 1488.2 555.693 1486.86 Q557.938 1484.33 558.818 1482.6 Q559.72 1480.84 559.72 1479.15 Q559.72 1476.39 557.776 1474.66 Q555.855 1472.92 552.753 1472.92 Q550.554 1472.92 548.1 1473.69 Q545.67 1474.45 542.892 1476 L542.892 1471.28 Q545.716 1470.14 548.169 1469.57 Q550.623 1468.99 552.66 1468.99 Q558.031 1468.99 561.225 1471.67 Q564.419 1474.36 564.419 1478.85 Q564.419 1480.98 563.609 1482.9 Q562.822 1484.8 560.716 1487.39 Q560.137 1488.06 557.035 1491.28 Q553.933 1494.47 548.285 1500.24 Z\" fill=\"#000000\" fill-rule=\"evenodd\" fill-opacity=\"1\" /><path clip-path=\"url(#clip750)\" d=\"M 0 0 M991.738 1473.69 L979.933 1492.13 L991.738 1492.13 L991.738 1473.69 M990.511 1469.61 L996.391 1469.61 L996.391 1492.13 L1001.32 1492.13 L1001.32 1496.02 L996.391 1496.02 L996.391 1504.17 L991.738 1504.17 L991.738 1496.02 L976.136 1496.02 L976.136 1491.51 L990.511 1469.61 Z\" fill=\"#000000\" fill-rule=\"evenodd\" fill-opacity=\"1\" /><path clip-path=\"url(#clip750)\" d=\"M 0 0 M1424.23 1485.03 Q1421.08 1485.03 1419.23 1487.18 Q1417.4 1489.33 1417.4 1493.08 Q1417.4 1496.81 1419.23 1498.99 Q1421.08 1501.14 1424.23 1501.14 Q1427.38 1501.14 1429.21 1498.99 Q1431.06 1496.81 1431.06 1493.08 Q1431.06 1489.33 1429.21 1487.18 Q1427.38 1485.03 1424.23 1485.03 M1433.51 1470.38 L1433.51 1474.63 Q1431.75 1473.8 1429.95 1473.36 Q1428.17 1472.92 1426.41 1472.92 Q1421.78 1472.92 1419.32 1476.05 Q1416.89 1479.17 1416.55 1485.49 Q1417.91 1483.48 1419.97 1482.41 Q1422.03 1481.32 1424.51 1481.32 Q1429.72 1481.32 1432.73 1484.5 Q1435.76 1487.64 1435.76 1493.08 Q1435.76 1498.41 1432.61 1501.63 Q1429.46 1504.84 1424.23 1504.84 Q1418.23 1504.84 1415.06 1500.26 Q1411.89 1495.65 1411.89 1486.93 Q1411.89 1478.73 1415.78 1473.87 Q1419.67 1468.99 1426.22 1468.99 Q1427.98 1468.99 1429.76 1469.33 Q1431.57 1469.68 1433.51 1470.38 Z\" fill=\"#000000\" fill-rule=\"evenodd\" fill-opacity=\"1\" /><path clip-path=\"url(#clip750)\" d=\"M 0 0 M1858.92 1487.76 Q1855.59 1487.76 1853.67 1489.54 Q1851.77 1491.32 1851.77 1494.45 Q1851.77 1497.57 1853.67 1499.36 Q1855.59 1501.14 1858.92 1501.14 Q1862.25 1501.14 1864.18 1499.36 Q1866.1 1497.55 1866.1 1494.45 Q1866.1 1491.32 1864.18 1489.54 Q1862.28 1487.76 1858.92 1487.76 M1854.25 1485.77 Q1851.24 1485.03 1849.55 1482.97 Q1847.88 1480.91 1847.88 1477.95 Q1847.88 1473.8 1850.82 1471.39 Q1853.78 1468.99 1858.92 1468.99 Q1864.08 1468.99 1867.02 1471.39 Q1869.96 1473.8 1869.96 1477.95 Q1869.96 1480.91 1868.27 1482.97 Q1866.61 1485.03 1863.62 1485.77 Q1867 1486.56 1868.88 1488.85 Q1870.77 1491.14 1870.77 1494.45 Q1870.77 1499.47 1867.69 1502.16 Q1864.64 1504.84 1858.92 1504.84 Q1853.2 1504.84 1850.13 1502.16 Q1847.07 1499.47 1847.07 1494.45 Q1847.07 1491.14 1848.97 1488.85 Q1850.87 1486.56 1854.25 1485.77 M1852.53 1478.38 Q1852.53 1481.07 1854.2 1482.57 Q1855.89 1484.08 1858.92 1484.08 Q1861.93 1484.08 1863.62 1482.57 Q1865.33 1481.07 1865.33 1478.38 Q1865.33 1475.7 1863.62 1474.2 Q1861.93 1472.69 1858.92 1472.69 Q1855.89 1472.69 1854.2 1474.2 Q1852.53 1475.7 1852.53 1478.38 Z\" fill=\"#000000\" fill-rule=\"evenodd\" fill-opacity=\"1\" /><path clip-path=\"url(#clip750)\" d=\"M 0 0 M2270.89 1500.24 L2278.53 1500.24 L2278.53 1473.87 L2270.22 1475.54 L2270.22 1471.28 L2278.49 1469.61 L2283.16 1469.61 L2283.16 1500.24 L2290.8 1500.24 L2290.8 1504.17 L2270.89 1504.17 L2270.89 1500.24 Z\" fill=\"#000000\" fill-rule=\"evenodd\" fill-opacity=\"1\" /><path clip-path=\"url(#clip750)\" d=\"M 0 0 M2305.87 1472.69 Q2302.26 1472.69 2300.43 1476.26 Q2298.62 1479.8 2298.62 1486.93 Q2298.62 1494.03 2300.43 1497.6 Q2302.26 1501.14 2305.87 1501.14 Q2309.5 1501.14 2311.31 1497.6 Q2313.14 1494.03 2313.14 1486.93 Q2313.14 1479.8 2311.31 1476.26 Q2309.5 1472.69 2305.87 1472.69 M2305.87 1468.99 Q2311.68 1468.99 2314.74 1473.59 Q2317.81 1478.18 2317.81 1486.93 Q2317.81 1495.65 2314.74 1500.26 Q2311.68 1504.84 2305.87 1504.84 Q2300.06 1504.84 2296.98 1500.26 Q2293.93 1495.65 2293.93 1486.93 Q2293.93 1478.18 2296.98 1473.59 Q2300.06 1468.99 2305.87 1468.99 Z\" fill=\"#000000\" fill-rule=\"evenodd\" fill-opacity=\"1\" /><path clip-path=\"url(#clip750)\" d=\"M 0 0 M241.402 1411.58 Q237.791 1411.58 235.962 1415.15 Q234.157 1418.69 234.157 1425.82 Q234.157 1432.93 235.962 1436.49 Q237.791 1440.03 241.402 1440.03 Q245.036 1440.03 246.842 1436.49 Q248.67 1432.93 248.67 1425.82 Q248.67 1418.69 246.842 1415.15 Q245.036 1411.58 241.402 1411.58 M241.402 1407.88 Q247.212 1407.88 250.268 1412.49 Q253.346 1417.07 253.346 1425.82 Q253.346 1434.55 250.268 1439.15 Q247.212 1443.74 241.402 1443.74 Q235.592 1443.74 232.513 1439.15 Q229.457 1434.55 229.457 1425.82 Q229.457 1417.07 232.513 1412.49 Q235.592 1407.88 241.402 1407.88 Z\" fill=\"#000000\" fill-rule=\"evenodd\" fill-opacity=\"1\" /><path clip-path=\"url(#clip750)\" d=\"M 0 0 M211.009 1122.94 L227.328 1122.94 L227.328 1126.88 L205.384 1126.88 L205.384 1122.94 Q208.046 1120.19 212.629 1115.56 Q217.235 1110.9 218.416 1109.56 Q220.661 1107.04 221.541 1105.3 Q222.444 1103.54 222.444 1101.85 Q222.444 1099.1 220.499 1097.36 Q218.578 1095.63 215.476 1095.63 Q213.277 1095.63 210.823 1096.39 Q208.393 1097.15 205.615 1098.71 L205.615 1093.98 Q208.439 1092.85 210.893 1092.27 Q213.346 1091.69 215.383 1091.69 Q220.754 1091.69 223.948 1094.38 Q227.143 1097.06 227.143 1101.55 Q227.143 1103.68 226.332 1105.6 Q225.545 1107.5 223.439 1110.09 Q222.86 1110.77 219.758 1113.98 Q216.657 1117.18 211.009 1122.94 Z\" fill=\"#000000\" fill-rule=\"evenodd\" fill-opacity=\"1\" /><path clip-path=\"url(#clip750)\" d=\"M 0 0 M232.444 1092.32 L250.8 1092.32 L250.8 1096.25 L236.726 1096.25 L236.726 1104.72 Q237.744 1104.38 238.763 1104.22 Q239.781 1104.03 240.8 1104.03 Q246.587 1104.03 249.967 1107.2 Q253.346 1110.37 253.346 1115.79 Q253.346 1121.37 249.874 1124.47 Q246.402 1127.55 240.082 1127.55 Q237.907 1127.55 235.638 1127.18 Q233.393 1126.81 230.985 1126.07 L230.985 1121.37 Q233.069 1122.5 235.291 1123.06 Q237.513 1123.61 239.99 1123.61 Q243.994 1123.61 246.332 1121.51 Q248.67 1119.4 248.67 1115.79 Q248.67 1112.18 246.332 1110.07 Q243.994 1107.97 239.99 1107.97 Q238.115 1107.97 236.24 1108.38 Q234.388 1108.8 232.444 1109.68 L232.444 1092.32 Z\" fill=\"#000000\" fill-rule=\"evenodd\" fill-opacity=\"1\" /><path clip-path=\"url(#clip750)\" d=\"M 0 0 M205.43 776.13 L223.786 776.13 L223.786 780.065 L209.712 780.065 L209.712 788.537 Q210.731 788.19 211.749 788.028 Q212.768 787.843 213.786 787.843 Q219.573 787.843 222.953 791.014 Q226.332 794.185 226.332 799.602 Q226.332 805.181 222.86 808.282 Q219.388 811.361 213.069 811.361 Q210.893 811.361 208.624 810.991 Q206.379 810.62 203.972 809.88 L203.972 805.181 Q206.055 806.315 208.277 806.87 Q210.499 807.426 212.976 807.426 Q216.981 807.426 219.319 805.319 Q221.657 803.213 221.657 799.602 Q221.657 795.991 219.319 793.884 Q216.981 791.778 212.976 791.778 Q211.101 791.778 209.226 792.194 Q207.374 792.611 205.43 793.491 L205.43 776.13 Z\" fill=\"#000000\" fill-rule=\"evenodd\" fill-opacity=\"1\" /><path clip-path=\"url(#clip750)\" d=\"M 0 0 M241.402 779.208 Q237.791 779.208 235.962 782.773 Q234.157 786.315 234.157 793.444 Q234.157 800.551 235.962 804.116 Q237.791 807.657 241.402 807.657 Q245.036 807.657 246.842 804.116 Q248.67 800.551 248.67 793.444 Q248.67 786.315 246.842 782.773 Q245.036 779.208 241.402 779.208 M241.402 775.505 Q247.212 775.505 250.268 780.111 Q253.346 784.694 253.346 793.444 Q253.346 802.171 250.268 806.778 Q247.212 811.361 241.402 811.361 Q235.592 811.361 232.513 806.778 Q229.457 802.171 229.457 793.444 Q229.457 784.694 232.513 780.111 Q235.592 775.505 241.402 775.505 Z\" fill=\"#000000\" fill-rule=\"evenodd\" fill-opacity=\"1\" /><path clip-path=\"url(#clip750)\" d=\"M 0 0 M205.106 459.942 L227.328 459.942 L227.328 461.933 L214.782 494.502 L209.897 494.502 L221.703 463.878 L205.106 463.878 L205.106 459.942 Z\" fill=\"#000000\" fill-rule=\"evenodd\" fill-opacity=\"1\" /><path clip-path=\"url(#clip750)\" d=\"M 0 0 M232.444 459.942 L250.8 459.942 L250.8 463.878 L236.726 463.878 L236.726 472.35 Q237.744 472.003 238.763 471.841 Q239.781 471.655 240.8 471.655 Q246.587 471.655 249.967 474.827 Q253.346 477.998 253.346 483.415 Q253.346 488.993 249.874 492.095 Q246.402 495.174 240.082 495.174 Q237.907 495.174 235.638 494.803 Q233.393 494.433 230.985 493.692 L230.985 488.993 Q233.069 490.127 235.291 490.683 Q237.513 491.239 239.99 491.239 Q243.994 491.239 246.332 489.132 Q248.67 487.026 248.67 483.415 Q248.67 479.803 246.332 477.697 Q243.994 475.591 239.99 475.591 Q238.115 475.591 236.24 476.007 Q234.388 476.424 232.444 477.303 L232.444 459.942 Z\" fill=\"#000000\" fill-rule=\"evenodd\" fill-opacity=\"1\" /><path clip-path=\"url(#clip750)\" d=\"M 0 0 M179.411 174.38 L187.05 174.38 L187.05 148.014 L178.74 149.681 L178.74 145.422 L187.004 143.755 L191.68 143.755 L191.68 174.38 L199.319 174.38 L199.319 178.315 L179.411 178.315 L179.411 174.38 Z\" fill=\"#000000\" fill-rule=\"evenodd\" fill-opacity=\"1\" /><path clip-path=\"url(#clip750)\" d=\"M 0 0 M214.388 146.834 Q210.777 146.834 208.948 150.399 Q207.143 153.94 207.143 161.07 Q207.143 168.176 208.948 171.741 Q210.777 175.283 214.388 175.283 Q218.022 175.283 219.828 171.741 Q221.657 168.176 221.657 161.07 Q221.657 153.94 219.828 150.399 Q218.022 146.834 214.388 146.834 M214.388 143.13 Q220.198 143.13 223.254 147.737 Q226.332 152.32 226.332 161.07 Q226.332 169.797 223.254 174.403 Q220.198 178.986 214.388 178.986 Q208.578 178.986 205.499 174.403 Q202.444 169.797 202.444 161.07 Q202.444 152.32 205.499 147.737 Q208.578 143.13 214.388 143.13 Z\" fill=\"#000000\" fill-rule=\"evenodd\" fill-opacity=\"1\" /><path clip-path=\"url(#clip750)\" d=\"M 0 0 M241.402 146.834 Q237.791 146.834 235.962 150.399 Q234.157 153.94 234.157 161.07 Q234.157 168.176 235.962 171.741 Q237.791 175.283 241.402 175.283 Q245.036 175.283 246.842 171.741 Q248.67 168.176 248.67 161.07 Q248.67 153.94 246.842 150.399 Q245.036 146.834 241.402 146.834 M241.402 143.13 Q247.212 143.13 250.268 147.737 Q253.346 152.32 253.346 161.07 Q253.346 169.797 250.268 174.403 Q247.212 178.986 241.402 178.986 Q235.592 178.986 232.513 174.403 Q229.457 169.797 229.457 161.07 Q229.457 152.32 232.513 147.737 Q235.592 143.13 241.402 143.13 Z\" fill=\"#000000\" fill-rule=\"evenodd\" fill-opacity=\"1\" /><path clip-path=\"url(#clip750)\" d=\"M 0 0 M958.166 12.096 L970.36 12.096 L985.794 53.2532 L1001.31 12.096 L1013.5 12.096 L1013.5 72.576 L1005.52 72.576 L1005.52 19.4686 L989.925 60.9499 L981.702 60.9499 L966.106 19.4686 L966.106 72.576 L958.166 72.576 L958.166 12.096 Z\" fill=\"#000000\" fill-rule=\"evenodd\" fill-opacity=\"1\" /><path clip-path=\"url(#clip750)\" d=\"M 0 0 M1021.64 12.096 L1029.83 12.096 L1029.83 72.576 L1021.64 72.576 L1021.64 12.096 Z\" fill=\"#000000\" fill-rule=\"evenodd\" fill-opacity=\"1\" /><path clip-path=\"url(#clip750)\" d=\"M 0 0 M1093.87 49.3643 Q1093.87 41.2625 1090.51 36.8065 Q1087.19 32.3505 1081.15 32.3505 Q1075.16 32.3505 1071.79 36.8065 Q1068.47 41.2625 1068.47 49.3643 Q1068.47 57.4256 1071.79 61.8816 Q1075.16 66.3376 1081.15 66.3376 Q1087.19 66.3376 1090.51 61.8816 Q1093.87 57.4256 1093.87 49.3643 M1101.33 66.9452 Q1101.33 78.5308 1096.18 84.1616 Q1091.04 89.8329 1080.42 89.8329 Q1076.49 89.8329 1073.01 89.2252 Q1069.53 88.6581 1066.24 87.4428 L1066.24 80.1917 Q1069.53 81.9741 1072.73 82.8248 Q1075.93 83.6755 1079.25 83.6755 Q1086.58 83.6755 1090.23 79.8271 Q1093.87 76.0193 1093.87 68.282 L1093.87 64.5957 Q1091.56 68.6061 1087.96 70.5911 Q1084.35 72.576 1079.33 72.576 Q1070.98 72.576 1065.88 66.2161 Q1060.78 59.8562 1060.78 49.3643 Q1060.78 38.832 1065.88 32.472 Q1070.98 26.1121 1079.33 26.1121 Q1084.35 26.1121 1087.96 28.0971 Q1091.56 30.082 1093.87 34.0924 L1093.87 27.2059 L1101.33 27.2059 L1101.33 66.9452 Z\" fill=\"#000000\" fill-rule=\"evenodd\" fill-opacity=\"1\" /><path clip-path=\"url(#clip750)\" d=\"M 0 0 M1135.43 34.1734 Q1134.18 33.4443 1132.68 33.1202 Q1131.22 32.7556 1129.44 32.7556 Q1123.12 32.7556 1119.72 36.8875 Q1116.35 40.9789 1116.35 48.6757 L1116.35 72.576 L1108.86 72.576 L1108.86 27.2059 L1116.35 27.2059 L1116.35 34.2544 Q1118.7 30.1225 1122.47 28.1376 Q1126.24 26.1121 1131.63 26.1121 Q1132.4 26.1121 1133.33 26.2337 Q1134.26 26.3147 1135.39 26.5172 L1135.43 34.1734 Z\" fill=\"#000000\" fill-rule=\"evenodd\" fill-opacity=\"1\" /><path clip-path=\"url(#clip750)\" d=\"M 0 0 M1163.87 49.7694 Q1154.84 49.7694 1151.35 51.8354 Q1147.87 53.9013 1147.87 58.8839 Q1147.87 62.8538 1150.46 65.2034 Q1153.1 67.5124 1157.59 67.5124 Q1163.79 67.5124 1167.52 63.1374 Q1171.28 58.7219 1171.28 51.4303 L1171.28 49.7694 L1163.87 49.7694 M1178.74 46.6907 L1178.74 72.576 L1171.28 72.576 L1171.28 65.6895 Q1168.73 69.8214 1164.92 71.8063 Q1161.12 73.7508 1155.61 73.7508 Q1148.64 73.7508 1144.51 69.8619 Q1140.42 65.9325 1140.42 59.3701 Q1140.42 51.7138 1145.52 47.825 Q1150.67 43.9361 1160.83 43.9361 L1171.28 43.9361 L1171.28 43.2069 Q1171.28 38.0623 1167.88 35.2672 Q1164.52 32.4315 1158.4 32.4315 Q1154.51 32.4315 1150.83 33.3632 Q1147.14 34.295 1143.74 36.1584 L1143.74 29.2718 Q1147.83 27.692 1151.68 26.9223 Q1155.53 26.1121 1159.17 26.1121 Q1169.02 26.1121 1173.88 31.2163 Q1178.74 36.3204 1178.74 46.6907 M1165.13 6.22219 L1173.19 6.22219 L1159.98 21.4536 L1153.78 21.4536 L1165.13 6.22219 Z\" fill=\"#000000\" fill-rule=\"evenodd\" fill-opacity=\"1\" /><path clip-path=\"url(#clip750)\" d=\"M 0 0 M1209.53 9.54393 L1209.53 15.7418 L1202.4 15.7418 Q1198.39 15.7418 1196.81 17.3622 Q1195.27 18.9825 1195.27 23.1955 L1195.27 27.2059 L1207.54 27.2059 L1207.54 32.9987 L1195.27 32.9987 L1195.27 72.576 L1187.77 72.576 L1187.77 32.9987 L1180.64 32.9987 L1180.64 27.2059 L1187.77 27.2059 L1187.77 24.0462 Q1187.77 16.471 1191.3 13.0277 Q1194.82 9.54393 1202.48 9.54393 L1209.53 9.54393 Z\" fill=\"#000000\" fill-rule=\"evenodd\" fill-opacity=\"1\" /><path clip-path=\"url(#clip750)\" d=\"M 0 0 M1217.34 27.2059 L1224.8 27.2059 L1224.8 72.576 L1217.34 72.576 L1217.34 27.2059 M1217.34 9.54393 L1224.8 9.54393 L1224.8 18.9825 L1217.34 18.9825 L1217.34 9.54393 Z\" fill=\"#000000\" fill-rule=\"evenodd\" fill-opacity=\"1\" /><path clip-path=\"url(#clip750)\" d=\"M 0 0 M1265.27 28.9478 L1265.27 35.9153 Q1262.11 34.1734 1258.91 33.3227 Q1255.75 32.4315 1252.51 32.4315 Q1245.25 32.4315 1241.24 37.0496 Q1237.23 41.6271 1237.23 49.9314 Q1237.23 58.2358 1241.24 62.8538 Q1245.25 67.4314 1252.51 67.4314 Q1255.75 67.4314 1258.91 66.5807 Q1262.11 65.6895 1265.27 63.9476 L1265.27 70.8341 Q1262.15 72.2924 1258.78 73.0216 Q1255.46 73.7508 1251.69 73.7508 Q1241.45 73.7508 1235.41 67.3098 Q1229.37 60.8689 1229.37 49.9314 Q1229.37 38.832 1235.45 32.472 Q1241.57 26.1121 1252.18 26.1121 Q1255.62 26.1121 1258.91 26.8413 Q1262.19 27.5299 1265.27 28.9478 Z\" fill=\"#000000\" fill-rule=\"evenodd\" fill-opacity=\"1\" /><path clip-path=\"url(#clip750)\" d=\"M 0 0 M1293.7 49.7694 Q1284.67 49.7694 1281.19 51.8354 Q1277.7 53.9013 1277.7 58.8839 Q1277.7 62.8538 1280.29 65.2034 Q1282.93 67.5124 1287.42 67.5124 Q1293.62 67.5124 1297.35 63.1374 Q1301.12 58.7219 1301.12 51.4303 L1301.12 49.7694 L1293.7 49.7694 M1308.57 46.6907 L1308.57 72.576 L1301.12 72.576 L1301.12 65.6895 Q1298.56 69.8214 1294.76 71.8063 Q1290.95 73.7508 1285.44 73.7508 Q1278.47 73.7508 1274.34 69.8619 Q1270.25 65.9325 1270.25 59.3701 Q1270.25 51.7138 1275.35 47.825 Q1280.5 43.9361 1290.66 43.9361 L1301.12 43.9361 L1301.12 43.2069 Q1301.12 38.0623 1297.71 35.2672 Q1294.35 32.4315 1288.23 32.4315 Q1284.35 32.4315 1280.66 33.3632 Q1276.97 34.295 1273.57 36.1584 L1273.57 29.2718 Q1277.66 27.692 1281.51 26.9223 Q1285.36 26.1121 1289 26.1121 Q1298.85 26.1121 1303.71 31.2163 Q1308.57 36.3204 1308.57 46.6907 Z\" fill=\"#000000\" fill-rule=\"evenodd\" fill-opacity=\"1\" /><path clip-path=\"url(#clip750)\" d=\"M 0 0 M1375.41 28.9478 L1375.41 35.9153 Q1372.25 34.1734 1369.05 33.3227 Q1365.89 32.4315 1362.65 32.4315 Q1355.4 32.4315 1351.39 37.0496 Q1347.38 41.6271 1347.38 49.9314 Q1347.38 58.2358 1351.39 62.8538 Q1355.4 67.4314 1362.65 67.4314 Q1365.89 67.4314 1369.05 66.5807 Q1372.25 65.6895 1375.41 63.9476 L1375.41 70.8341 Q1372.29 72.2924 1368.93 73.0216 Q1365.61 73.7508 1361.84 73.7508 Q1351.59 73.7508 1345.55 67.3098 Q1339.52 60.8689 1339.52 49.9314 Q1339.52 38.832 1345.59 32.472 Q1351.71 26.1121 1362.33 26.1121 Q1365.77 26.1121 1369.05 26.8413 Q1372.33 27.5299 1375.41 28.9478 Z\" fill=\"#000000\" fill-rule=\"evenodd\" fill-opacity=\"1\" /><path clip-path=\"url(#clip750)\" d=\"M 0 0 M1400.81 32.4315 Q1394.81 32.4315 1391.33 37.1306 Q1387.85 41.7891 1387.85 49.9314 Q1387.85 58.0738 1391.29 62.7728 Q1394.77 67.4314 1400.81 67.4314 Q1406.76 67.4314 1410.25 62.7323 Q1413.73 58.0333 1413.73 49.9314 Q1413.73 41.8701 1410.25 37.1711 Q1406.76 32.4315 1400.81 32.4315 M1400.81 26.1121 Q1410.53 26.1121 1416.08 32.4315 Q1421.63 38.7509 1421.63 49.9314 Q1421.63 61.0714 1416.08 67.4314 Q1410.53 73.7508 1400.81 73.7508 Q1391.05 73.7508 1385.5 67.4314 Q1379.99 61.0714 1379.99 49.9314 Q1379.99 38.7509 1385.5 32.4315 Q1391.05 26.1121 1400.81 26.1121 Z\" fill=\"#000000\" fill-rule=\"evenodd\" fill-opacity=\"1\" /><path clip-path=\"url(#clip750)\" d=\"M 0 0 M1467.16 45.1919 L1467.16 72.576 L1459.71 72.576 L1459.71 45.4349 Q1459.71 38.994 1457.2 35.7938 Q1454.69 32.5936 1449.66 32.5936 Q1443.63 32.5936 1440.14 36.4419 Q1436.66 40.2903 1436.66 46.9338 L1436.66 72.576 L1429.17 72.576 L1429.17 27.2059 L1436.66 27.2059 L1436.66 34.2544 Q1439.33 30.163 1442.94 28.1376 Q1446.58 26.1121 1451.32 26.1121 Q1459.14 26.1121 1463.15 30.9732 Q1467.16 35.7938 1467.16 45.1919 Z\" fill=\"#000000\" fill-rule=\"evenodd\" fill-opacity=\"1\" /><path clip-path=\"url(#clip750)\" d=\"M 0 0 M1509.86 18.8205 L1509.86 41.5461 L1520.15 41.5461 Q1525.86 41.5461 1528.98 38.5889 Q1532.1 35.6318 1532.1 30.163 Q1532.1 24.7348 1528.98 21.7777 Q1525.86 18.8205 1520.15 18.8205 L1509.86 18.8205 M1501.68 12.096 L1520.15 12.096 Q1530.32 12.096 1535.5 16.714 Q1540.73 21.2916 1540.73 30.163 Q1540.73 39.1155 1535.5 43.6931 Q1530.32 48.2706 1520.15 48.2706 L1509.86 48.2706 L1509.86 72.576 L1501.68 72.576 L1501.68 12.096 Z\" fill=\"#000000\" fill-rule=\"evenodd\" fill-opacity=\"1\" /><path clip-path=\"url(#clip750)\" d=\"M 0 0 M1548.55 9.54393 L1556 9.54393 L1556 72.576 L1548.55 72.576 L1548.55 9.54393 Z\" fill=\"#000000\" fill-rule=\"evenodd\" fill-opacity=\"1\" /><path clip-path=\"url(#clip750)\" d=\"M 0 0 M1581.4 32.4315 Q1575.4 32.4315 1571.92 37.1306 Q1568.44 41.7891 1568.44 49.9314 Q1568.44 58.0738 1571.88 62.7728 Q1575.36 67.4314 1581.4 67.4314 Q1587.35 67.4314 1590.84 62.7323 Q1594.32 58.0333 1594.32 49.9314 Q1594.32 41.8701 1590.84 37.1711 Q1587.35 32.4315 1581.4 32.4315 M1581.4 26.1121 Q1591.12 26.1121 1596.67 32.4315 Q1602.22 38.7509 1602.22 49.9314 Q1602.22 61.0714 1596.67 67.4314 Q1591.12 73.7508 1581.4 73.7508 Q1571.64 73.7508 1566.09 67.4314 Q1560.58 61.0714 1560.58 49.9314 Q1560.58 38.7509 1566.09 32.4315 Q1571.64 26.1121 1581.4 26.1121 Z\" fill=\"#000000\" fill-rule=\"evenodd\" fill-opacity=\"1\" /><path clip-path=\"url(#clip750)\" d=\"M 0 0 M1617.41 14.324 L1617.41 27.2059 L1632.76 27.2059 L1632.76 32.9987 L1617.41 32.9987 L1617.41 57.6282 Q1617.41 63.1779 1618.91 64.7578 Q1620.45 66.3376 1625.11 66.3376 L1632.76 66.3376 L1632.76 72.576 L1625.11 72.576 Q1616.48 72.576 1613.2 69.3758 Q1609.92 66.1351 1609.92 57.6282 L1609.92 32.9987 L1604.45 32.9987 L1604.45 27.2059 L1609.92 27.2059 L1609.92 14.324 L1617.41 14.324 Z\" fill=\"#000000\" fill-rule=\"evenodd\" fill-opacity=\"1\" /><path clip-path=\"url(#clip750)\" d=\"M 0 0 M1669.51 28.5427 L1669.51 35.5912 Q1666.35 33.9709 1662.94 33.1607 Q1659.54 32.3505 1655.89 32.3505 Q1650.34 32.3505 1647.55 34.0519 Q1644.79 35.7533 1644.79 39.156 Q1644.79 41.7486 1646.78 43.2475 Q1648.76 44.7058 1654.76 46.0426 L1657.31 46.6097 Q1665.25 48.3111 1668.57 51.4303 Q1671.94 54.509 1671.94 60.0587 Q1671.94 66.3781 1666.91 70.0644 Q1661.93 73.7508 1653.18 73.7508 Q1649.53 73.7508 1645.56 73.0216 Q1641.63 72.3329 1637.26 70.9151 L1637.26 63.2184 Q1641.39 65.3654 1645.4 66.4591 Q1649.41 67.5124 1653.34 67.5124 Q1658.61 67.5124 1661.44 65.73 Q1664.28 63.9071 1664.28 60.6258 Q1664.28 57.5877 1662.21 55.9673 Q1660.19 54.3469 1653.26 52.8481 L1650.67 52.2405 Q1643.74 50.7821 1640.66 47.7845 Q1637.58 44.7463 1637.58 39.4801 Q1637.58 33.0797 1642.12 29.5959 Q1646.66 26.1121 1655 26.1121 Q1659.13 26.1121 1662.78 26.7198 Q1666.43 27.3274 1669.51 28.5427 Z\" fill=\"#000000\" fill-rule=\"evenodd\" fill-opacity=\"1\" /><path clip-path=\"url(#clip750)\" d=\"M 0 0 M1329.21 1531.01 Q1329.21 1532.81 1328.08 1533.84 Q1326.96 1534.84 1325.67 1534.84 Q1324.44 1534.84 1323.8 1534.13 Q1323.16 1533.42 1323.16 1532.52 Q1323.16 1531.3 1324.06 1530.23 Q1324.96 1529.17 1326.31 1528.95 Q1324.99 1528.11 1323.03 1528.11 Q1321.74 1528.11 1320.61 1528.78 Q1319.52 1529.46 1318.84 1530.33 Q1318.2 1531.2 1317.62 1532.46 Q1317.07 1533.68 1316.84 1534.42 Q1316.65 1535.13 1316.49 1535.9 L1314.24 1544.92 Q1313.14 1549.2 1313.14 1550.72 Q1313.14 1552.58 1314.04 1553.84 Q1314.94 1555.06 1316.75 1555.06 Q1317.46 1555.06 1318.26 1554.87 Q1319.07 1554.65 1320.1 1554.07 Q1321.16 1553.45 1322.09 1552.55 Q1323.06 1551.62 1323.99 1550.04 Q1324.93 1548.46 1325.54 1546.43 Q1325.73 1545.73 1326.38 1545.73 Q1327.18 1545.73 1327.18 1546.37 Q1327.18 1546.92 1326.73 1548.08 Q1326.31 1549.2 1325.38 1550.68 Q1324.48 1552.13 1323.29 1553.45 Q1322.09 1554.74 1320.32 1555.64 Q1318.55 1556.55 1316.62 1556.55 Q1313.85 1556.55 1312.01 1555.06 Q1310.18 1553.58 1309.5 1551.52 Q1309.34 1551.81 1309.11 1552.2 Q1308.89 1552.58 1308.21 1553.45 Q1307.57 1554.29 1306.83 1554.94 Q1306.09 1555.55 1304.93 1556.03 Q1303.8 1556.55 1302.58 1556.55 Q1301.03 1556.55 1299.65 1556.1 Q1298.29 1555.64 1297.33 1554.61 Q1296.36 1553.58 1296.36 1552.17 Q1296.36 1550.59 1297.42 1549.49 Q1298.52 1548.37 1300 1548.37 Q1300.93 1548.37 1301.68 1548.91 Q1302.45 1549.46 1302.45 1550.65 Q1302.45 1551.97 1301.55 1552.97 Q1300.64 1553.97 1299.36 1554.23 Q1300.68 1555.06 1302.64 1555.06 Q1304.77 1555.06 1306.44 1553.2 Q1308.12 1551.33 1308.92 1548.2 Q1310.92 1540.7 1311.69 1537.35 Q1312.46 1533.97 1312.46 1532.52 Q1312.46 1531.17 1312.11 1530.23 Q1311.76 1529.3 1311.14 1528.88 Q1310.56 1528.43 1310.02 1528.27 Q1309.5 1528.11 1308.92 1528.11 Q1307.96 1528.11 1306.86 1528.49 Q1305.8 1528.88 1304.51 1529.78 Q1303.25 1530.65 1302.06 1532.46 Q1300.87 1534.26 1300.06 1536.74 Q1299.9 1537.48 1299.2 1537.48 Q1298.42 1537.45 1298.42 1536.8 Q1298.42 1536.26 1298.84 1535.13 Q1299.29 1533.97 1300.19 1532.52 Q1301.13 1531.07 1302.32 1529.78 Q1303.54 1528.46 1305.31 1527.56 Q1307.12 1526.66 1309.05 1526.66 Q1309.92 1526.66 1310.76 1526.85 Q1311.63 1527.01 1312.66 1527.5 Q1313.72 1527.98 1314.65 1529.04 Q1315.59 1530.11 1316.17 1531.65 Q1316.55 1530.91 1317.07 1530.2 Q1317.62 1529.49 1318.45 1528.62 Q1319.32 1527.72 1320.52 1527.21 Q1321.74 1526.66 1323.09 1526.66 Q1324.41 1526.66 1325.7 1527.01 Q1326.99 1527.34 1328.08 1528.4 Q1329.21 1529.43 1329.21 1531.01 Z\" fill=\"#000000\" fill-rule=\"evenodd\" fill-opacity=\"1\" /><path clip-path=\"url(#clip750)\" d=\"M 0 0 M67.4659 810.096 Q69.2694 810.096 70.3 811.223 Q71.2984 812.35 71.2984 813.639 Q71.2984 814.862 70.5898 815.507 Q69.8813 816.151 68.9795 816.151 Q67.7557 816.151 66.6929 815.249 Q65.6301 814.347 65.4047 812.994 Q64.5673 814.315 64.5673 816.279 Q64.5673 817.568 65.2437 818.695 Q65.92 819.79 66.7895 820.466 Q67.6591 821.11 68.9151 821.69 Q70.1389 822.238 70.8797 822.463 Q71.5882 822.656 72.3612 822.817 L81.3788 825.072 Q85.6622 826.167 87.1759 826.167 Q89.0438 826.167 90.2998 825.265 Q91.5236 824.363 91.5236 822.56 Q91.5236 821.851 91.3304 821.046 Q91.105 820.241 90.5253 819.21 Q89.9133 818.147 89.0116 817.213 Q88.0776 816.247 86.4995 815.313 Q84.9214 814.379 82.8925 813.767 Q82.1839 813.574 82.1839 812.93 Q82.1839 812.125 82.8281 812.125 Q83.3756 812.125 84.535 812.576 Q85.6622 812.994 87.1436 813.928 Q88.5929 814.83 89.9133 816.022 Q91.2016 817.213 92.1033 818.985 Q93.0051 820.756 93.0051 822.688 Q93.0051 825.458 91.5236 827.294 Q90.0422 829.13 87.981 829.806 Q88.2708 829.967 88.6573 830.192 Q89.0438 830.418 89.9133 831.094 Q90.7507 831.738 91.3948 832.479 Q92.0067 833.22 92.4898 834.379 Q93.0051 835.506 93.0051 836.73 Q93.0051 838.276 92.5542 839.661 Q92.1033 841.014 91.0728 841.98 Q90.0422 842.946 88.6251 842.946 Q87.047 842.946 85.952 841.883 Q84.8248 840.788 84.8248 839.307 Q84.8248 838.373 85.3723 837.632 Q85.9198 836.859 87.1114 836.859 Q88.4319 836.859 89.4303 837.761 Q90.4286 838.663 90.6863 839.951 Q91.5236 838.63 91.5236 836.666 Q91.5236 834.54 89.6557 832.865 Q87.7878 831.191 84.6638 830.386 Q77.1598 828.389 73.8104 827.616 Q70.4288 826.843 68.9795 826.843 Q67.6269 826.843 66.6929 827.197 Q65.759 827.552 65.3403 828.163 Q64.8894 828.743 64.7284 829.291 Q64.5673 829.806 64.5673 830.386 Q64.5673 831.352 64.9538 832.447 Q65.3403 833.51 66.242 834.798 Q67.1116 836.054 68.9151 837.245 Q70.7187 838.437 73.1985 839.242 Q73.9392 839.403 73.9392 840.112 Q73.907 840.885 73.2629 840.885 Q72.7154 840.885 71.5882 840.466 Q70.4288 840.015 68.9795 839.113 Q67.5303 838.179 66.242 836.988 Q64.9216 835.764 64.0198 833.993 Q63.1181 832.189 63.1181 830.257 Q63.1181 829.387 63.3113 828.55 Q63.4723 827.68 63.9554 826.65 Q64.4385 825.587 65.5013 824.653 Q66.5641 823.719 68.11 823.139 Q67.3692 822.753 66.6607 822.238 Q65.9522 821.69 65.0826 820.853 Q64.1809 819.983 63.6656 818.792 Q63.1181 817.568 63.1181 816.215 Q63.1181 814.895 63.4723 813.606 Q63.7944 812.318 64.8572 811.223 Q65.8878 810.096 67.4659 810.096 Z\" fill=\"#000000\" fill-rule=\"evenodd\" fill-opacity=\"1\" /><path clip-path=\"url(#clip750)\" d=\"M 0 0 M72.638 803.359 Q71.8038 803.359 71.5559 803.291 Q71.3079 803.201 70.9246 802.841 L61.0503 793.981 Q55.5946 789.134 50.8378 789.134 Q47.7493 789.134 45.54 790.757 Q43.3306 792.358 43.3306 795.311 Q43.3306 797.34 44.5706 799.053 Q45.8105 800.766 48.0198 801.556 Q47.9747 801.42 47.9747 800.947 Q47.9747 799.797 48.6961 799.166 Q49.4175 798.512 50.3869 798.512 Q51.6269 798.512 52.2356 799.324 Q52.8217 800.113 52.8217 800.902 Q52.8217 801.217 52.7541 801.646 Q52.6864 802.051 52.0552 802.705 Q51.4014 803.359 50.2517 803.359 Q47.0279 803.359 44.4578 800.924 Q41.8878 798.467 41.8878 794.725 Q41.8878 790.486 44.4128 787.713 Q46.9151 784.918 50.8378 784.918 Q52.213 784.918 53.4755 785.346 Q54.7154 785.752 55.6848 786.316 Q56.6542 786.857 58.2097 788.345 Q59.7653 789.833 60.8699 791.027 Q61.9746 792.222 64.3192 794.905 L69.076 799.797 L69.076 791.478 Q69.076 787.42 68.7153 787.105 Q68.0615 786.654 64.6123 786.09 L64.6123 784.918 L72.638 786.226 L72.638 803.359 Z\" fill=\"#000000\" fill-rule=\"evenodd\" fill-opacity=\"1\" /><path clip-path=\"url(#clip750)\" d=\"M 0 0 M44.6319 737.934 Q46.0168 737.934 46.7575 738.771 Q47.466 739.609 47.466 740.704 Q47.466 741.767 46.7575 742.604 Q46.0168 743.409 44.6963 743.409 Q43.7946 743.409 42.9894 742.829 Q42.1521 742.25 41.991 740.961 Q40.6062 742.572 40.6062 745.116 Q40.6062 746.372 41.0893 747.242 Q41.5401 748.079 42.925 748.916 Q44.3098 749.754 47.144 750.333 Q49.9781 750.881 54.3903 751.235 L70.8153 752.491 Q76.3869 752.878 87.3369 754.262 Q98.2547 755.615 100.767 756.259 Q103.15 756.839 105.115 757.708 Q107.079 758.578 108.786 759.866 Q110.525 761.154 111.491 763.022 Q112.457 764.89 112.457 767.145 Q112.457 770.14 110.879 772.265 Q109.333 774.391 106.982 774.391 Q105.598 774.391 104.857 773.554 Q104.148 772.716 104.148 771.621 Q104.148 770.559 104.857 769.753 Q105.598 768.916 106.918 768.916 Q107.82 768.916 108.625 769.496 Q109.462 770.075 109.623 771.364 Q111.008 769.753 111.008 767.145 Q111.008 765.148 109.849 763.828 Q108.689 762.507 105.598 761.541 Q102.506 760.575 97.2241 760.156 L80.7991 758.9 Q75.002 758.481 64.2131 757.129 Q53.4241 755.744 50.59 755.132 Q39.1569 752.555 39.1569 745.18 Q39.1569 742.185 40.735 740.06 Q42.2809 737.934 44.6319 737.934 Z\" fill=\"#000000\" fill-rule=\"evenodd\" fill-opacity=\"1\" /><path clip-path=\"url(#clip750)\" d=\"M 0 0 M9.37803 749.105 Q10.6405 749.105 12.0608 749.489 L32.9592 754.741 Q34.8078 755.215 34.8078 756.635 Q34.8078 757.221 34.4471 757.582 Q34.1089 757.92 33.5679 757.92 Q33.3875 757.92 32.8239 757.785 L11.5873 752.532 Q9.64856 752.059 8.67916 752.059 Q5.45535 752.059 5.45535 754.561 Q5.45535 756.77 7.07853 758.98 Q7.89012 759.994 9.35548 760.986 Q10.7983 761.955 11.3168 762.136 Q12.4891 762.339 13.3909 762.632 Q14.0221 762.767 16.4794 763.421 L20.6501 764.435 Q23.7612 765.157 24.0542 765.314 Q24.6855 765.54 25.0236 766.036 Q25.3618 766.532 25.3618 767.028 Q25.3618 767.591 25.0236 767.975 Q24.6855 768.358 24.0993 768.358 Q24.0092 768.358 23.671 768.29 Q23.3328 768.223 22.8594 768.11 Q22.386 767.997 22.1154 767.952 L11.4521 765.269 Q9.51329 764.773 8.9046 764.661 Q8.27337 764.525 7.5745 764.525 Q6.35712 764.525 5.90624 764.909 Q5.45535 765.292 5.45535 765.968 Q5.45535 767.141 6.85309 767.907 Q8.25082 768.674 10.9561 769.327 Q11.7001 769.53 11.8579 769.665 Q12.0157 769.778 12.0157 770.116 Q11.9931 770.68 11.5423 770.68 Q11.4295 770.68 10.7081 770.5 Q9.96417 770.319 8.88206 769.981 Q7.7774 769.62 7.07853 769.237 Q6.6051 769.012 6.28949 768.809 Q5.97387 768.606 5.4779 768.2 Q4.98193 767.794 4.7114 767.186 Q4.44087 766.577 4.44087 765.833 Q4.44087 764.187 5.50044 762.97 Q6.56002 761.73 8.45372 761.572 Q7.75485 761.099 7.12362 760.49 Q6.49238 759.859 5.86115 758.98 Q5.20737 758.1 4.82412 756.906 Q4.44087 755.711 4.44087 754.426 Q4.44087 751.856 5.77097 750.48 Q7.07853 749.105 9.37803 749.105 Z\" fill=\"#000000\" fill-rule=\"evenodd\" fill-opacity=\"1\" /><polyline clip-path=\"url(#clip752)\" style=\"stroke:#009af9; stroke-width:4; stroke-opacity:1; fill:none\" points=\"\n",
       "  336.084,1413.14 553.632,1375.19 771.181,1311.96 988.729,1223.42 1206.28,1109.6 1423.83,970.475 1641.37,806.057 1858.92,616.345 2076.47,401.338 2294.02,161.035 \n",
       "  \n",
       "  \"/>\n",
       "<circle clip-path=\"url(#clip752)\" cx=\"336.084\" cy=\"1413.14\" r=\"14\" fill=\"#e26f46\" fill-rule=\"evenodd\" fill-opacity=\"1\" stroke=\"#000000\" stroke-opacity=\"1\" stroke-width=\"3.2\"/>\n",
       "<circle clip-path=\"url(#clip752)\" cx=\"553.632\" cy=\"1375.19\" r=\"14\" fill=\"#e26f46\" fill-rule=\"evenodd\" fill-opacity=\"1\" stroke=\"#000000\" stroke-opacity=\"1\" stroke-width=\"3.2\"/>\n",
       "<circle clip-path=\"url(#clip752)\" cx=\"771.181\" cy=\"1311.96\" r=\"14\" fill=\"#e26f46\" fill-rule=\"evenodd\" fill-opacity=\"1\" stroke=\"#000000\" stroke-opacity=\"1\" stroke-width=\"3.2\"/>\n",
       "<circle clip-path=\"url(#clip752)\" cx=\"988.729\" cy=\"1223.42\" r=\"14\" fill=\"#e26f46\" fill-rule=\"evenodd\" fill-opacity=\"1\" stroke=\"#000000\" stroke-opacity=\"1\" stroke-width=\"3.2\"/>\n",
       "<circle clip-path=\"url(#clip752)\" cx=\"1206.28\" cy=\"1109.6\" r=\"14\" fill=\"#e26f46\" fill-rule=\"evenodd\" fill-opacity=\"1\" stroke=\"#000000\" stroke-opacity=\"1\" stroke-width=\"3.2\"/>\n",
       "<circle clip-path=\"url(#clip752)\" cx=\"1423.83\" cy=\"970.475\" r=\"14\" fill=\"#e26f46\" fill-rule=\"evenodd\" fill-opacity=\"1\" stroke=\"#000000\" stroke-opacity=\"1\" stroke-width=\"3.2\"/>\n",
       "<circle clip-path=\"url(#clip752)\" cx=\"1641.37\" cy=\"806.057\" r=\"14\" fill=\"#e26f46\" fill-rule=\"evenodd\" fill-opacity=\"1\" stroke=\"#000000\" stroke-opacity=\"1\" stroke-width=\"3.2\"/>\n",
       "<circle clip-path=\"url(#clip752)\" cx=\"1858.92\" cy=\"616.345\" r=\"14\" fill=\"#e26f46\" fill-rule=\"evenodd\" fill-opacity=\"1\" stroke=\"#000000\" stroke-opacity=\"1\" stroke-width=\"3.2\"/>\n",
       "<circle clip-path=\"url(#clip752)\" cx=\"2076.47\" cy=\"401.338\" r=\"14\" fill=\"#e26f46\" fill-rule=\"evenodd\" fill-opacity=\"1\" stroke=\"#000000\" stroke-opacity=\"1\" stroke-width=\"3.2\"/>\n",
       "<circle clip-path=\"url(#clip752)\" cx=\"2294.02\" cy=\"161.035\" r=\"14\" fill=\"#e26f46\" fill-rule=\"evenodd\" fill-opacity=\"1\" stroke=\"#000000\" stroke-opacity=\"1\" stroke-width=\"3.2\"/>\n",
       "<path clip-path=\"url(#clip750)\" d=\"\n",
       "M1916.57 388.432 L2280.76 388.432 L2280.76 206.992 L1916.57 206.992  Z\n",
       "  \" fill=\"#ffffff\" fill-rule=\"evenodd\" fill-opacity=\"1\"/>\n",
       "<polyline clip-path=\"url(#clip750)\" style=\"stroke:#000000; stroke-width:4; stroke-opacity:1; fill:none\" points=\"\n",
       "  1916.57,388.432 2280.76,388.432 2280.76,206.992 1916.57,206.992 1916.57,388.432 \n",
       "  \"/>\n",
       "<polyline clip-path=\"url(#clip750)\" style=\"stroke:#009af9; stroke-width:4; stroke-opacity:1; fill:none\" points=\"\n",
       "  1940.57,267.472 2084.57,267.472 \n",
       "  \"/>\n",
       "<path clip-path=\"url(#clip750)\" d=\"M 0 0 M2108.57 248.734 L2112.83 248.734 L2112.83 284.752 L2108.57 284.752 L2108.57 248.734 Z\" fill=\"#000000\" fill-rule=\"evenodd\" fill-opacity=\"1\" /><path clip-path=\"url(#clip750)\" d=\"M 0 0 M2117.29 258.826 L2121.55 258.826 L2121.55 284.752 L2117.29 284.752 L2117.29 258.826 M2117.29 248.734 L2121.55 248.734 L2121.55 254.127 L2117.29 254.127 L2117.29 248.734 Z\" fill=\"#000000\" fill-rule=\"evenodd\" fill-opacity=\"1\" /><path clip-path=\"url(#clip750)\" d=\"M 0 0 M2147.57 269.104 L2147.57 284.752 L2143.31 284.752 L2143.31 269.243 Q2143.31 265.562 2141.88 263.734 Q2140.44 261.905 2137.57 261.905 Q2134.12 261.905 2132.13 264.104 Q2130.14 266.303 2130.14 270.099 L2130.14 284.752 L2125.86 284.752 L2125.86 258.826 L2130.14 258.826 L2130.14 262.854 Q2131.67 260.516 2133.73 259.359 Q2135.81 258.201 2138.52 258.201 Q2142.99 258.201 2145.28 260.979 Q2147.57 263.734 2147.57 269.104 Z\" fill=\"#000000\" fill-rule=\"evenodd\" fill-opacity=\"1\" /><path clip-path=\"url(#clip750)\" d=\"M 0 0 M2174.21 270.724 L2174.21 272.808 L2154.63 272.808 Q2154.91 277.206 2157.27 279.521 Q2159.65 281.812 2163.89 281.812 Q2166.34 281.812 2168.64 281.21 Q2170.95 280.609 2173.22 279.405 L2173.22 283.433 Q2170.93 284.405 2168.52 284.914 Q2166.11 285.423 2163.64 285.423 Q2157.43 285.423 2153.8 281.812 Q2150.19 278.201 2150.19 272.044 Q2150.19 265.678 2153.61 261.951 Q2157.06 258.201 2162.9 258.201 Q2168.13 258.201 2171.16 261.581 Q2174.21 264.937 2174.21 270.724 M2169.96 269.474 Q2169.91 265.979 2167.99 263.896 Q2166.09 261.812 2162.94 261.812 Q2159.38 261.812 2157.22 263.826 Q2155.09 265.84 2154.77 269.498 L2169.96 269.474 Z\" fill=\"#000000\" fill-rule=\"evenodd\" fill-opacity=\"1\" /><circle clip-path=\"url(#clip750)\" cx=\"2024.57\" cy=\"327.952\" r=\"23\" fill=\"#e26f46\" fill-rule=\"evenodd\" fill-opacity=\"1\" stroke=\"#000000\" stroke-opacity=\"1\" stroke-width=\"5.12\"/>\n",
       "<path clip-path=\"url(#clip750)\" d=\"M 0 0 M2112.85 341.343 L2112.85 355.093 L2108.57 355.093 L2108.57 319.306 L2112.85 319.306 L2112.85 323.242 Q2114.19 320.927 2116.23 319.816 Q2118.29 318.681 2121.14 318.681 Q2125.86 318.681 2128.8 322.431 Q2131.76 326.181 2131.76 332.292 Q2131.76 338.403 2128.8 342.153 Q2125.86 345.903 2121.14 345.903 Q2118.29 345.903 2116.23 344.792 Q2114.19 343.658 2112.85 341.343 M2127.34 332.292 Q2127.34 327.593 2125.4 324.931 Q2123.47 322.246 2120.09 322.246 Q2116.71 322.246 2114.77 324.931 Q2112.85 327.593 2112.85 332.292 Q2112.85 336.991 2114.77 339.677 Q2116.71 342.339 2120.09 342.339 Q2123.47 342.339 2125.4 339.677 Q2127.34 336.991 2127.34 332.292 Z\" fill=\"#000000\" fill-rule=\"evenodd\" fill-opacity=\"1\" /><path clip-path=\"url(#clip750)\" d=\"M 0 0 M2146.27 322.292 Q2142.85 322.292 2140.86 324.978 Q2138.87 327.64 2138.87 332.292 Q2138.87 336.945 2140.84 339.63 Q2142.83 342.292 2146.27 342.292 Q2149.68 342.292 2151.67 339.607 Q2153.66 336.922 2153.66 332.292 Q2153.66 327.686 2151.67 325.001 Q2149.68 322.292 2146.27 322.292 M2146.27 318.681 Q2151.83 318.681 2155 322.292 Q2158.17 325.904 2158.17 332.292 Q2158.17 338.658 2155 342.292 Q2151.83 345.903 2146.27 345.903 Q2140.7 345.903 2137.52 342.292 Q2134.38 338.658 2134.38 332.292 Q2134.38 325.904 2137.52 322.292 Q2140.7 318.681 2146.27 318.681 Z\" fill=\"#000000\" fill-rule=\"evenodd\" fill-opacity=\"1\" /><path clip-path=\"url(#clip750)\" d=\"M 0 0 M2162.64 319.306 L2166.9 319.306 L2166.9 345.232 L2162.64 345.232 L2162.64 319.306 M2162.64 309.214 L2166.9 309.214 L2166.9 314.607 L2162.64 314.607 L2162.64 309.214 Z\" fill=\"#000000\" fill-rule=\"evenodd\" fill-opacity=\"1\" /><path clip-path=\"url(#clip750)\" d=\"M 0 0 M2192.92 329.584 L2192.92 345.232 L2188.66 345.232 L2188.66 329.723 Q2188.66 326.042 2187.22 324.214 Q2185.79 322.385 2182.92 322.385 Q2179.47 322.385 2177.48 324.584 Q2175.49 326.783 2175.49 330.579 L2175.49 345.232 L2171.21 345.232 L2171.21 319.306 L2175.49 319.306 L2175.49 323.334 Q2177.02 320.996 2179.08 319.839 Q2181.16 318.681 2183.87 318.681 Q2188.33 318.681 2190.63 321.459 Q2192.92 324.214 2192.92 329.584 Z\" fill=\"#000000\" fill-rule=\"evenodd\" fill-opacity=\"1\" /><path clip-path=\"url(#clip750)\" d=\"M 0 0 M2201.6 311.945 L2201.6 319.306 L2210.37 319.306 L2210.37 322.617 L2201.6 322.617 L2201.6 336.691 Q2201.6 339.862 2202.46 340.765 Q2203.33 341.667 2206 341.667 L2210.37 341.667 L2210.37 345.232 L2206 345.232 Q2201.07 345.232 2199.19 343.403 Q2197.32 341.552 2197.32 336.691 L2197.32 322.617 L2194.19 322.617 L2194.19 319.306 L2197.32 319.306 L2197.32 311.945 L2201.6 311.945 Z\" fill=\"#000000\" fill-rule=\"evenodd\" fill-opacity=\"1\" /><path clip-path=\"url(#clip750)\" d=\"M 0 0 M2231.37 320.07 L2231.37 324.098 Q2229.56 323.172 2227.62 322.709 Q2225.67 322.246 2223.59 322.246 Q2220.42 322.246 2218.82 323.218 Q2217.25 324.191 2217.25 326.135 Q2217.25 327.616 2218.38 328.473 Q2219.52 329.306 2222.94 330.07 L2224.4 330.394 Q2228.94 331.366 2230.83 333.149 Q2232.76 334.908 2232.76 338.079 Q2232.76 341.69 2229.89 343.797 Q2227.04 345.903 2222.04 345.903 Q2219.96 345.903 2217.69 345.487 Q2215.44 345.093 2212.94 344.283 L2212.94 339.885 Q2215.3 341.112 2217.59 341.737 Q2219.89 342.339 2222.13 342.339 Q2225.14 342.339 2226.76 341.32 Q2228.38 340.278 2228.38 338.403 Q2228.38 336.667 2227.2 335.741 Q2226.04 334.816 2222.08 333.959 L2220.6 333.612 Q2216.64 332.778 2214.89 331.066 Q2213.13 329.329 2213.13 326.32 Q2213.13 322.663 2215.72 320.672 Q2218.31 318.681 2223.08 318.681 Q2225.44 318.681 2227.52 319.029 Q2229.61 319.376 2231.37 320.07 Z\" fill=\"#000000\" fill-rule=\"evenodd\" fill-opacity=\"1\" /></svg>\n"
      ]
     },
     "execution_count": 123,
     "metadata": {},
     "output_type": "execute_result"
    }
   ],
   "source": [
    "plot(x, y, label=\"line\")\n",
    "scatter!(x, y, label=\"points\") \n",
    "xlabel!(\"\\$x\\$\")\n",
    "ylabel!(\"\\$x^2 \\\\int^\\\\eta\\$\")\n",
    "title!(\"MI gráfica con Plots\")"
   ]
  },
  {
   "cell_type": "code",
   "execution_count": 124,
   "metadata": {},
   "outputs": [
    {
     "data": {
      "image/svg+xml": [
       "<?xml version=\"1.0\" encoding=\"utf-8\"?>\n",
       "<svg xmlns=\"http://www.w3.org/2000/svg\" xmlns:xlink=\"http://www.w3.org/1999/xlink\" width=\"600\" height=\"400\" viewBox=\"0 0 2400 1600\">\n",
       "<defs>\n",
       "  <clipPath id=\"clip790\">\n",
       "    <rect x=\"0\" y=\"0\" width=\"2400\" height=\"1600\"/>\n",
       "  </clipPath>\n",
       "</defs>\n",
       "<path clip-path=\"url(#clip790)\" d=\"\n",
       "M0 1600 L2400 1600 L2400 0 L0 0  Z\n",
       "  \" fill=\"#ffffff\" fill-rule=\"evenodd\" fill-opacity=\"1\"/>\n",
       "<defs>\n",
       "  <clipPath id=\"clip791\">\n",
       "    <rect x=\"480\" y=\"0\" width=\"1681\" height=\"1600\"/>\n",
       "  </clipPath>\n",
       "</defs>\n",
       "<path clip-path=\"url(#clip790)\" d=\"\n",
       "M243.027 686.448 L1166.26 686.448 L1166.26 47.2441 L243.027 47.2441  Z\n",
       "  \" fill=\"#ffffff\" fill-rule=\"evenodd\" fill-opacity=\"1\"/>\n",
       "<defs>\n",
       "  <clipPath id=\"clip792\">\n",
       "    <rect x=\"243\" y=\"47\" width=\"924\" height=\"640\"/>\n",
       "  </clipPath>\n",
       "</defs>\n",
       "<polyline clip-path=\"url(#clip792)\" style=\"stroke:#000000; stroke-width:2; stroke-opacity:0.1; fill:none\" points=\"\n",
       "  365.931,686.448 365.931,47.2441 \n",
       "  \"/>\n",
       "<polyline clip-path=\"url(#clip792)\" style=\"stroke:#000000; stroke-width:2; stroke-opacity:0.1; fill:none\" points=\"\n",
       "  559.482,686.448 559.482,47.2441 \n",
       "  \"/>\n",
       "<polyline clip-path=\"url(#clip792)\" style=\"stroke:#000000; stroke-width:2; stroke-opacity:0.1; fill:none\" points=\"\n",
       "  753.032,686.448 753.032,47.2441 \n",
       "  \"/>\n",
       "<polyline clip-path=\"url(#clip792)\" style=\"stroke:#000000; stroke-width:2; stroke-opacity:0.1; fill:none\" points=\"\n",
       "  946.583,686.448 946.583,47.2441 \n",
       "  \"/>\n",
       "<polyline clip-path=\"url(#clip792)\" style=\"stroke:#000000; stroke-width:2; stroke-opacity:0.1; fill:none\" points=\"\n",
       "  1140.13,686.448 1140.13,47.2441 \n",
       "  \"/>\n",
       "<polyline clip-path=\"url(#clip792)\" style=\"stroke:#000000; stroke-width:2; stroke-opacity:0.1; fill:none\" points=\"\n",
       "  243.027,601.355 1166.26,601.355 \n",
       "  \"/>\n",
       "<polyline clip-path=\"url(#clip792)\" style=\"stroke:#000000; stroke-width:2; stroke-opacity:0.1; fill:none\" points=\"\n",
       "  243.027,467.35 1166.26,467.35 \n",
       "  \"/>\n",
       "<polyline clip-path=\"url(#clip792)\" style=\"stroke:#000000; stroke-width:2; stroke-opacity:0.1; fill:none\" points=\"\n",
       "  243.027,333.345 1166.26,333.345 \n",
       "  \"/>\n",
       "<polyline clip-path=\"url(#clip792)\" style=\"stroke:#000000; stroke-width:2; stroke-opacity:0.1; fill:none\" points=\"\n",
       "  243.027,199.34 1166.26,199.34 \n",
       "  \"/>\n",
       "<polyline clip-path=\"url(#clip792)\" style=\"stroke:#000000; stroke-width:2; stroke-opacity:0.1; fill:none\" points=\"\n",
       "  243.027,65.3348 1166.26,65.3348 \n",
       "  \"/>\n",
       "<polyline clip-path=\"url(#clip790)\" style=\"stroke:#000000; stroke-width:4; stroke-opacity:1; fill:none\" points=\"\n",
       "  243.027,686.448 1166.26,686.448 \n",
       "  \"/>\n",
       "<polyline clip-path=\"url(#clip790)\" style=\"stroke:#000000; stroke-width:4; stroke-opacity:1; fill:none\" points=\"\n",
       "  243.027,686.448 243.027,47.2441 \n",
       "  \"/>\n",
       "<polyline clip-path=\"url(#clip790)\" style=\"stroke:#000000; stroke-width:4; stroke-opacity:1; fill:none\" points=\"\n",
       "  365.931,686.448 365.931,678.777 \n",
       "  \"/>\n",
       "<polyline clip-path=\"url(#clip790)\" style=\"stroke:#000000; stroke-width:4; stroke-opacity:1; fill:none\" points=\"\n",
       "  559.482,686.448 559.482,678.777 \n",
       "  \"/>\n",
       "<polyline clip-path=\"url(#clip790)\" style=\"stroke:#000000; stroke-width:4; stroke-opacity:1; fill:none\" points=\"\n",
       "  753.032,686.448 753.032,678.777 \n",
       "  \"/>\n",
       "<polyline clip-path=\"url(#clip790)\" style=\"stroke:#000000; stroke-width:4; stroke-opacity:1; fill:none\" points=\"\n",
       "  946.583,686.448 946.583,678.777 \n",
       "  \"/>\n",
       "<polyline clip-path=\"url(#clip790)\" style=\"stroke:#000000; stroke-width:4; stroke-opacity:1; fill:none\" points=\"\n",
       "  1140.13,686.448 1140.13,678.777 \n",
       "  \"/>\n",
       "<polyline clip-path=\"url(#clip790)\" style=\"stroke:#000000; stroke-width:4; stroke-opacity:1; fill:none\" points=\"\n",
       "  243.027,601.355 254.105,601.355 \n",
       "  \"/>\n",
       "<polyline clip-path=\"url(#clip790)\" style=\"stroke:#000000; stroke-width:4; stroke-opacity:1; fill:none\" points=\"\n",
       "  243.027,467.35 254.105,467.35 \n",
       "  \"/>\n",
       "<polyline clip-path=\"url(#clip790)\" style=\"stroke:#000000; stroke-width:4; stroke-opacity:1; fill:none\" points=\"\n",
       "  243.027,333.345 254.105,333.345 \n",
       "  \"/>\n",
       "<polyline clip-path=\"url(#clip790)\" style=\"stroke:#000000; stroke-width:4; stroke-opacity:1; fill:none\" points=\"\n",
       "  243.027,199.34 254.105,199.34 \n",
       "  \"/>\n",
       "<polyline clip-path=\"url(#clip790)\" style=\"stroke:#000000; stroke-width:4; stroke-opacity:1; fill:none\" points=\"\n",
       "  243.027,65.3348 254.105,65.3348 \n",
       "  \"/>\n",
       "<path clip-path=\"url(#clip790)\" d=\"M 0 0 M360.584 735.985 L376.903 735.985 L376.903 739.92 L354.959 739.92 L354.959 735.985 Q357.621 733.23 362.204 728.6 Q366.811 723.948 367.991 722.605 Q370.237 720.082 371.116 718.346 Q372.019 716.587 372.019 714.897 Q372.019 712.142 370.075 710.406 Q368.153 708.67 365.052 708.67 Q362.853 708.67 360.399 709.434 Q357.968 710.198 355.191 711.749 L355.191 707.027 Q358.015 705.892 360.468 705.314 Q362.922 704.735 364.959 704.735 Q370.329 704.735 373.524 707.42 Q376.718 710.105 376.718 714.596 Q376.718 716.726 375.908 718.647 Q375.121 720.545 373.015 723.138 Q372.436 723.809 369.334 727.026 Q366.232 730.221 360.584 735.985 Z\" fill=\"#000000\" fill-rule=\"evenodd\" fill-opacity=\"1\" /><path clip-path=\"url(#clip790)\" d=\"M 0 0 M562.491 709.434 L550.686 727.883 L562.491 727.883 L562.491 709.434 M561.264 705.36 L567.144 705.36 L567.144 727.883 L572.074 727.883 L572.074 731.772 L567.144 731.772 L567.144 739.92 L562.491 739.92 L562.491 731.772 L546.889 731.772 L546.889 727.258 L561.264 705.36 Z\" fill=\"#000000\" fill-rule=\"evenodd\" fill-opacity=\"1\" /><path clip-path=\"url(#clip790)\" d=\"M 0 0 M753.437 720.776 Q750.289 720.776 748.437 722.929 Q746.609 725.082 746.609 728.832 Q746.609 732.559 748.437 734.735 Q750.289 736.887 753.437 736.887 Q756.586 736.887 758.414 734.735 Q760.266 732.559 760.266 728.832 Q760.266 725.082 758.414 722.929 Q756.586 720.776 753.437 720.776 M762.72 706.124 L762.72 710.383 Q760.961 709.55 759.155 709.11 Q757.373 708.67 755.613 708.67 Q750.984 708.67 748.53 711.795 Q746.1 714.92 745.752 721.239 Q747.118 719.226 749.178 718.161 Q751.238 717.073 753.715 717.073 Q758.924 717.073 761.933 720.244 Q764.965 723.392 764.965 728.832 Q764.965 734.156 761.817 737.374 Q758.669 740.591 753.437 740.591 Q747.442 740.591 744.271 736.008 Q741.1 731.401 741.1 722.675 Q741.1 714.48 744.988 709.619 Q748.877 704.735 755.428 704.735 Q757.187 704.735 758.97 705.082 Q760.775 705.429 762.72 706.124 Z\" fill=\"#000000\" fill-rule=\"evenodd\" fill-opacity=\"1\" /><path clip-path=\"url(#clip790)\" d=\"M 0 0 M946.583 723.508 Q943.25 723.508 941.328 725.29 Q939.43 727.073 939.43 730.198 Q939.43 733.323 941.328 735.105 Q943.25 736.887 946.583 736.887 Q949.916 736.887 951.838 735.105 Q953.759 733.3 953.759 730.198 Q953.759 727.073 951.838 725.29 Q949.939 723.508 946.583 723.508 M941.907 721.517 Q938.898 720.776 937.208 718.716 Q935.541 716.656 935.541 713.693 Q935.541 709.55 938.481 707.142 Q941.444 704.735 946.583 704.735 Q951.745 704.735 954.685 707.142 Q957.625 709.55 957.625 713.693 Q957.625 716.656 955.935 718.716 Q954.268 720.776 951.282 721.517 Q954.662 722.304 956.537 724.596 Q958.435 726.888 958.435 730.198 Q958.435 735.221 955.356 737.906 Q952.3 740.591 946.583 740.591 Q940.865 740.591 937.787 737.906 Q934.731 735.221 934.731 730.198 Q934.731 726.888 936.629 724.596 Q938.527 722.304 941.907 721.517 M940.194 714.133 Q940.194 716.818 941.861 718.323 Q943.551 719.827 946.583 719.827 Q949.592 719.827 951.282 718.323 Q952.995 716.818 952.995 714.133 Q952.995 711.448 951.282 709.943 Q949.592 708.439 946.583 708.439 Q943.551 708.439 941.861 709.943 Q940.194 711.448 940.194 714.133 Z\" fill=\"#000000\" fill-rule=\"evenodd\" fill-opacity=\"1\" /><path clip-path=\"url(#clip790)\" d=\"M 0 0 M1117.01 735.985 L1124.65 735.985 L1124.65 709.619 L1116.34 711.286 L1116.34 707.027 L1124.6 705.36 L1129.28 705.36 L1129.28 735.985 L1136.92 735.985 L1136.92 739.92 L1117.01 739.92 L1117.01 735.985 Z\" fill=\"#000000\" fill-rule=\"evenodd\" fill-opacity=\"1\" /><path clip-path=\"url(#clip790)\" d=\"M 0 0 M1151.99 708.439 Q1148.37 708.439 1146.55 712.003 Q1144.74 715.545 1144.74 722.675 Q1144.74 729.781 1146.55 733.346 Q1148.37 736.887 1151.99 736.887 Q1155.62 736.887 1157.43 733.346 Q1159.25 729.781 1159.25 722.675 Q1159.25 715.545 1157.43 712.003 Q1155.62 708.439 1151.99 708.439 M1151.99 704.735 Q1157.8 704.735 1160.85 709.341 Q1163.93 713.925 1163.93 722.675 Q1163.93 731.401 1160.85 736.008 Q1157.8 740.591 1151.99 740.591 Q1146.18 740.591 1143.1 736.008 Q1140.04 731.401 1140.04 722.675 Q1140.04 713.925 1143.1 709.341 Q1146.18 704.735 1151.99 704.735 Z\" fill=\"#000000\" fill-rule=\"evenodd\" fill-opacity=\"1\" /><path clip-path=\"url(#clip790)\" d=\"M 0 0 M202.707 614.7 L219.027 614.7 L219.027 618.635 L197.082 618.635 L197.082 614.7 Q199.744 611.945 204.328 607.315 Q208.934 602.663 210.115 601.32 Q212.36 598.797 213.24 597.061 Q214.142 595.302 214.142 593.612 Q214.142 590.857 212.198 589.121 Q210.277 587.385 207.175 587.385 Q204.976 587.385 202.522 588.149 Q200.092 588.913 197.314 590.464 L197.314 585.741 Q200.138 584.607 202.592 584.028 Q205.045 583.45 207.082 583.45 Q212.453 583.45 215.647 586.135 Q218.841 588.82 218.841 593.311 Q218.841 595.44 218.031 597.362 Q217.244 599.26 215.138 601.852 Q214.559 602.524 211.457 605.741 Q208.355 608.936 202.707 614.7 Z\" fill=\"#000000\" fill-rule=\"evenodd\" fill-opacity=\"1\" /><path clip-path=\"url(#clip790)\" d=\"M 0 0 M209.443 454.144 L197.638 472.593 L209.443 472.593 L209.443 454.144 M208.217 450.07 L214.096 450.07 L214.096 472.593 L219.027 472.593 L219.027 476.482 L214.096 476.482 L214.096 484.63 L209.443 484.63 L209.443 476.482 L193.842 476.482 L193.842 471.968 L208.217 450.07 Z\" fill=\"#000000\" fill-rule=\"evenodd\" fill-opacity=\"1\" /><path clip-path=\"url(#clip790)\" d=\"M 0 0 M207.499 331.481 Q204.351 331.481 202.499 333.634 Q200.67 335.787 200.67 339.537 Q200.67 343.264 202.499 345.44 Q204.351 347.592 207.499 347.592 Q210.647 347.592 212.476 345.44 Q214.328 343.264 214.328 339.537 Q214.328 335.787 212.476 333.634 Q210.647 331.481 207.499 331.481 M216.781 316.829 L216.781 321.088 Q215.022 320.255 213.216 319.815 Q211.434 319.375 209.675 319.375 Q205.045 319.375 202.592 322.5 Q200.161 325.625 199.814 331.944 Q201.18 329.93 203.24 328.866 Q205.3 327.778 207.777 327.778 Q212.985 327.778 215.994 330.949 Q219.027 334.097 219.027 339.537 Q219.027 344.861 215.879 348.078 Q212.73 351.296 207.499 351.296 Q201.504 351.296 198.332 346.713 Q195.161 342.106 195.161 333.379 Q195.161 325.185 199.05 320.324 Q202.939 315.44 209.49 315.44 Q211.249 315.44 213.031 315.787 Q214.837 316.134 216.781 316.829 Z\" fill=\"#000000\" fill-rule=\"evenodd\" fill-opacity=\"1\" /><path clip-path=\"url(#clip790)\" d=\"M 0 0 M207.175 200.208 Q203.842 200.208 201.92 201.99 Q200.022 203.773 200.022 206.898 Q200.022 210.023 201.92 211.805 Q203.842 213.587 207.175 213.587 Q210.508 213.587 212.429 211.805 Q214.351 209.999 214.351 206.898 Q214.351 203.773 212.429 201.99 Q210.531 200.208 207.175 200.208 M202.499 198.217 Q199.49 197.476 197.8 195.416 Q196.133 193.356 196.133 190.393 Q196.133 186.25 199.073 183.842 Q202.036 181.435 207.175 181.435 Q212.337 181.435 215.277 183.842 Q218.216 186.25 218.216 190.393 Q218.216 193.356 216.527 195.416 Q214.86 197.476 211.874 198.217 Q215.254 199.004 217.129 201.296 Q219.027 203.587 219.027 206.898 Q219.027 211.921 215.948 214.606 Q212.892 217.291 207.175 217.291 Q201.457 217.291 198.379 214.606 Q195.323 211.921 195.323 206.898 Q195.323 203.587 197.221 201.296 Q199.119 199.004 202.499 198.217 M200.786 190.833 Q200.786 193.518 202.453 195.023 Q204.142 196.527 207.175 196.527 Q210.184 196.527 211.874 195.023 Q213.587 193.518 213.587 190.833 Q213.587 188.148 211.874 186.643 Q210.184 185.138 207.175 185.138 Q204.142 185.138 202.453 186.643 Q200.786 188.148 200.786 190.833 Z\" fill=\"#000000\" fill-rule=\"evenodd\" fill-opacity=\"1\" /><path clip-path=\"url(#clip790)\" d=\"M 0 0 M172.106 78.6796 L179.744 78.6796 L179.744 52.314 L171.434 53.9807 L171.434 49.7214 L179.698 48.0548 L184.374 48.0548 L184.374 78.6796 L192.013 78.6796 L192.013 82.6148 L172.106 82.6148 L172.106 78.6796 Z\" fill=\"#000000\" fill-rule=\"evenodd\" fill-opacity=\"1\" /><path clip-path=\"url(#clip790)\" d=\"M 0 0 M207.082 51.1335 Q203.471 51.1335 201.642 54.6983 Q199.837 58.2399 199.837 65.3695 Q199.837 72.4759 201.642 76.0407 Q203.471 79.5824 207.082 79.5824 Q210.717 79.5824 212.522 76.0407 Q214.351 72.4759 214.351 65.3695 Q214.351 58.2399 212.522 54.6983 Q210.717 51.1335 207.082 51.1335 M207.082 47.4298 Q212.892 47.4298 215.948 52.0362 Q219.027 56.6195 219.027 65.3695 Q219.027 74.0963 215.948 78.7028 Q212.892 83.2861 207.082 83.2861 Q201.272 83.2861 198.193 78.7028 Q195.138 74.0963 195.138 65.3695 Q195.138 56.6195 198.193 52.0362 Q201.272 47.4298 207.082 47.4298 Z\" fill=\"#000000\" fill-rule=\"evenodd\" fill-opacity=\"1\" /><path clip-path=\"url(#clip790)\" d=\"M 0 0 M121.355 352.686 Q123.158 352.686 124.189 353.813 Q125.187 354.94 125.187 356.229 Q125.187 357.452 124.479 358.097 Q123.77 358.741 122.868 358.741 Q121.644 358.741 120.582 357.839 Q119.519 356.937 119.293 355.585 Q118.456 356.905 118.456 358.87 Q118.456 360.158 119.132 361.285 Q119.809 362.38 120.678 363.056 Q121.548 363.7 122.804 364.28 Q124.028 364.828 124.768 365.053 Q125.477 365.246 126.25 365.407 L135.267 367.662 Q139.551 368.757 141.065 368.757 Q142.932 368.757 144.189 367.855 Q145.412 366.953 145.412 365.15 Q145.412 364.441 145.219 363.636 Q144.994 362.831 144.414 361.8 Q143.802 360.737 142.9 359.803 Q141.966 358.837 140.388 357.903 Q138.81 356.969 136.781 356.357 Q136.073 356.164 136.073 355.52 Q136.073 354.715 136.717 354.715 Q137.264 354.715 138.424 355.166 Q139.551 355.585 141.032 356.518 Q142.482 357.42 143.802 358.612 Q145.09 359.803 145.992 361.575 Q146.894 363.346 146.894 365.278 Q146.894 368.048 145.412 369.884 Q143.931 371.72 141.87 372.396 Q142.16 372.557 142.546 372.782 Q142.932 373.008 143.802 373.684 Q144.639 374.328 145.284 375.069 Q145.895 375.81 146.379 376.969 Q146.894 378.096 146.894 379.32 Q146.894 380.866 146.443 382.251 Q145.992 383.604 144.961 384.57 Q143.931 385.536 142.514 385.536 Q140.936 385.536 139.841 384.473 Q138.714 383.378 138.714 381.897 Q138.714 380.963 139.261 380.222 Q139.809 379.449 141 379.449 Q142.321 379.449 143.319 380.351 Q144.317 381.253 144.575 382.541 Q145.412 381.22 145.412 379.256 Q145.412 377.13 143.544 375.456 Q141.676 373.781 138.552 372.976 Q131.049 370.979 127.699 370.206 Q124.317 369.433 122.868 369.433 Q121.516 369.433 120.582 369.787 Q119.648 370.142 119.229 370.753 Q118.778 371.333 118.617 371.881 Q118.456 372.396 118.456 372.976 Q118.456 373.942 118.842 375.037 Q119.229 376.1 120.131 377.388 Q121 378.644 122.804 379.836 Q124.607 381.027 127.087 381.832 Q127.828 381.993 127.828 382.702 Q127.796 383.475 127.152 383.475 Q126.604 383.475 125.477 383.056 Q124.317 382.605 122.868 381.703 Q121.419 380.769 120.131 379.578 Q118.81 378.354 117.909 376.583 Q117.007 374.779 117.007 372.847 Q117.007 371.977 117.2 371.14 Q117.361 370.27 117.844 369.24 Q118.327 368.177 119.39 367.243 Q120.453 366.309 121.999 365.729 Q121.258 365.343 120.549 364.828 Q119.841 364.28 118.971 363.443 Q118.07 362.573 117.554 361.382 Q117.007 360.158 117.007 358.805 Q117.007 357.485 117.361 356.196 Q117.683 354.908 118.746 353.813 Q119.776 352.686 121.355 352.686 Z\" fill=\"#000000\" fill-rule=\"evenodd\" fill-opacity=\"1\" /><polyline clip-path=\"url(#clip792)\" style=\"stroke:#009af9; stroke-width:4; stroke-opacity:1; fill:none\" points=\"\n",
       "  269.156,668.357 365.931,601.355 462.707,534.352 559.482,467.35 656.257,400.347 753.032,333.345 849.808,266.342 946.583,199.34 1043.36,132.337 1140.13,65.3348 \n",
       "  \n",
       "  \"/>\n",
       "<path clip-path=\"url(#clip790)\" d=\"\n",
       "M1429.52 686.448 L2352.76 686.448 L2352.76 47.2441 L1429.52 47.2441  Z\n",
       "  \" fill=\"#ffffff\" fill-rule=\"evenodd\" fill-opacity=\"1\"/>\n",
       "<defs>\n",
       "  <clipPath id=\"clip793\">\n",
       "    <rect x=\"1429\" y=\"47\" width=\"924\" height=\"640\"/>\n",
       "  </clipPath>\n",
       "</defs>\n",
       "<polyline clip-path=\"url(#clip793)\" style=\"stroke:#000000; stroke-width:2; stroke-opacity:0.1; fill:none\" points=\"\n",
       "  1552.42,686.448 1552.42,47.2441 \n",
       "  \"/>\n",
       "<polyline clip-path=\"url(#clip793)\" style=\"stroke:#000000; stroke-width:2; stroke-opacity:0.1; fill:none\" points=\"\n",
       "  1745.97,686.448 1745.97,47.2441 \n",
       "  \"/>\n",
       "<polyline clip-path=\"url(#clip793)\" style=\"stroke:#000000; stroke-width:2; stroke-opacity:0.1; fill:none\" points=\"\n",
       "  1939.53,686.448 1939.53,47.2441 \n",
       "  \"/>\n",
       "<polyline clip-path=\"url(#clip793)\" style=\"stroke:#000000; stroke-width:2; stroke-opacity:0.1; fill:none\" points=\"\n",
       "  2133.08,686.448 2133.08,47.2441 \n",
       "  \"/>\n",
       "<polyline clip-path=\"url(#clip793)\" style=\"stroke:#000000; stroke-width:2; stroke-opacity:0.1; fill:none\" points=\"\n",
       "  2326.63,686.448 2326.63,47.2441 \n",
       "  \"/>\n",
       "<polyline clip-path=\"url(#clip793)\" style=\"stroke:#000000; stroke-width:2; stroke-opacity:0.1; fill:none\" points=\"\n",
       "  1429.52,674.448 2352.76,674.448 \n",
       "  \"/>\n",
       "<polyline clip-path=\"url(#clip793)\" style=\"stroke:#000000; stroke-width:2; stroke-opacity:0.1; fill:none\" points=\"\n",
       "  1429.52,522.17 2352.76,522.17 \n",
       "  \"/>\n",
       "<polyline clip-path=\"url(#clip793)\" style=\"stroke:#000000; stroke-width:2; stroke-opacity:0.1; fill:none\" points=\"\n",
       "  1429.52,369.892 2352.76,369.892 \n",
       "  \"/>\n",
       "<polyline clip-path=\"url(#clip793)\" style=\"stroke:#000000; stroke-width:2; stroke-opacity:0.1; fill:none\" points=\"\n",
       "  1429.52,217.613 2352.76,217.613 \n",
       "  \"/>\n",
       "<polyline clip-path=\"url(#clip793)\" style=\"stroke:#000000; stroke-width:2; stroke-opacity:0.1; fill:none\" points=\"\n",
       "  1429.52,65.3348 2352.76,65.3348 \n",
       "  \"/>\n",
       "<polyline clip-path=\"url(#clip790)\" style=\"stroke:#000000; stroke-width:4; stroke-opacity:1; fill:none\" points=\"\n",
       "  1429.52,686.448 2352.76,686.448 \n",
       "  \"/>\n",
       "<polyline clip-path=\"url(#clip790)\" style=\"stroke:#000000; stroke-width:4; stroke-opacity:1; fill:none\" points=\"\n",
       "  1429.52,686.448 1429.52,47.2441 \n",
       "  \"/>\n",
       "<polyline clip-path=\"url(#clip790)\" style=\"stroke:#000000; stroke-width:4; stroke-opacity:1; fill:none\" points=\"\n",
       "  1552.42,686.448 1552.42,678.777 \n",
       "  \"/>\n",
       "<polyline clip-path=\"url(#clip790)\" style=\"stroke:#000000; stroke-width:4; stroke-opacity:1; fill:none\" points=\"\n",
       "  1745.97,686.448 1745.97,678.777 \n",
       "  \"/>\n",
       "<polyline clip-path=\"url(#clip790)\" style=\"stroke:#000000; stroke-width:4; stroke-opacity:1; fill:none\" points=\"\n",
       "  1939.53,686.448 1939.53,678.777 \n",
       "  \"/>\n",
       "<polyline clip-path=\"url(#clip790)\" style=\"stroke:#000000; stroke-width:4; stroke-opacity:1; fill:none\" points=\"\n",
       "  2133.08,686.448 2133.08,678.777 \n",
       "  \"/>\n",
       "<polyline clip-path=\"url(#clip790)\" style=\"stroke:#000000; stroke-width:4; stroke-opacity:1; fill:none\" points=\"\n",
       "  2326.63,686.448 2326.63,678.777 \n",
       "  \"/>\n",
       "<polyline clip-path=\"url(#clip790)\" style=\"stroke:#000000; stroke-width:4; stroke-opacity:1; fill:none\" points=\"\n",
       "  1429.52,674.448 1440.6,674.448 \n",
       "  \"/>\n",
       "<polyline clip-path=\"url(#clip790)\" style=\"stroke:#000000; stroke-width:4; stroke-opacity:1; fill:none\" points=\"\n",
       "  1429.52,522.17 1440.6,522.17 \n",
       "  \"/>\n",
       "<polyline clip-path=\"url(#clip790)\" style=\"stroke:#000000; stroke-width:4; stroke-opacity:1; fill:none\" points=\"\n",
       "  1429.52,369.892 1440.6,369.892 \n",
       "  \"/>\n",
       "<polyline clip-path=\"url(#clip790)\" style=\"stroke:#000000; stroke-width:4; stroke-opacity:1; fill:none\" points=\"\n",
       "  1429.52,217.613 1440.6,217.613 \n",
       "  \"/>\n",
       "<polyline clip-path=\"url(#clip790)\" style=\"stroke:#000000; stroke-width:4; stroke-opacity:1; fill:none\" points=\"\n",
       "  1429.52,65.3348 1440.6,65.3348 \n",
       "  \"/>\n",
       "<path clip-path=\"url(#clip790)\" d=\"M 0 0 M1547.08 735.985 L1563.4 735.985 L1563.4 739.92 L1541.45 739.92 L1541.45 735.985 Q1544.11 733.23 1548.7 728.6 Q1553.3 723.948 1554.48 722.605 Q1556.73 720.082 1557.61 718.346 Q1558.51 716.587 1558.51 714.897 Q1558.51 712.142 1556.57 710.406 Q1554.65 708.67 1551.54 708.67 Q1549.35 708.67 1546.89 709.434 Q1544.46 710.198 1541.68 711.749 L1541.68 707.027 Q1544.51 705.892 1546.96 705.314 Q1549.42 704.735 1551.45 704.735 Q1556.82 704.735 1560.02 707.42 Q1563.21 710.105 1563.21 714.596 Q1563.21 716.726 1562.4 718.647 Q1561.61 720.545 1559.51 723.138 Q1558.93 723.809 1555.83 727.026 Q1552.73 730.221 1547.08 735.985 Z\" fill=\"#000000\" fill-rule=\"evenodd\" fill-opacity=\"1\" /><path clip-path=\"url(#clip790)\" d=\"M 0 0 M1748.98 709.434 L1737.18 727.883 L1748.98 727.883 L1748.98 709.434 M1747.76 705.36 L1753.64 705.36 L1753.64 727.883 L1758.57 727.883 L1758.57 731.772 L1753.64 731.772 L1753.64 739.92 L1748.98 739.92 L1748.98 731.772 L1733.38 731.772 L1733.38 727.258 L1747.76 705.36 Z\" fill=\"#000000\" fill-rule=\"evenodd\" fill-opacity=\"1\" /><path clip-path=\"url(#clip790)\" d=\"M 0 0 M1939.93 720.776 Q1936.78 720.776 1934.93 722.929 Q1933.1 725.082 1933.1 728.832 Q1933.1 732.559 1934.93 734.735 Q1936.78 736.887 1939.93 736.887 Q1943.08 736.887 1944.91 734.735 Q1946.76 732.559 1946.76 728.832 Q1946.76 725.082 1944.91 722.929 Q1943.08 720.776 1939.93 720.776 M1949.21 706.124 L1949.21 710.383 Q1947.45 709.55 1945.65 709.11 Q1943.87 708.67 1942.11 708.67 Q1937.48 708.67 1935.02 711.795 Q1932.59 714.92 1932.25 721.239 Q1933.61 719.226 1935.67 718.161 Q1937.73 717.073 1940.21 717.073 Q1945.42 717.073 1948.43 720.244 Q1951.46 723.392 1951.46 728.832 Q1951.46 734.156 1948.31 737.374 Q1945.16 740.591 1939.93 740.591 Q1933.94 740.591 1930.76 736.008 Q1927.59 731.401 1927.59 722.675 Q1927.59 714.48 1931.48 709.619 Q1935.37 704.735 1941.92 704.735 Q1943.68 704.735 1945.46 705.082 Q1947.27 705.429 1949.21 706.124 Z\" fill=\"#000000\" fill-rule=\"evenodd\" fill-opacity=\"1\" /><path clip-path=\"url(#clip790)\" d=\"M 0 0 M2133.08 723.508 Q2129.74 723.508 2127.82 725.29 Q2125.92 727.073 2125.92 730.198 Q2125.92 733.323 2127.82 735.105 Q2129.74 736.887 2133.08 736.887 Q2136.41 736.887 2138.33 735.105 Q2140.25 733.3 2140.25 730.198 Q2140.25 727.073 2138.33 725.29 Q2136.43 723.508 2133.08 723.508 M2128.4 721.517 Q2125.39 720.776 2123.7 718.716 Q2122.03 716.656 2122.03 713.693 Q2122.03 709.55 2124.97 707.142 Q2127.94 704.735 2133.08 704.735 Q2138.24 704.735 2141.18 707.142 Q2144.12 709.55 2144.12 713.693 Q2144.12 716.656 2142.43 718.716 Q2140.76 720.776 2137.78 721.517 Q2141.15 722.304 2143.03 724.596 Q2144.93 726.888 2144.93 730.198 Q2144.93 735.221 2141.85 737.906 Q2138.79 740.591 2133.08 740.591 Q2127.36 740.591 2124.28 737.906 Q2121.22 735.221 2121.22 730.198 Q2121.22 726.888 2123.12 724.596 Q2125.02 722.304 2128.4 721.517 M2126.69 714.133 Q2126.69 716.818 2128.35 718.323 Q2130.04 719.827 2133.08 719.827 Q2136.09 719.827 2137.78 718.323 Q2139.49 716.818 2139.49 714.133 Q2139.49 711.448 2137.78 709.943 Q2136.09 708.439 2133.08 708.439 Q2130.04 708.439 2128.35 709.943 Q2126.69 711.448 2126.69 714.133 Z\" fill=\"#000000\" fill-rule=\"evenodd\" fill-opacity=\"1\" /><path clip-path=\"url(#clip790)\" d=\"M 0 0 M2303.5 735.985 L2311.14 735.985 L2311.14 709.619 L2302.83 711.286 L2302.83 707.027 L2311.09 705.36 L2315.77 705.36 L2315.77 735.985 L2323.41 735.985 L2323.41 739.92 L2303.5 739.92 L2303.5 735.985 Z\" fill=\"#000000\" fill-rule=\"evenodd\" fill-opacity=\"1\" /><path clip-path=\"url(#clip790)\" d=\"M 0 0 M2338.48 708.439 Q2334.87 708.439 2333.04 712.003 Q2331.23 715.545 2331.23 722.675 Q2331.23 729.781 2333.04 733.346 Q2334.87 736.887 2338.48 736.887 Q2342.11 736.887 2343.92 733.346 Q2345.75 729.781 2345.75 722.675 Q2345.75 715.545 2343.92 712.003 Q2342.11 708.439 2338.48 708.439 M2338.48 704.735 Q2344.29 704.735 2347.34 709.341 Q2350.42 713.925 2350.42 722.675 Q2350.42 731.401 2347.34 736.008 Q2344.29 740.591 2338.48 740.591 Q2332.67 740.591 2329.59 736.008 Q2326.53 731.401 2326.53 722.675 Q2326.53 713.925 2329.59 709.341 Q2332.67 704.735 2338.48 704.735 Z\" fill=\"#000000\" fill-rule=\"evenodd\" fill-opacity=\"1\" /><path clip-path=\"url(#clip790)\" d=\"M 0 0 M1393.58 660.247 Q1389.96 660.247 1388.14 663.812 Q1386.33 667.353 1386.33 674.483 Q1386.33 681.59 1388.14 685.154 Q1389.96 688.696 1393.58 688.696 Q1397.21 688.696 1399.02 685.154 Q1400.84 681.59 1400.84 674.483 Q1400.84 667.353 1399.02 663.812 Q1397.21 660.247 1393.58 660.247 M1393.58 656.543 Q1399.39 656.543 1402.44 661.15 Q1405.52 665.733 1405.52 674.483 Q1405.52 683.21 1402.44 687.816 Q1399.39 692.4 1393.58 692.4 Q1387.77 692.4 1384.69 687.816 Q1381.63 683.21 1381.63 674.483 Q1381.63 665.733 1384.69 661.15 Q1387.77 656.543 1393.58 656.543 Z\" fill=\"#000000\" fill-rule=\"evenodd\" fill-opacity=\"1\" /><path clip-path=\"url(#clip790)\" d=\"M 0 0 M1363.18 535.515 L1379.5 535.515 L1379.5 539.45 L1357.56 539.45 L1357.56 535.515 Q1360.22 532.76 1364.8 528.131 Q1369.41 523.478 1370.59 522.135 Q1372.83 519.612 1373.71 517.876 Q1374.62 516.117 1374.62 514.427 Q1374.62 511.672 1372.67 509.936 Q1370.75 508.2 1367.65 508.2 Q1365.45 508.2 1363 508.964 Q1360.57 509.728 1357.79 511.279 L1357.79 506.557 Q1360.61 505.422 1363.07 504.844 Q1365.52 504.265 1367.56 504.265 Q1372.93 504.265 1376.12 506.95 Q1379.32 509.635 1379.32 514.126 Q1379.32 516.256 1378.51 518.177 Q1377.72 520.075 1375.61 522.668 Q1375.03 523.339 1371.93 526.556 Q1368.83 529.751 1363.18 535.515 Z\" fill=\"#000000\" fill-rule=\"evenodd\" fill-opacity=\"1\" /><path clip-path=\"url(#clip790)\" d=\"M 0 0 M1384.62 504.89 L1402.97 504.89 L1402.97 508.825 L1388.9 508.825 L1388.9 517.297 Q1389.92 516.95 1390.94 516.788 Q1391.96 516.603 1392.97 516.603 Q1398.76 516.603 1402.14 519.774 Q1405.52 522.945 1405.52 528.362 Q1405.52 533.941 1402.05 537.043 Q1398.58 540.121 1392.26 540.121 Q1390.08 540.121 1387.81 539.751 Q1385.57 539.381 1383.16 538.64 L1383.16 533.941 Q1385.24 535.075 1387.46 535.631 Q1389.69 536.186 1392.16 536.186 Q1396.17 536.186 1398.51 534.08 Q1400.84 531.973 1400.84 528.362 Q1400.84 524.751 1398.51 522.644 Q1396.17 520.538 1392.16 520.538 Q1390.29 520.538 1388.41 520.955 Q1386.56 521.371 1384.62 522.251 L1384.62 504.89 Z\" fill=\"#000000\" fill-rule=\"evenodd\" fill-opacity=\"1\" /><path clip-path=\"url(#clip790)\" d=\"M 0 0 M1357.6 352.612 L1375.96 352.612 L1375.96 356.547 L1361.89 356.547 L1361.89 365.019 Q1362.9 364.672 1363.92 364.51 Q1364.94 364.324 1365.96 364.324 Q1371.75 364.324 1375.13 367.496 Q1378.51 370.667 1378.51 376.084 Q1378.51 381.662 1375.03 384.764 Q1371.56 387.843 1365.24 387.843 Q1363.07 387.843 1360.8 387.472 Q1358.55 387.102 1356.15 386.361 L1356.15 381.662 Q1358.23 382.797 1360.45 383.352 Q1362.67 383.908 1365.15 383.908 Q1369.15 383.908 1371.49 381.801 Q1373.83 379.695 1373.83 376.084 Q1373.83 372.473 1371.49 370.366 Q1369.15 368.26 1365.15 368.26 Q1363.27 368.26 1361.4 368.676 Q1359.55 369.093 1357.6 369.973 L1357.6 352.612 Z\" fill=\"#000000\" fill-rule=\"evenodd\" fill-opacity=\"1\" /><path clip-path=\"url(#clip790)\" d=\"M 0 0 M1393.58 355.69 Q1389.96 355.69 1388.14 359.255 Q1386.33 362.797 1386.33 369.926 Q1386.33 377.033 1388.14 380.598 Q1389.96 384.139 1393.58 384.139 Q1397.21 384.139 1399.02 380.598 Q1400.84 377.033 1400.84 369.926 Q1400.84 362.797 1399.02 359.255 Q1397.21 355.69 1393.58 355.69 M1393.58 351.987 Q1399.39 351.987 1402.44 356.593 Q1405.52 361.176 1405.52 369.926 Q1405.52 378.653 1402.44 383.26 Q1399.39 387.843 1393.58 387.843 Q1387.77 387.843 1384.69 383.26 Q1381.63 378.653 1381.63 369.926 Q1381.63 361.176 1384.69 356.593 Q1387.77 351.987 1393.58 351.987 Z\" fill=\"#000000\" fill-rule=\"evenodd\" fill-opacity=\"1\" /><path clip-path=\"url(#clip790)\" d=\"M 0 0 M1357.28 200.333 L1379.5 200.333 L1379.5 202.324 L1366.96 234.893 L1362.07 234.893 L1373.88 204.268 L1357.28 204.268 L1357.28 200.333 Z\" fill=\"#000000\" fill-rule=\"evenodd\" fill-opacity=\"1\" /><path clip-path=\"url(#clip790)\" d=\"M 0 0 M1384.62 200.333 L1402.97 200.333 L1402.97 204.268 L1388.9 204.268 L1388.9 212.741 Q1389.92 212.393 1390.94 212.231 Q1391.96 212.046 1392.97 212.046 Q1398.76 212.046 1402.14 215.217 Q1405.52 218.389 1405.52 223.805 Q1405.52 229.384 1402.05 232.486 Q1398.58 235.564 1392.26 235.564 Q1390.08 235.564 1387.81 235.194 Q1385.57 234.824 1383.16 234.083 L1383.16 229.384 Q1385.24 230.518 1387.46 231.074 Q1389.69 231.629 1392.16 231.629 Q1396.17 231.629 1398.51 229.523 Q1400.84 227.416 1400.84 223.805 Q1400.84 220.194 1398.51 218.088 Q1396.17 215.981 1392.16 215.981 Q1390.29 215.981 1388.41 216.398 Q1386.56 216.815 1384.62 217.694 L1384.62 200.333 Z\" fill=\"#000000\" fill-rule=\"evenodd\" fill-opacity=\"1\" /><path clip-path=\"url(#clip790)\" d=\"M 0 0 M1331.58 78.6796 L1339.22 78.6796 L1339.22 52.314 L1330.91 53.9807 L1330.91 49.7214 L1339.18 48.0548 L1343.85 48.0548 L1343.85 78.6796 L1351.49 78.6796 L1351.49 82.6148 L1331.58 82.6148 L1331.58 78.6796 Z\" fill=\"#000000\" fill-rule=\"evenodd\" fill-opacity=\"1\" /><path clip-path=\"url(#clip790)\" d=\"M 0 0 M1366.56 51.1335 Q1362.95 51.1335 1361.12 54.6983 Q1359.32 58.2399 1359.32 65.3695 Q1359.32 72.4759 1361.12 76.0407 Q1362.95 79.5824 1366.56 79.5824 Q1370.2 79.5824 1372 76.0407 Q1373.83 72.4759 1373.83 65.3695 Q1373.83 58.2399 1372 54.6983 Q1370.2 51.1335 1366.56 51.1335 M1366.56 47.4298 Q1372.37 47.4298 1375.43 52.0362 Q1378.51 56.6195 1378.51 65.3695 Q1378.51 74.0963 1375.43 78.7028 Q1372.37 83.2861 1366.56 83.2861 Q1360.75 83.2861 1357.67 78.7028 Q1354.62 74.0963 1354.62 65.3695 Q1354.62 56.6195 1357.67 52.0362 Q1360.75 47.4298 1366.56 47.4298 Z\" fill=\"#000000\" fill-rule=\"evenodd\" fill-opacity=\"1\" /><path clip-path=\"url(#clip790)\" d=\"M 0 0 M1393.58 51.1335 Q1389.96 51.1335 1388.14 54.6983 Q1386.33 58.2399 1386.33 65.3695 Q1386.33 72.4759 1388.14 76.0407 Q1389.96 79.5824 1393.58 79.5824 Q1397.21 79.5824 1399.02 76.0407 Q1400.84 72.4759 1400.84 65.3695 Q1400.84 58.2399 1399.02 54.6983 Q1397.21 51.1335 1393.58 51.1335 M1393.58 47.4298 Q1399.39 47.4298 1402.44 52.0362 Q1405.52 56.6195 1405.52 65.3695 Q1405.52 74.0963 1402.44 78.7028 Q1399.39 83.2861 1393.58 83.2861 Q1387.77 83.2861 1384.69 78.7028 Q1381.63 74.0963 1381.63 65.3695 Q1381.63 56.6195 1384.69 52.0362 Q1387.77 47.4298 1393.58 47.4298 Z\" fill=\"#000000\" fill-rule=\"evenodd\" fill-opacity=\"1\" /><path clip-path=\"url(#clip790)\" d=\"M 0 0 M1274.05 366.448 Q1275.85 366.448 1276.88 367.575 Q1277.88 368.702 1277.88 369.99 Q1277.88 371.214 1277.17 371.858 Q1276.46 372.502 1275.56 372.502 Q1274.34 372.502 1273.28 371.601 Q1272.21 370.699 1271.99 369.346 Q1271.15 370.667 1271.15 372.631 Q1271.15 373.919 1271.83 375.047 Q1272.5 376.142 1273.37 376.818 Q1274.24 377.462 1275.5 378.042 Q1276.72 378.589 1277.46 378.815 Q1278.17 379.008 1278.94 379.169 L1287.96 381.423 Q1292.25 382.518 1293.76 382.518 Q1295.63 382.518 1296.88 381.617 Q1298.11 380.715 1298.11 378.911 Q1298.11 378.203 1297.91 377.398 Q1297.69 376.593 1297.11 375.562 Q1296.5 374.499 1295.6 373.565 Q1294.66 372.599 1293.08 371.665 Q1291.5 370.731 1289.48 370.119 Q1288.77 369.926 1288.77 369.282 Q1288.77 368.477 1289.41 368.477 Q1289.96 368.477 1291.12 368.928 Q1292.25 369.346 1293.73 370.28 Q1295.18 371.182 1296.5 372.374 Q1297.79 373.565 1298.69 375.337 Q1299.59 377.108 1299.59 379.04 Q1299.59 381.81 1298.11 383.646 Q1296.63 385.481 1294.56 386.158 Q1294.85 386.319 1295.24 386.544 Q1295.63 386.77 1296.5 387.446 Q1297.33 388.09 1297.98 388.831 Q1298.59 389.572 1299.07 390.731 Q1299.59 391.858 1299.59 393.082 Q1299.59 394.628 1299.14 396.013 Q1298.69 397.365 1297.66 398.332 Q1296.63 399.298 1295.21 399.298 Q1293.63 399.298 1292.54 398.235 Q1291.41 397.14 1291.41 395.658 Q1291.41 394.724 1291.96 393.984 Q1292.5 393.211 1293.69 393.211 Q1295.02 393.211 1296.01 394.113 Q1297.01 395.014 1297.27 396.303 Q1298.11 394.982 1298.11 393.018 Q1298.11 390.892 1296.24 389.217 Q1294.37 387.543 1291.25 386.737 Q1283.74 384.741 1280.39 383.968 Q1277.01 383.195 1275.56 383.195 Q1274.21 383.195 1273.28 383.549 Q1272.34 383.903 1271.92 384.515 Q1271.47 385.095 1271.31 385.642 Q1271.15 386.158 1271.15 386.737 Q1271.15 387.704 1271.54 388.799 Q1271.92 389.861 1272.83 391.15 Q1273.7 392.406 1275.5 393.597 Q1277.3 394.789 1279.78 395.594 Q1280.52 395.755 1280.52 396.464 Q1280.49 397.237 1279.85 397.237 Q1279.3 397.237 1278.17 396.818 Q1277.01 396.367 1275.56 395.465 Q1274.11 394.531 1272.83 393.34 Q1271.51 392.116 1270.6 390.344 Q1269.7 388.541 1269.7 386.609 Q1269.7 385.739 1269.89 384.902 Q1270.06 384.032 1270.54 383.002 Q1271.02 381.939 1272.08 381.005 Q1273.15 380.071 1274.69 379.491 Q1273.95 379.105 1273.24 378.589 Q1272.54 378.042 1271.67 377.204 Q1270.76 376.335 1270.25 375.143 Q1269.7 373.919 1269.7 372.567 Q1269.7 371.246 1270.06 369.958 Q1270.38 368.67 1271.44 367.575 Q1272.47 366.448 1274.05 366.448 Z\" fill=\"#000000\" fill-rule=\"evenodd\" fill-opacity=\"1\" /><path clip-path=\"url(#clip790)\" d=\"M 0 0 M1279.22 359.711 Q1278.39 359.711 1278.14 359.643 Q1277.89 359.553 1277.51 359.192 L1267.63 350.332 Q1262.18 345.485 1257.42 345.485 Q1254.33 345.485 1252.12 347.109 Q1249.91 348.709 1249.91 351.663 Q1249.91 353.692 1251.15 355.405 Q1252.39 357.118 1254.6 357.907 Q1254.56 357.772 1254.56 357.299 Q1254.56 356.149 1255.28 355.518 Q1256 354.864 1256.97 354.864 Q1258.21 354.864 1258.82 355.675 Q1259.41 356.464 1259.41 357.254 Q1259.41 357.569 1259.34 357.997 Q1259.27 358.403 1258.64 359.057 Q1257.98 359.711 1256.84 359.711 Q1253.61 359.711 1251.04 357.276 Q1248.47 354.819 1248.47 351.076 Q1248.47 346.838 1251 344.065 Q1253.5 341.27 1257.42 341.27 Q1258.8 341.27 1260.06 341.698 Q1261.3 342.104 1262.27 342.667 Q1263.24 343.209 1264.79 344.696 Q1266.35 346.184 1267.45 347.379 Q1268.56 348.574 1270.9 351.257 L1275.66 356.149 L1275.66 347.83 Q1275.66 343.772 1275.3 343.457 Q1274.65 343.006 1271.2 342.442 L1271.2 341.27 L1279.22 342.577 L1279.22 359.711 Z\" fill=\"#000000\" fill-rule=\"evenodd\" fill-opacity=\"1\" /><polyline clip-path=\"url(#clip793)\" style=\"stroke:#009af9; stroke-width:4; stroke-opacity:1; fill:none\" points=\"\n",
       "  1455.65,668.357 1552.42,650.084 1649.2,619.628 1745.97,576.99 1842.75,522.17 1939.53,455.167 2036.3,375.983 2133.08,284.616 2229.85,181.066 2326.63,65.3348 \n",
       "  \n",
       "  \"/>\n",
       "<path clip-path=\"url(#clip790)\" d=\"\n",
       "M243.027 1486.45 L1166.26 1486.45 L1166.26 847.244 L243.027 847.244  Z\n",
       "  \" fill=\"#ffffff\" fill-rule=\"evenodd\" fill-opacity=\"1\"/>\n",
       "<defs>\n",
       "  <clipPath id=\"clip794\">\n",
       "    <rect x=\"243\" y=\"847\" width=\"924\" height=\"640\"/>\n",
       "  </clipPath>\n",
       "</defs>\n",
       "<polyline clip-path=\"url(#clip794)\" style=\"stroke:#000000; stroke-width:2; stroke-opacity:0.1; fill:none\" points=\"\n",
       "  365.931,1486.45 365.931,847.244 \n",
       "  \"/>\n",
       "<polyline clip-path=\"url(#clip794)\" style=\"stroke:#000000; stroke-width:2; stroke-opacity:0.1; fill:none\" points=\"\n",
       "  559.482,1486.45 559.482,847.244 \n",
       "  \"/>\n",
       "<polyline clip-path=\"url(#clip794)\" style=\"stroke:#000000; stroke-width:2; stroke-opacity:0.1; fill:none\" points=\"\n",
       "  753.032,1486.45 753.032,847.244 \n",
       "  \"/>\n",
       "<polyline clip-path=\"url(#clip794)\" style=\"stroke:#000000; stroke-width:2; stroke-opacity:0.1; fill:none\" points=\"\n",
       "  946.583,1486.45 946.583,847.244 \n",
       "  \"/>\n",
       "<polyline clip-path=\"url(#clip794)\" style=\"stroke:#000000; stroke-width:2; stroke-opacity:0.1; fill:none\" points=\"\n",
       "  1140.13,1486.45 1140.13,847.244 \n",
       "  \"/>\n",
       "<polyline clip-path=\"url(#clip794)\" style=\"stroke:#000000; stroke-width:2; stroke-opacity:0.1; fill:none\" points=\"\n",
       "  243.027,1468.96 1166.26,1468.96 \n",
       "  \"/>\n",
       "<polyline clip-path=\"url(#clip794)\" style=\"stroke:#000000; stroke-width:2; stroke-opacity:0.1; fill:none\" points=\"\n",
       "  243.027,1318.05 1166.26,1318.05 \n",
       "  \"/>\n",
       "<polyline clip-path=\"url(#clip794)\" style=\"stroke:#000000; stroke-width:2; stroke-opacity:0.1; fill:none\" points=\"\n",
       "  243.027,1167.15 1166.26,1167.15 \n",
       "  \"/>\n",
       "<polyline clip-path=\"url(#clip794)\" style=\"stroke:#000000; stroke-width:2; stroke-opacity:0.1; fill:none\" points=\"\n",
       "  243.027,1016.24 1166.26,1016.24 \n",
       "  \"/>\n",
       "<polyline clip-path=\"url(#clip794)\" style=\"stroke:#000000; stroke-width:2; stroke-opacity:0.1; fill:none\" points=\"\n",
       "  243.027,865.335 1166.26,865.335 \n",
       "  \"/>\n",
       "<polyline clip-path=\"url(#clip790)\" style=\"stroke:#000000; stroke-width:4; stroke-opacity:1; fill:none\" points=\"\n",
       "  243.027,1486.45 1166.26,1486.45 \n",
       "  \"/>\n",
       "<polyline clip-path=\"url(#clip790)\" style=\"stroke:#000000; stroke-width:4; stroke-opacity:1; fill:none\" points=\"\n",
       "  243.027,1486.45 243.027,847.244 \n",
       "  \"/>\n",
       "<polyline clip-path=\"url(#clip790)\" style=\"stroke:#000000; stroke-width:4; stroke-opacity:1; fill:none\" points=\"\n",
       "  365.931,1486.45 365.931,1478.78 \n",
       "  \"/>\n",
       "<polyline clip-path=\"url(#clip790)\" style=\"stroke:#000000; stroke-width:4; stroke-opacity:1; fill:none\" points=\"\n",
       "  559.482,1486.45 559.482,1478.78 \n",
       "  \"/>\n",
       "<polyline clip-path=\"url(#clip790)\" style=\"stroke:#000000; stroke-width:4; stroke-opacity:1; fill:none\" points=\"\n",
       "  753.032,1486.45 753.032,1478.78 \n",
       "  \"/>\n",
       "<polyline clip-path=\"url(#clip790)\" style=\"stroke:#000000; stroke-width:4; stroke-opacity:1; fill:none\" points=\"\n",
       "  946.583,1486.45 946.583,1478.78 \n",
       "  \"/>\n",
       "<polyline clip-path=\"url(#clip790)\" style=\"stroke:#000000; stroke-width:4; stroke-opacity:1; fill:none\" points=\"\n",
       "  1140.13,1486.45 1140.13,1478.78 \n",
       "  \"/>\n",
       "<polyline clip-path=\"url(#clip790)\" style=\"stroke:#000000; stroke-width:4; stroke-opacity:1; fill:none\" points=\"\n",
       "  243.027,1468.96 254.105,1468.96 \n",
       "  \"/>\n",
       "<polyline clip-path=\"url(#clip790)\" style=\"stroke:#000000; stroke-width:4; stroke-opacity:1; fill:none\" points=\"\n",
       "  243.027,1318.05 254.105,1318.05 \n",
       "  \"/>\n",
       "<polyline clip-path=\"url(#clip790)\" style=\"stroke:#000000; stroke-width:4; stroke-opacity:1; fill:none\" points=\"\n",
       "  243.027,1167.15 254.105,1167.15 \n",
       "  \"/>\n",
       "<polyline clip-path=\"url(#clip790)\" style=\"stroke:#000000; stroke-width:4; stroke-opacity:1; fill:none\" points=\"\n",
       "  243.027,1016.24 254.105,1016.24 \n",
       "  \"/>\n",
       "<polyline clip-path=\"url(#clip790)\" style=\"stroke:#000000; stroke-width:4; stroke-opacity:1; fill:none\" points=\"\n",
       "  243.027,865.335 254.105,865.335 \n",
       "  \"/>\n",
       "<path clip-path=\"url(#clip790)\" d=\"M 0 0 M360.584 1535.98 L376.903 1535.98 L376.903 1539.92 L354.959 1539.92 L354.959 1535.98 Q357.621 1533.23 362.204 1528.6 Q366.811 1523.95 367.991 1522.61 Q370.237 1520.08 371.116 1518.35 Q372.019 1516.59 372.019 1514.9 Q372.019 1512.14 370.075 1510.41 Q368.153 1508.67 365.052 1508.67 Q362.853 1508.67 360.399 1509.43 Q357.968 1510.2 355.191 1511.75 L355.191 1507.03 Q358.015 1505.89 360.468 1505.31 Q362.922 1504.73 364.959 1504.73 Q370.329 1504.73 373.524 1507.42 Q376.718 1510.11 376.718 1514.6 Q376.718 1516.73 375.908 1518.65 Q375.121 1520.54 373.015 1523.14 Q372.436 1523.81 369.334 1527.03 Q366.232 1530.22 360.584 1535.98 Z\" fill=\"#000000\" fill-rule=\"evenodd\" fill-opacity=\"1\" /><path clip-path=\"url(#clip790)\" d=\"M 0 0 M562.491 1509.43 L550.686 1527.88 L562.491 1527.88 L562.491 1509.43 M561.264 1505.36 L567.144 1505.36 L567.144 1527.88 L572.074 1527.88 L572.074 1531.77 L567.144 1531.77 L567.144 1539.92 L562.491 1539.92 L562.491 1531.77 L546.889 1531.77 L546.889 1527.26 L561.264 1505.36 Z\" fill=\"#000000\" fill-rule=\"evenodd\" fill-opacity=\"1\" /><path clip-path=\"url(#clip790)\" d=\"M 0 0 M753.437 1520.78 Q750.289 1520.78 748.437 1522.93 Q746.609 1525.08 746.609 1528.83 Q746.609 1532.56 748.437 1534.73 Q750.289 1536.89 753.437 1536.89 Q756.586 1536.89 758.414 1534.73 Q760.266 1532.56 760.266 1528.83 Q760.266 1525.08 758.414 1522.93 Q756.586 1520.78 753.437 1520.78 M762.72 1506.12 L762.72 1510.38 Q760.961 1509.55 759.155 1509.11 Q757.373 1508.67 755.613 1508.67 Q750.984 1508.67 748.53 1511.8 Q746.1 1514.92 745.752 1521.24 Q747.118 1519.23 749.178 1518.16 Q751.238 1517.07 753.715 1517.07 Q758.924 1517.07 761.933 1520.24 Q764.965 1523.39 764.965 1528.83 Q764.965 1534.16 761.817 1537.37 Q758.669 1540.59 753.437 1540.59 Q747.442 1540.59 744.271 1536.01 Q741.1 1531.4 741.1 1522.67 Q741.1 1514.48 744.988 1509.62 Q748.877 1504.73 755.428 1504.73 Q757.187 1504.73 758.97 1505.08 Q760.775 1505.43 762.72 1506.12 Z\" fill=\"#000000\" fill-rule=\"evenodd\" fill-opacity=\"1\" /><path clip-path=\"url(#clip790)\" d=\"M 0 0 M946.583 1523.51 Q943.25 1523.51 941.328 1525.29 Q939.43 1527.07 939.43 1530.2 Q939.43 1533.32 941.328 1535.11 Q943.25 1536.89 946.583 1536.89 Q949.916 1536.89 951.838 1535.11 Q953.759 1533.3 953.759 1530.2 Q953.759 1527.07 951.838 1525.29 Q949.939 1523.51 946.583 1523.51 M941.907 1521.52 Q938.898 1520.78 937.208 1518.72 Q935.541 1516.66 935.541 1513.69 Q935.541 1509.55 938.481 1507.14 Q941.444 1504.73 946.583 1504.73 Q951.745 1504.73 954.685 1507.14 Q957.625 1509.55 957.625 1513.69 Q957.625 1516.66 955.935 1518.72 Q954.268 1520.78 951.282 1521.52 Q954.662 1522.3 956.537 1524.6 Q958.435 1526.89 958.435 1530.2 Q958.435 1535.22 955.356 1537.91 Q952.3 1540.59 946.583 1540.59 Q940.865 1540.59 937.787 1537.91 Q934.731 1535.22 934.731 1530.2 Q934.731 1526.89 936.629 1524.6 Q938.527 1522.3 941.907 1521.52 M940.194 1514.13 Q940.194 1516.82 941.861 1518.32 Q943.551 1519.83 946.583 1519.83 Q949.592 1519.83 951.282 1518.32 Q952.995 1516.82 952.995 1514.13 Q952.995 1511.45 951.282 1509.94 Q949.592 1508.44 946.583 1508.44 Q943.551 1508.44 941.861 1509.94 Q940.194 1511.45 940.194 1514.13 Z\" fill=\"#000000\" fill-rule=\"evenodd\" fill-opacity=\"1\" /><path clip-path=\"url(#clip790)\" d=\"M 0 0 M1117.01 1535.98 L1124.65 1535.98 L1124.65 1509.62 L1116.34 1511.29 L1116.34 1507.03 L1124.6 1505.36 L1129.28 1505.36 L1129.28 1535.98 L1136.92 1535.98 L1136.92 1539.92 L1117.01 1539.92 L1117.01 1535.98 Z\" fill=\"#000000\" fill-rule=\"evenodd\" fill-opacity=\"1\" /><path clip-path=\"url(#clip790)\" d=\"M 0 0 M1151.99 1508.44 Q1148.37 1508.44 1146.55 1512 Q1144.74 1515.55 1144.74 1522.67 Q1144.74 1529.78 1146.55 1533.35 Q1148.37 1536.89 1151.99 1536.89 Q1155.62 1536.89 1157.43 1533.35 Q1159.25 1529.78 1159.25 1522.67 Q1159.25 1515.55 1157.43 1512 Q1155.62 1508.44 1151.99 1508.44 M1151.99 1504.73 Q1157.8 1504.73 1160.85 1509.34 Q1163.93 1513.92 1163.93 1522.67 Q1163.93 1531.4 1160.85 1536.01 Q1157.8 1540.59 1151.99 1540.59 Q1146.18 1540.59 1143.1 1536.01 Q1140.04 1531.4 1140.04 1522.67 Q1140.04 1513.92 1143.1 1509.34 Q1146.18 1504.73 1151.99 1504.73 Z\" fill=\"#000000\" fill-rule=\"evenodd\" fill-opacity=\"1\" /><path clip-path=\"url(#clip790)\" d=\"M 0 0 M207.082 1454.76 Q203.471 1454.76 201.642 1458.32 Q199.837 1461.87 199.837 1469 Q199.837 1476.1 201.642 1479.67 Q203.471 1483.21 207.082 1483.21 Q210.717 1483.21 212.522 1479.67 Q214.351 1476.1 214.351 1469 Q214.351 1461.87 212.522 1458.32 Q210.717 1454.76 207.082 1454.76 M207.082 1451.06 Q212.892 1451.06 215.948 1455.66 Q219.027 1460.25 219.027 1469 Q219.027 1477.72 215.948 1482.33 Q212.892 1486.91 207.082 1486.91 Q201.272 1486.91 198.193 1482.33 Q195.138 1477.72 195.138 1469 Q195.138 1460.25 198.193 1455.66 Q201.272 1451.06 207.082 1451.06 Z\" fill=\"#000000\" fill-rule=\"evenodd\" fill-opacity=\"1\" /><path clip-path=\"url(#clip790)\" d=\"M 0 0 M149.675 1331.4 L165.995 1331.4 L165.995 1335.33 L144.05 1335.33 L144.05 1331.4 Q146.712 1328.64 151.296 1324.01 Q155.902 1319.36 157.083 1318.02 Q159.328 1315.5 160.208 1313.76 Q161.11 1312 161.11 1310.31 Q161.11 1307.56 159.166 1305.82 Q157.245 1304.08 154.143 1304.08 Q151.944 1304.08 149.49 1304.85 Q147.059 1305.61 144.282 1307.16 L144.282 1302.44 Q147.106 1301.31 149.559 1300.73 Q152.013 1300.15 154.05 1300.15 Q159.42 1300.15 162.615 1302.83 Q165.809 1305.52 165.809 1310.01 Q165.809 1312.14 164.999 1314.06 Q164.212 1315.96 162.106 1318.55 Q161.527 1319.22 158.425 1322.44 Q155.323 1325.64 149.675 1331.4 Z\" fill=\"#000000\" fill-rule=\"evenodd\" fill-opacity=\"1\" /><path clip-path=\"url(#clip790)\" d=\"M 0 0 M171.11 1300.77 L189.467 1300.77 L189.467 1304.71 L175.393 1304.71 L175.393 1313.18 Q176.411 1312.83 177.43 1312.67 Q178.448 1312.49 179.467 1312.49 Q185.254 1312.49 188.633 1315.66 Q192.013 1318.83 192.013 1324.25 Q192.013 1329.83 188.541 1332.93 Q185.068 1336.01 178.749 1336.01 Q176.573 1336.01 174.305 1335.64 Q172.059 1335.26 169.652 1334.52 L169.652 1329.83 Q171.735 1330.96 173.957 1331.51 Q176.18 1332.07 178.656 1332.07 Q182.661 1332.07 184.999 1329.96 Q187.337 1327.86 187.337 1324.25 Q187.337 1320.64 184.999 1318.53 Q182.661 1316.42 178.656 1316.42 Q176.782 1316.42 174.907 1316.84 Q173.055 1317.26 171.11 1318.14 L171.11 1300.77 Z\" fill=\"#000000\" fill-rule=\"evenodd\" fill-opacity=\"1\" /><path clip-path=\"url(#clip790)\" d=\"M 0 0 M207.082 1303.85 Q203.471 1303.85 201.642 1307.42 Q199.837 1310.96 199.837 1318.09 Q199.837 1325.2 201.642 1328.76 Q203.471 1332.3 207.082 1332.3 Q210.717 1332.3 212.522 1328.76 Q214.351 1325.2 214.351 1318.09 Q214.351 1310.96 212.522 1307.42 Q210.717 1303.85 207.082 1303.85 M207.082 1300.15 Q212.892 1300.15 215.948 1304.76 Q219.027 1309.34 219.027 1318.09 Q219.027 1326.82 215.948 1331.42 Q212.892 1336.01 207.082 1336.01 Q201.272 1336.01 198.193 1331.42 Q195.138 1326.82 195.138 1318.09 Q195.138 1309.34 198.193 1304.76 Q201.272 1300.15 207.082 1300.15 Z\" fill=\"#000000\" fill-rule=\"evenodd\" fill-opacity=\"1\" /><path clip-path=\"url(#clip790)\" d=\"M 0 0 M144.096 1149.87 L162.453 1149.87 L162.453 1153.8 L148.379 1153.8 L148.379 1162.28 Q149.397 1161.93 150.416 1161.77 Q151.434 1161.58 152.453 1161.58 Q158.24 1161.58 161.62 1164.75 Q164.999 1167.92 164.999 1173.34 Q164.999 1178.92 161.527 1182.02 Q158.055 1185.1 151.735 1185.1 Q149.559 1185.1 147.291 1184.73 Q145.046 1184.36 142.638 1183.62 L142.638 1178.92 Q144.721 1180.05 146.944 1180.61 Q149.166 1181.16 151.643 1181.16 Q155.647 1181.16 157.985 1179.06 Q160.323 1176.95 160.323 1173.34 Q160.323 1169.73 157.985 1167.62 Q155.647 1165.52 151.643 1165.52 Q149.768 1165.52 147.893 1165.93 Q146.041 1166.35 144.096 1167.23 L144.096 1149.87 Z\" fill=\"#000000\" fill-rule=\"evenodd\" fill-opacity=\"1\" /><path clip-path=\"url(#clip790)\" d=\"M 0 0 M180.069 1152.95 Q176.457 1152.95 174.629 1156.51 Q172.823 1160.05 172.823 1167.18 Q172.823 1174.29 174.629 1177.85 Q176.457 1181.4 180.069 1181.4 Q183.703 1181.4 185.508 1177.85 Q187.337 1174.29 187.337 1167.18 Q187.337 1160.05 185.508 1156.51 Q183.703 1152.95 180.069 1152.95 M180.069 1149.24 Q185.879 1149.24 188.934 1153.85 Q192.013 1158.43 192.013 1167.18 Q192.013 1175.91 188.934 1180.52 Q185.879 1185.1 180.069 1185.1 Q174.258 1185.1 171.18 1180.52 Q168.124 1175.91 168.124 1167.18 Q168.124 1158.43 171.18 1153.85 Q174.258 1149.24 180.069 1149.24 Z\" fill=\"#000000\" fill-rule=\"evenodd\" fill-opacity=\"1\" /><path clip-path=\"url(#clip790)\" d=\"M 0 0 M207.082 1152.95 Q203.471 1152.95 201.642 1156.51 Q199.837 1160.05 199.837 1167.18 Q199.837 1174.29 201.642 1177.85 Q203.471 1181.4 207.082 1181.4 Q210.717 1181.4 212.522 1177.85 Q214.351 1174.29 214.351 1167.18 Q214.351 1160.05 212.522 1156.51 Q210.717 1152.95 207.082 1152.95 M207.082 1149.24 Q212.892 1149.24 215.948 1153.85 Q219.027 1158.43 219.027 1167.18 Q219.027 1175.91 215.948 1180.52 Q212.892 1185.1 207.082 1185.1 Q201.272 1185.1 198.193 1180.52 Q195.138 1175.91 195.138 1167.18 Q195.138 1158.43 198.193 1153.85 Q201.272 1149.24 207.082 1149.24 Z\" fill=\"#000000\" fill-rule=\"evenodd\" fill-opacity=\"1\" /><path clip-path=\"url(#clip790)\" d=\"M 0 0 M143.772 998.961 L165.995 998.961 L165.995 1000.95 L153.448 1033.52 L148.564 1033.52 L160.37 1002.9 L143.772 1002.9 L143.772 998.961 Z\" fill=\"#000000\" fill-rule=\"evenodd\" fill-opacity=\"1\" /><path clip-path=\"url(#clip790)\" d=\"M 0 0 M171.11 998.961 L189.467 998.961 L189.467 1002.9 L175.393 1002.9 L175.393 1011.37 Q176.411 1011.02 177.43 1010.86 Q178.448 1010.67 179.467 1010.67 Q185.254 1010.67 188.633 1013.85 Q192.013 1017.02 192.013 1022.43 Q192.013 1028.01 188.541 1031.11 Q185.068 1034.19 178.749 1034.19 Q176.573 1034.19 174.305 1033.82 Q172.059 1033.45 169.652 1032.71 L169.652 1028.01 Q171.735 1029.15 173.957 1029.7 Q176.18 1030.26 178.656 1030.26 Q182.661 1030.26 184.999 1028.15 Q187.337 1026.04 187.337 1022.43 Q187.337 1018.82 184.999 1016.72 Q182.661 1014.61 178.656 1014.61 Q176.782 1014.61 174.907 1015.03 Q173.055 1015.44 171.11 1016.32 L171.11 998.961 Z\" fill=\"#000000\" fill-rule=\"evenodd\" fill-opacity=\"1\" /><path clip-path=\"url(#clip790)\" d=\"M 0 0 M207.082 1002.04 Q203.471 1002.04 201.642 1005.6 Q199.837 1009.15 199.837 1016.28 Q199.837 1023.38 201.642 1026.95 Q203.471 1030.49 207.082 1030.49 Q210.717 1030.49 212.522 1026.95 Q214.351 1023.38 214.351 1016.28 Q214.351 1009.15 212.522 1005.6 Q210.717 1002.04 207.082 1002.04 M207.082 998.336 Q212.892 998.336 215.948 1002.94 Q219.027 1007.53 219.027 1016.28 Q219.027 1025 215.948 1029.61 Q212.892 1034.19 207.082 1034.19 Q201.272 1034.19 198.193 1029.61 Q195.138 1025 195.138 1016.28 Q195.138 1007.53 198.193 1002.94 Q201.272 998.336 207.082 998.336 Z\" fill=\"#000000\" fill-rule=\"evenodd\" fill-opacity=\"1\" /><path clip-path=\"url(#clip790)\" d=\"M 0 0 M118.078 878.68 L125.717 878.68 L125.717 852.314 L117.407 853.981 L117.407 849.721 L125.671 848.055 L130.347 848.055 L130.347 878.68 L137.985 878.68 L137.985 882.615 L118.078 882.615 L118.078 878.68 Z\" fill=\"#000000\" fill-rule=\"evenodd\" fill-opacity=\"1\" /><path clip-path=\"url(#clip790)\" d=\"M 0 0 M153.055 851.133 Q149.444 851.133 147.615 854.698 Q145.809 858.24 145.809 865.369 Q145.809 872.476 147.615 876.041 Q149.444 879.582 153.055 879.582 Q156.689 879.582 158.495 876.041 Q160.323 872.476 160.323 865.369 Q160.323 858.24 158.495 854.698 Q156.689 851.133 153.055 851.133 M153.055 847.43 Q158.865 847.43 161.92 852.036 Q164.999 856.62 164.999 865.369 Q164.999 874.096 161.92 878.703 Q158.865 883.286 153.055 883.286 Q147.245 883.286 144.166 878.703 Q141.11 874.096 141.11 865.369 Q141.11 856.62 144.166 852.036 Q147.245 847.43 153.055 847.43 Z\" fill=\"#000000\" fill-rule=\"evenodd\" fill-opacity=\"1\" /><path clip-path=\"url(#clip790)\" d=\"M 0 0 M180.069 851.133 Q176.457 851.133 174.629 854.698 Q172.823 858.24 172.823 865.369 Q172.823 872.476 174.629 876.041 Q176.457 879.582 180.069 879.582 Q183.703 879.582 185.508 876.041 Q187.337 872.476 187.337 865.369 Q187.337 858.24 185.508 854.698 Q183.703 851.133 180.069 851.133 M180.069 847.43 Q185.879 847.43 188.934 852.036 Q192.013 856.62 192.013 865.369 Q192.013 874.096 188.934 878.703 Q185.879 883.286 180.069 883.286 Q174.258 883.286 171.18 878.703 Q168.124 874.096 168.124 865.369 Q168.124 856.62 171.18 852.036 Q174.258 847.43 180.069 847.43 Z\" fill=\"#000000\" fill-rule=\"evenodd\" fill-opacity=\"1\" /><path clip-path=\"url(#clip790)\" d=\"M 0 0 M207.082 851.133 Q203.471 851.133 201.642 854.698 Q199.837 858.24 199.837 865.369 Q199.837 872.476 201.642 876.041 Q203.471 879.582 207.082 879.582 Q210.717 879.582 212.522 876.041 Q214.351 872.476 214.351 865.369 Q214.351 858.24 212.522 854.698 Q210.717 851.133 207.082 851.133 M207.082 847.43 Q212.892 847.43 215.948 852.036 Q219.027 856.62 219.027 865.369 Q219.027 874.096 215.948 878.703 Q212.892 883.286 207.082 883.286 Q201.272 883.286 198.193 878.703 Q195.138 874.096 195.138 865.369 Q195.138 856.62 198.193 852.036 Q201.272 847.43 207.082 847.43 Z\" fill=\"#000000\" fill-rule=\"evenodd\" fill-opacity=\"1\" /><path clip-path=\"url(#clip790)\" d=\"M 0 0 M61.5378 1166.8 Q63.3414 1166.8 64.372 1167.93 Q65.3703 1169.06 65.3703 1170.35 Q65.3703 1171.57 64.6618 1172.21 Q63.9533 1172.86 63.0515 1172.86 Q61.8277 1172.86 60.7649 1171.96 Q59.7021 1171.05 59.4767 1169.7 Q58.6393 1171.02 58.6393 1172.99 Q58.6393 1174.27 59.3156 1175.4 Q59.992 1176.5 60.8615 1177.17 Q61.7311 1177.82 62.9871 1178.4 Q64.2109 1178.94 64.9517 1179.17 Q65.6602 1179.36 66.4331 1179.52 L75.4508 1181.78 Q79.7342 1182.87 81.2478 1182.87 Q83.1158 1182.87 84.3718 1181.97 Q85.5956 1181.07 85.5956 1179.27 Q85.5956 1178.56 85.4024 1177.75 Q85.1769 1176.95 84.5972 1175.92 Q83.9853 1174.85 83.0836 1173.92 Q82.1496 1172.95 80.5715 1172.02 Q78.9934 1171.09 76.9644 1170.47 Q76.2559 1170.28 76.2559 1169.64 Q76.2559 1168.83 76.9 1168.83 Q77.4475 1168.83 78.6069 1169.28 Q79.7342 1169.7 81.2156 1170.64 Q82.6649 1171.54 83.9853 1172.73 Q85.2736 1173.92 86.1753 1175.69 Q87.0771 1177.46 87.0771 1179.4 Q87.0771 1182.17 85.5956 1184 Q84.1142 1185.84 82.053 1186.51 Q82.3428 1186.67 82.7293 1186.9 Q83.1158 1187.13 83.9853 1187.8 Q84.8227 1188.45 85.4668 1189.19 Q86.0787 1189.93 86.5618 1191.09 Q87.0771 1192.21 87.0771 1193.44 Q87.0771 1194.98 86.6262 1196.37 Q86.1753 1197.72 85.1447 1198.69 Q84.1142 1199.65 82.6971 1199.65 Q81.119 1199.65 80.024 1198.59 Q78.8968 1197.5 78.8968 1196.01 Q78.8968 1195.08 79.4443 1194.34 Q79.9918 1193.57 81.1834 1193.57 Q82.5039 1193.57 83.5022 1194.47 Q84.5006 1195.37 84.7583 1196.66 Q85.5956 1195.34 85.5956 1193.37 Q85.5956 1191.25 83.7277 1189.57 Q81.8597 1187.9 78.7358 1187.09 Q71.2318 1185.1 67.8824 1184.32 Q64.5008 1183.55 63.0515 1183.55 Q61.6989 1183.55 60.7649 1183.9 Q59.8309 1184.26 59.4123 1184.87 Q58.9614 1185.45 58.8003 1186 Q58.6393 1186.51 58.6393 1187.09 Q58.6393 1188.06 59.0258 1189.15 Q59.4123 1190.22 60.314 1191.51 Q61.1836 1192.76 62.9871 1193.95 Q64.7906 1195.14 67.2705 1195.95 Q68.0112 1196.11 68.0112 1196.82 Q67.979 1197.59 67.3349 1197.59 Q66.7874 1197.59 65.6602 1197.17 Q64.5008 1196.72 63.0515 1195.82 Q61.6023 1194.89 60.314 1193.7 Q58.9936 1192.47 58.0918 1190.7 Q57.1901 1188.9 57.1901 1186.96 Q57.1901 1186.09 57.3833 1185.26 Q57.5443 1184.39 58.0274 1183.36 Q58.5105 1182.29 59.5733 1181.36 Q60.6361 1180.43 62.182 1179.85 Q61.4412 1179.46 60.7327 1178.94 Q60.0242 1178.4 59.1546 1177.56 Q58.2528 1176.69 57.7376 1175.5 Q57.1901 1174.27 57.1901 1172.92 Q57.1901 1171.6 57.5443 1170.31 Q57.8664 1169.03 58.9292 1167.93 Q59.9598 1166.8 61.5378 1166.8 Z\" fill=\"#000000\" fill-rule=\"evenodd\" fill-opacity=\"1\" /><path clip-path=\"url(#clip790)\" d=\"M 0 0 M59.4925 1160.07 Q58.1173 1160.07 57.4635 1159.28 Q56.8097 1158.49 56.8097 1157.47 Q56.8097 1156.41 57.5086 1155.67 Q58.1849 1154.9 59.3797 1154.9 Q60.6648 1154.9 61.3862 1155.81 Q62.1076 1156.68 61.9272 1157.95 Q63.7758 1156.84 64.61 1154.81 Q65.4441 1152.76 65.4441 1150.87 Q65.4441 1148.88 63.7308 1147.28 Q62.0174 1145.66 57.8242 1145.66 Q54.2622 1145.66 52.2107 1147.06 Q50.1592 1148.43 50.1592 1151.16 L50.1592 1153.19 Q50.1592 1153.89 50.0916 1154.09 Q50.0239 1154.3 49.6407 1154.3 Q49.1898 1154.3 49.0996 1153.6 Q49.0996 1152.9 48.9644 1151.79 Q48.8742 1149.11 46.5521 1147.69 Q44.3879 1146.4 41.2994 1146.4 Q38.4814 1146.4 37.3091 1147.76 Q36.1142 1149.09 36.1142 1150.82 Q36.1142 1152.45 36.7906 1154.23 Q37.4669 1156.01 38.9773 1156.98 Q38.9773 1154.11 41.2994 1154.11 Q42.3139 1154.11 42.9902 1154.77 Q43.644 1155.4 43.644 1156.46 Q43.644 1157.47 43.0127 1158.15 Q42.3589 1158.83 41.2543 1158.83 Q38.6166 1158.83 36.7906 1156.48 Q34.9645 1154.11 34.9645 1150.64 Q34.9645 1147.22 36.768 1144.69 Q38.5715 1142.14 41.3445 1142.14 Q44.0723 1142.14 46.3042 1143.95 Q48.536 1145.75 49.4603 1148.61 Q50.1592 1145.1 52.5489 1143 Q54.916 1140.9 57.8242 1140.9 Q61.4313 1140.9 64.0915 1143.74 Q66.7291 1146.58 66.7291 1150.73 Q66.7291 1154.57 64.6551 1157.32 Q62.581 1160.07 59.4925 1160.07 Z\" fill=\"#000000\" fill-rule=\"evenodd\" fill-opacity=\"1\" /><polyline clip-path=\"url(#clip794)\" style=\"stroke:#009af9; stroke-width:4; stroke-opacity:1; fill:none\" points=\"\n",
       "  269.156,1468.36 365.931,1464.13 462.707,1452.66 559.482,1430.33 656.257,1393.51 753.032,1338.58 849.808,1261.92 946.583,1159.9 1043.36,1028.92 1140.13,865.335 \n",
       "  \n",
       "  \"/>\n",
       "<path clip-path=\"url(#clip790)\" d=\"\n",
       "M1419.97 1486.45 L2352.76 1486.45 L2352.76 847.244 L1419.97 847.244  Z\n",
       "  \" fill=\"#ffffff\" fill-rule=\"evenodd\" fill-opacity=\"1\"/>\n",
       "<defs>\n",
       "  <clipPath id=\"clip795\">\n",
       "    <rect x=\"1419\" y=\"847\" width=\"934\" height=\"640\"/>\n",
       "  </clipPath>\n",
       "</defs>\n",
       "<polyline clip-path=\"url(#clip795)\" style=\"stroke:#000000; stroke-width:2; stroke-opacity:0.1; fill:none\" points=\"\n",
       "  1544.14,1486.45 1544.14,847.244 \n",
       "  \"/>\n",
       "<polyline clip-path=\"url(#clip795)\" style=\"stroke:#000000; stroke-width:2; stroke-opacity:0.1; fill:none\" points=\"\n",
       "  1739.7,1486.45 1739.7,847.244 \n",
       "  \"/>\n",
       "<polyline clip-path=\"url(#clip795)\" style=\"stroke:#000000; stroke-width:2; stroke-opacity:0.1; fill:none\" points=\"\n",
       "  1935.25,1486.45 1935.25,847.244 \n",
       "  \"/>\n",
       "<polyline clip-path=\"url(#clip795)\" style=\"stroke:#000000; stroke-width:2; stroke-opacity:0.1; fill:none\" points=\"\n",
       "  2130.8,1486.45 2130.8,847.244 \n",
       "  \"/>\n",
       "<polyline clip-path=\"url(#clip795)\" style=\"stroke:#000000; stroke-width:2; stroke-opacity:0.1; fill:none\" points=\"\n",
       "  2326.36,1486.45 2326.36,847.244 \n",
       "  \"/>\n",
       "<polyline clip-path=\"url(#clip795)\" style=\"stroke:#000000; stroke-width:2; stroke-opacity:0.1; fill:none\" points=\"\n",
       "  1419.97,1468.36 2352.76,1468.36 \n",
       "  \"/>\n",
       "<polyline clip-path=\"url(#clip795)\" style=\"stroke:#000000; stroke-width:2; stroke-opacity:0.1; fill:none\" points=\"\n",
       "  1419.97,1328.92 2352.76,1328.92 \n",
       "  \"/>\n",
       "<polyline clip-path=\"url(#clip795)\" style=\"stroke:#000000; stroke-width:2; stroke-opacity:0.1; fill:none\" points=\"\n",
       "  1419.97,1189.47 2352.76,1189.47 \n",
       "  \"/>\n",
       "<polyline clip-path=\"url(#clip795)\" style=\"stroke:#000000; stroke-width:2; stroke-opacity:0.1; fill:none\" points=\"\n",
       "  1419.97,1050.03 2352.76,1050.03 \n",
       "  \"/>\n",
       "<polyline clip-path=\"url(#clip795)\" style=\"stroke:#000000; stroke-width:2; stroke-opacity:0.1; fill:none\" points=\"\n",
       "  1419.97,910.591 2352.76,910.591 \n",
       "  \"/>\n",
       "<polyline clip-path=\"url(#clip790)\" style=\"stroke:#000000; stroke-width:4; stroke-opacity:1; fill:none\" points=\"\n",
       "  1419.97,1486.45 2352.76,1486.45 \n",
       "  \"/>\n",
       "<polyline clip-path=\"url(#clip790)\" style=\"stroke:#000000; stroke-width:4; stroke-opacity:1; fill:none\" points=\"\n",
       "  1419.97,1486.45 1419.97,847.244 \n",
       "  \"/>\n",
       "<polyline clip-path=\"url(#clip790)\" style=\"stroke:#000000; stroke-width:4; stroke-opacity:1; fill:none\" points=\"\n",
       "  1544.14,1486.45 1544.14,1478.78 \n",
       "  \"/>\n",
       "<polyline clip-path=\"url(#clip790)\" style=\"stroke:#000000; stroke-width:4; stroke-opacity:1; fill:none\" points=\"\n",
       "  1739.7,1486.45 1739.7,1478.78 \n",
       "  \"/>\n",
       "<polyline clip-path=\"url(#clip790)\" style=\"stroke:#000000; stroke-width:4; stroke-opacity:1; fill:none\" points=\"\n",
       "  1935.25,1486.45 1935.25,1478.78 \n",
       "  \"/>\n",
       "<polyline clip-path=\"url(#clip790)\" style=\"stroke:#000000; stroke-width:4; stroke-opacity:1; fill:none\" points=\"\n",
       "  2130.8,1486.45 2130.8,1478.78 \n",
       "  \"/>\n",
       "<polyline clip-path=\"url(#clip790)\" style=\"stroke:#000000; stroke-width:4; stroke-opacity:1; fill:none\" points=\"\n",
       "  2326.36,1486.45 2326.36,1478.78 \n",
       "  \"/>\n",
       "<polyline clip-path=\"url(#clip790)\" style=\"stroke:#000000; stroke-width:4; stroke-opacity:1; fill:none\" points=\"\n",
       "  1419.97,1468.36 1431.16,1468.36 \n",
       "  \"/>\n",
       "<polyline clip-path=\"url(#clip790)\" style=\"stroke:#000000; stroke-width:4; stroke-opacity:1; fill:none\" points=\"\n",
       "  1419.97,1328.92 1431.16,1328.92 \n",
       "  \"/>\n",
       "<polyline clip-path=\"url(#clip790)\" style=\"stroke:#000000; stroke-width:4; stroke-opacity:1; fill:none\" points=\"\n",
       "  1419.97,1189.47 1431.16,1189.47 \n",
       "  \"/>\n",
       "<polyline clip-path=\"url(#clip790)\" style=\"stroke:#000000; stroke-width:4; stroke-opacity:1; fill:none\" points=\"\n",
       "  1419.97,1050.03 1431.16,1050.03 \n",
       "  \"/>\n",
       "<polyline clip-path=\"url(#clip790)\" style=\"stroke:#000000; stroke-width:4; stroke-opacity:1; fill:none\" points=\"\n",
       "  1419.97,910.591 1431.16,910.591 \n",
       "  \"/>\n",
       "<path clip-path=\"url(#clip790)\" d=\"M 0 0 M1538.8 1535.98 L1555.12 1535.98 L1555.12 1539.92 L1533.17 1539.92 L1533.17 1535.98 Q1535.83 1533.23 1540.42 1528.6 Q1545.02 1523.95 1546.21 1522.61 Q1548.45 1520.08 1549.33 1518.35 Q1550.23 1516.59 1550.23 1514.9 Q1550.23 1512.14 1548.29 1510.41 Q1546.37 1508.67 1543.27 1508.67 Q1541.07 1508.67 1538.61 1509.43 Q1536.18 1510.2 1533.4 1511.75 L1533.4 1507.03 Q1536.23 1505.89 1538.68 1505.31 Q1541.14 1504.73 1543.17 1504.73 Q1548.54 1504.73 1551.74 1507.42 Q1554.93 1510.11 1554.93 1514.6 Q1554.93 1516.73 1554.12 1518.65 Q1553.33 1520.54 1551.23 1523.14 Q1550.65 1523.81 1547.55 1527.03 Q1544.45 1530.22 1538.8 1535.98 Z\" fill=\"#000000\" fill-rule=\"evenodd\" fill-opacity=\"1\" /><path clip-path=\"url(#clip790)\" d=\"M 0 0 M1742.71 1509.43 L1730.9 1527.88 L1742.71 1527.88 L1742.71 1509.43 M1741.48 1505.36 L1747.36 1505.36 L1747.36 1527.88 L1752.29 1527.88 L1752.29 1531.77 L1747.36 1531.77 L1747.36 1539.92 L1742.71 1539.92 L1742.71 1531.77 L1727.11 1531.77 L1727.11 1527.26 L1741.48 1505.36 Z\" fill=\"#000000\" fill-rule=\"evenodd\" fill-opacity=\"1\" /><path clip-path=\"url(#clip790)\" d=\"M 0 0 M1935.66 1520.78 Q1932.51 1520.78 1930.66 1522.93 Q1928.83 1525.08 1928.83 1528.83 Q1928.83 1532.56 1930.66 1534.73 Q1932.51 1536.89 1935.66 1536.89 Q1938.8 1536.89 1940.63 1534.73 Q1942.48 1532.56 1942.48 1528.83 Q1942.48 1525.08 1940.63 1522.93 Q1938.8 1520.78 1935.66 1520.78 M1944.94 1506.12 L1944.94 1510.38 Q1943.18 1509.55 1941.37 1509.11 Q1939.59 1508.67 1937.83 1508.67 Q1933.2 1508.67 1930.75 1511.8 Q1928.32 1514.92 1927.97 1521.24 Q1929.34 1519.23 1931.4 1518.16 Q1933.46 1517.07 1935.93 1517.07 Q1941.14 1517.07 1944.15 1520.24 Q1947.18 1523.39 1947.18 1528.83 Q1947.18 1534.16 1944.04 1537.37 Q1940.89 1540.59 1935.66 1540.59 Q1929.66 1540.59 1926.49 1536.01 Q1923.32 1531.4 1923.32 1522.67 Q1923.32 1514.48 1927.21 1509.62 Q1931.1 1504.73 1937.65 1504.73 Q1939.41 1504.73 1941.19 1505.08 Q1942.99 1505.43 1944.94 1506.12 Z\" fill=\"#000000\" fill-rule=\"evenodd\" fill-opacity=\"1\" /><path clip-path=\"url(#clip790)\" d=\"M 0 0 M2130.8 1523.51 Q2127.47 1523.51 2125.55 1525.29 Q2123.65 1527.07 2123.65 1530.2 Q2123.65 1533.32 2125.55 1535.11 Q2127.47 1536.89 2130.8 1536.89 Q2134.14 1536.89 2136.06 1535.11 Q2137.98 1533.3 2137.98 1530.2 Q2137.98 1527.07 2136.06 1525.29 Q2134.16 1523.51 2130.8 1523.51 M2126.13 1521.52 Q2123.12 1520.78 2121.43 1518.72 Q2119.76 1516.66 2119.76 1513.69 Q2119.76 1509.55 2122.7 1507.14 Q2125.66 1504.73 2130.8 1504.73 Q2135.97 1504.73 2138.91 1507.14 Q2141.85 1509.55 2141.85 1513.69 Q2141.85 1516.66 2140.16 1518.72 Q2138.49 1520.78 2135.5 1521.52 Q2138.88 1522.3 2140.76 1524.6 Q2142.66 1526.89 2142.66 1530.2 Q2142.66 1535.22 2139.58 1537.91 Q2136.52 1540.59 2130.8 1540.59 Q2125.09 1540.59 2122.01 1537.91 Q2118.95 1535.22 2118.95 1530.2 Q2118.95 1526.89 2120.85 1524.6 Q2122.75 1522.3 2126.13 1521.52 M2124.41 1514.13 Q2124.41 1516.82 2126.08 1518.32 Q2127.77 1519.83 2130.8 1519.83 Q2133.81 1519.83 2135.5 1518.32 Q2137.22 1516.82 2137.22 1514.13 Q2137.22 1511.45 2135.5 1509.94 Q2133.81 1508.44 2130.8 1508.44 Q2127.77 1508.44 2126.08 1509.94 Q2124.41 1511.45 2124.41 1514.13 Z\" fill=\"#000000\" fill-rule=\"evenodd\" fill-opacity=\"1\" /><path clip-path=\"url(#clip790)\" d=\"M 0 0 M2303.23 1535.98 L2310.87 1535.98 L2310.87 1509.62 L2302.56 1511.29 L2302.56 1507.03 L2310.82 1505.36 L2315.5 1505.36 L2315.5 1535.98 L2323.14 1535.98 L2323.14 1539.92 L2303.23 1539.92 L2303.23 1535.98 Z\" fill=\"#000000\" fill-rule=\"evenodd\" fill-opacity=\"1\" /><path clip-path=\"url(#clip790)\" d=\"M 0 0 M2338.21 1508.44 Q2334.6 1508.44 2332.77 1512 Q2330.96 1515.55 2330.96 1522.67 Q2330.96 1529.78 2332.77 1533.35 Q2334.6 1536.89 2338.21 1536.89 Q2341.84 1536.89 2343.65 1533.35 Q2345.48 1529.78 2345.48 1522.67 Q2345.48 1515.55 2343.65 1512 Q2341.84 1508.44 2338.21 1508.44 M2338.21 1504.73 Q2344.02 1504.73 2347.07 1509.34 Q2350.15 1513.92 2350.15 1522.67 Q2350.15 1531.4 2347.07 1536.01 Q2344.02 1540.59 2338.21 1540.59 Q2332.4 1540.59 2329.32 1536.01 Q2326.26 1531.4 2326.26 1522.67 Q2326.26 1513.92 2329.32 1509.34 Q2332.4 1504.73 2338.21 1504.73 Z\" fill=\"#000000\" fill-rule=\"evenodd\" fill-opacity=\"1\" /><path clip-path=\"url(#clip790)\" d=\"M 0 0 M1339.09 1481.7 L1346.73 1481.7 L1346.73 1455.34 L1338.42 1457 L1338.42 1452.74 L1346.69 1451.08 L1351.36 1451.08 L1351.36 1481.7 L1359 1481.7 L1359 1485.64 L1339.09 1485.64 L1339.09 1481.7 Z\" fill=\"#000000\" fill-rule=\"evenodd\" fill-opacity=\"1\" /><path clip-path=\"url(#clip790)\" d=\"M 0 0 M1364.07 1479.76 L1368.96 1479.76 L1368.96 1485.64 L1364.07 1485.64 L1364.07 1479.76 Z\" fill=\"#000000\" fill-rule=\"evenodd\" fill-opacity=\"1\" /><path clip-path=\"url(#clip790)\" d=\"M 0 0 M1384.02 1454.16 Q1380.41 1454.16 1378.58 1457.72 Q1376.78 1461.26 1376.78 1468.39 Q1376.78 1475.5 1378.58 1479.06 Q1380.41 1482.6 1384.02 1482.6 Q1387.66 1482.6 1389.46 1479.06 Q1391.29 1475.5 1391.29 1468.39 Q1391.29 1461.26 1389.46 1457.72 Q1387.66 1454.16 1384.02 1454.16 M1384.02 1450.45 Q1389.83 1450.45 1392.89 1455.06 Q1395.97 1459.64 1395.97 1468.39 Q1395.97 1477.12 1392.89 1481.73 Q1389.83 1486.31 1384.02 1486.31 Q1378.21 1486.31 1375.14 1481.73 Q1372.08 1477.12 1372.08 1468.39 Q1372.08 1459.64 1375.14 1455.06 Q1378.21 1450.45 1384.02 1450.45 Z\" fill=\"#000000\" fill-rule=\"evenodd\" fill-opacity=\"1\" /><path clip-path=\"url(#clip790)\" d=\"M 0 0 M1340.09 1342.26 L1347.73 1342.26 L1347.73 1315.89 L1339.42 1317.56 L1339.42 1313.3 L1347.68 1311.64 L1352.36 1311.64 L1352.36 1342.26 L1360 1342.26 L1360 1346.2 L1340.09 1346.2 L1340.09 1342.26 Z\" fill=\"#000000\" fill-rule=\"evenodd\" fill-opacity=\"1\" /><path clip-path=\"url(#clip790)\" d=\"M 0 0 M1365.07 1340.32 L1369.95 1340.32 L1369.95 1346.2 L1365.07 1346.2 L1365.07 1340.32 Z\" fill=\"#000000\" fill-rule=\"evenodd\" fill-opacity=\"1\" /><path clip-path=\"url(#clip790)\" d=\"M 0 0 M1375.07 1311.64 L1393.42 1311.64 L1393.42 1315.57 L1379.35 1315.57 L1379.35 1324.04 Q1380.37 1323.7 1381.39 1323.53 Q1382.4 1323.35 1383.42 1323.35 Q1389.21 1323.35 1392.59 1326.52 Q1395.97 1329.69 1395.97 1335.11 Q1395.97 1340.69 1392.5 1343.79 Q1389.02 1346.87 1382.71 1346.87 Q1380.53 1346.87 1378.26 1346.5 Q1376.02 1346.13 1373.61 1345.39 L1373.61 1340.69 Q1375.69 1341.82 1377.91 1342.38 Q1380.14 1342.93 1382.61 1342.93 Q1386.62 1342.93 1388.96 1340.83 Q1391.29 1338.72 1391.29 1335.11 Q1391.29 1331.5 1388.96 1329.39 Q1386.62 1327.28 1382.61 1327.28 Q1380.74 1327.28 1378.86 1327.7 Q1377.01 1328.12 1375.07 1329 L1375.07 1311.64 Z\" fill=\"#000000\" fill-rule=\"evenodd\" fill-opacity=\"1\" /><path clip-path=\"url(#clip790)\" d=\"M 0 0 M1342.68 1202.82 L1359 1202.82 L1359 1206.75 L1337.06 1206.75 L1337.06 1202.82 Q1339.72 1200.06 1344.3 1195.43 Q1348.91 1190.78 1350.09 1189.44 Q1352.33 1186.92 1353.21 1185.18 Q1354.12 1183.42 1354.12 1181.73 Q1354.12 1178.98 1352.17 1177.24 Q1350.25 1175.5 1347.15 1175.5 Q1344.95 1175.5 1342.5 1176.27 Q1340.07 1177.03 1337.29 1178.58 L1337.29 1173.86 Q1340.11 1172.73 1342.57 1172.15 Q1345.02 1171.57 1347.06 1171.57 Q1352.43 1171.57 1355.62 1174.25 Q1358.82 1176.94 1358.82 1181.43 Q1358.82 1183.56 1358.01 1185.48 Q1357.22 1187.38 1355.11 1189.97 Q1354.53 1190.64 1351.43 1193.86 Q1348.33 1197.06 1342.68 1202.82 Z\" fill=\"#000000\" fill-rule=\"evenodd\" fill-opacity=\"1\" /><path clip-path=\"url(#clip790)\" d=\"M 0 0 M1364.07 1200.87 L1368.96 1200.87 L1368.96 1206.75 L1364.07 1206.75 L1364.07 1200.87 Z\" fill=\"#000000\" fill-rule=\"evenodd\" fill-opacity=\"1\" /><path clip-path=\"url(#clip790)\" d=\"M 0 0 M1384.02 1175.27 Q1380.41 1175.27 1378.58 1178.84 Q1376.78 1182.38 1376.78 1189.51 Q1376.78 1196.62 1378.58 1200.18 Q1380.41 1203.72 1384.02 1203.72 Q1387.66 1203.72 1389.46 1200.18 Q1391.29 1196.62 1391.29 1189.51 Q1391.29 1182.38 1389.46 1178.84 Q1387.66 1175.27 1384.02 1175.27 M1384.02 1171.57 Q1389.83 1171.57 1392.89 1176.18 Q1395.97 1180.76 1395.97 1189.51 Q1395.97 1198.24 1392.89 1202.84 Q1389.83 1207.43 1384.02 1207.43 Q1378.21 1207.43 1375.14 1202.84 Q1372.08 1198.24 1372.08 1189.51 Q1372.08 1180.76 1375.14 1176.18 Q1378.21 1171.57 1384.02 1171.57 Z\" fill=\"#000000\" fill-rule=\"evenodd\" fill-opacity=\"1\" /><path clip-path=\"url(#clip790)\" d=\"M 0 0 M1343.68 1063.38 L1360 1063.38 L1360 1067.31 L1338.05 1067.31 L1338.05 1063.38 Q1340.71 1060.62 1345.3 1055.99 Q1349.9 1051.34 1351.08 1050 Q1353.33 1047.47 1354.21 1045.74 Q1355.11 1043.98 1355.11 1042.29 Q1355.11 1039.54 1353.17 1037.8 Q1351.25 1036.06 1348.15 1036.06 Q1345.95 1036.06 1343.49 1036.83 Q1341.06 1037.59 1338.28 1039.14 L1338.28 1034.42 Q1341.11 1033.29 1343.56 1032.71 Q1346.02 1032.13 1348.05 1032.13 Q1353.42 1032.13 1356.62 1034.81 Q1359.81 1037.5 1359.81 1041.99 Q1359.81 1044.12 1359 1046.04 Q1358.21 1047.94 1356.11 1050.53 Q1355.53 1051.2 1352.43 1054.42 Q1349.33 1057.61 1343.68 1063.38 Z\" fill=\"#000000\" fill-rule=\"evenodd\" fill-opacity=\"1\" /><path clip-path=\"url(#clip790)\" d=\"M 0 0 M1365.07 1061.43 L1369.95 1061.43 L1369.95 1067.31 L1365.07 1067.31 L1365.07 1061.43 Z\" fill=\"#000000\" fill-rule=\"evenodd\" fill-opacity=\"1\" /><path clip-path=\"url(#clip790)\" d=\"M 0 0 M1375.07 1032.75 L1393.42 1032.75 L1393.42 1036.69 L1379.35 1036.69 L1379.35 1045.16 Q1380.37 1044.81 1381.39 1044.65 Q1382.4 1044.47 1383.42 1044.47 Q1389.21 1044.47 1392.59 1047.64 Q1395.97 1050.81 1395.97 1056.22 Q1395.97 1061.8 1392.5 1064.91 Q1389.02 1067.98 1382.71 1067.98 Q1380.53 1067.98 1378.26 1067.61 Q1376.02 1067.24 1373.61 1066.5 L1373.61 1061.8 Q1375.69 1062.94 1377.91 1063.49 Q1380.14 1064.05 1382.61 1064.05 Q1386.62 1064.05 1388.96 1061.94 Q1391.29 1059.84 1391.29 1056.22 Q1391.29 1052.61 1388.96 1050.51 Q1386.62 1048.4 1382.61 1048.4 Q1380.74 1048.4 1378.86 1048.82 Q1377.01 1049.23 1375.07 1050.11 L1375.07 1032.75 Z\" fill=\"#000000\" fill-rule=\"evenodd\" fill-opacity=\"1\" /><path clip-path=\"url(#clip790)\" d=\"M 0 0 M1351.87 909.237 Q1355.23 909.955 1357.1 912.223 Q1359 914.492 1359 917.825 Q1359 922.941 1355.48 925.742 Q1351.96 928.543 1345.48 928.543 Q1343.31 928.543 1340.99 928.103 Q1338.7 927.686 1336.25 926.83 L1336.25 922.316 Q1338.19 923.45 1340.51 924.029 Q1342.82 924.607 1345.34 924.607 Q1349.74 924.607 1352.03 922.871 Q1354.35 921.135 1354.35 917.825 Q1354.35 914.769 1352.2 913.057 Q1350.07 911.32 1346.25 911.32 L1342.22 911.32 L1342.22 907.478 L1346.43 907.478 Q1349.88 907.478 1351.71 906.112 Q1353.54 904.723 1353.54 902.131 Q1353.54 899.469 1351.64 898.057 Q1349.77 896.621 1346.25 896.621 Q1344.33 896.621 1342.13 897.038 Q1339.93 897.455 1337.29 898.334 L1337.29 894.168 Q1339.95 893.427 1342.27 893.057 Q1344.6 892.686 1346.66 892.686 Q1351.99 892.686 1355.09 895.117 Q1358.19 897.524 1358.19 901.645 Q1358.19 904.515 1356.55 906.506 Q1354.9 908.473 1351.87 909.237 Z\" fill=\"#000000\" fill-rule=\"evenodd\" fill-opacity=\"1\" /><path clip-path=\"url(#clip790)\" d=\"M 0 0 M1364.07 921.992 L1368.96 921.992 L1368.96 927.871 L1364.07 927.871 L1364.07 921.992 Z\" fill=\"#000000\" fill-rule=\"evenodd\" fill-opacity=\"1\" /><path clip-path=\"url(#clip790)\" d=\"M 0 0 M1384.02 896.39 Q1380.41 896.39 1378.58 899.955 Q1376.78 903.496 1376.78 910.626 Q1376.78 917.732 1378.58 921.297 Q1380.41 924.839 1384.02 924.839 Q1387.66 924.839 1389.46 921.297 Q1391.29 917.732 1391.29 910.626 Q1391.29 903.496 1389.46 899.955 Q1387.66 896.39 1384.02 896.39 M1384.02 892.686 Q1389.83 892.686 1392.89 897.293 Q1395.97 901.876 1395.97 910.626 Q1395.97 919.353 1392.89 923.959 Q1389.83 928.543 1384.02 928.543 Q1378.21 928.543 1375.14 923.959 Q1372.08 919.353 1372.08 910.626 Q1372.08 901.876 1375.14 897.293 Q1378.21 892.686 1384.02 892.686 Z\" fill=\"#000000\" fill-rule=\"evenodd\" fill-opacity=\"1\" /><path clip-path=\"url(#clip790)\" d=\"M 0 0 M1280.14 1203.45 L1270.03 1196.9 L1283.45 1194.23 L1285.89 1193.73 Q1285.26 1193.62 1284.17 1193.28 Q1283.06 1192.92 1282.78 1192.87 L1248.96 1184.06 Q1248.74 1184 1248.38 1183.92 Q1247.99 1183.81 1247.85 1183.75 Q1247.71 1183.7 1247.43 1183.61 Q1247.16 1183.53 1247.07 1183.47 Q1246.96 1183.42 1246.77 1183.34 Q1246.57 1183.25 1246.52 1183.14 Q1246.46 1183.03 1246.35 1182.89 Q1246.24 1182.75 1246.21 1182.59 Q1246.18 1182.39 1246.16 1182.2 Q1246.13 1182 1246.13 1181.72 L1246.13 1176.75 Q1246.13 1175 1247.27 1175 Q1248.41 1175 1248.41 1176.69 L1248.41 1181.56 L1292.29 1193.03 Q1292.93 1193.2 1293.18 1193.34 Q1293.43 1193.45 1293.65 1193.84 Q1293.87 1194.23 1293.87 1194.92 L1293.87 1195.48 L1275.78 1199.12 L1281.06 1202.54 L1280.14 1203.45 Z\" fill=\"#000000\" fill-rule=\"evenodd\" fill-opacity=\"1\" /><path clip-path=\"url(#clip790)\" d=\"\n",
       "M1248.6 1176.86 L1248.6 1130.24 L1246.25 1130.24 L1246.25 1176.86  Z\n",
       "  \" fill=\"#000000\" fill-rule=\"evenodd\" fill-opacity=\"1\"/>\n",
       "<path clip-path=\"url(#clip790)\" d=\"M 0 0 M1268.52 1136.97 Q1270.32 1136.97 1271.35 1138.1 Q1272.35 1139.23 1272.35 1140.52 Q1272.35 1141.74 1271.64 1142.38 Q1270.94 1143.03 1270.03 1143.03 Q1268.81 1143.03 1267.75 1142.13 Q1266.68 1141.23 1266.46 1139.87 Q1265.62 1141.19 1265.62 1143.16 Q1265.62 1144.45 1266.3 1145.57 Q1266.97 1146.67 1267.84 1147.34 Q1268.71 1147.99 1269.97 1148.57 Q1271.19 1149.12 1271.93 1149.34 Q1272.64 1149.53 1273.42 1149.7 L1282.43 1151.95 Q1286.72 1153.04 1288.23 1153.04 Q1290.1 1153.04 1291.35 1152.14 Q1292.58 1151.24 1292.58 1149.44 Q1292.58 1148.73 1292.38 1147.92 Q1292.16 1147.12 1291.58 1146.09 Q1290.97 1145.03 1290.07 1144.09 Q1289.13 1143.13 1287.55 1142.19 Q1285.98 1141.26 1283.95 1140.65 Q1283.24 1140.45 1283.24 1139.81 Q1283.24 1139 1283.88 1139 Q1284.43 1139 1285.59 1139.45 Q1286.72 1139.87 1288.2 1140.81 Q1289.65 1141.71 1290.97 1142.9 Q1292.26 1144.09 1293.16 1145.86 Q1294.06 1147.63 1294.06 1149.57 Q1294.06 1152.34 1292.58 1154.17 Q1291.1 1156.01 1289.04 1156.68 Q1289.32 1156.84 1289.71 1157.07 Q1290.1 1157.3 1290.97 1157.97 Q1291.8 1158.62 1292.45 1159.36 Q1293.06 1160.1 1293.54 1161.26 Q1294.06 1162.38 1294.06 1163.61 Q1294.06 1165.15 1293.61 1166.54 Q1293.16 1167.89 1292.13 1168.86 Q1291.1 1169.82 1289.68 1169.82 Q1288.1 1169.82 1287.01 1168.76 Q1285.88 1167.67 1285.88 1166.18 Q1285.88 1165.25 1286.43 1164.51 Q1286.97 1163.74 1288.17 1163.74 Q1289.49 1163.74 1290.48 1164.64 Q1291.48 1165.54 1291.74 1166.83 Q1292.58 1165.51 1292.58 1163.54 Q1292.58 1161.42 1290.71 1159.74 Q1288.84 1158.07 1285.72 1157.26 Q1278.21 1155.27 1274.86 1154.49 Q1271.48 1153.72 1270.03 1153.72 Q1268.68 1153.72 1267.75 1154.08 Q1266.81 1154.43 1266.39 1155.04 Q1265.94 1155.62 1265.78 1156.17 Q1265.62 1156.68 1265.62 1157.26 Q1265.62 1158.23 1266.01 1159.32 Q1266.39 1160.39 1267.3 1161.68 Q1268.17 1162.93 1269.97 1164.12 Q1271.77 1165.32 1274.25 1166.12 Q1274.99 1166.28 1274.99 1166.99 Q1274.96 1167.76 1274.32 1167.76 Q1273.77 1167.76 1272.64 1167.34 Q1271.48 1166.89 1270.03 1165.99 Q1268.58 1165.06 1267.3 1163.87 Q1265.98 1162.64 1265.07 1160.87 Q1264.17 1159.07 1264.17 1157.13 Q1264.17 1156.27 1264.37 1155.43 Q1264.53 1154.56 1265.01 1153.53 Q1265.49 1152.46 1266.56 1151.53 Q1267.62 1150.6 1269.16 1150.02 Q1268.42 1149.63 1267.71 1149.12 Q1267.01 1148.57 1266.14 1147.73 Q1265.23 1146.86 1264.72 1145.67 Q1264.17 1144.45 1264.17 1143.09 Q1264.17 1141.77 1264.53 1140.48 Q1264.85 1139.2 1265.91 1138.1 Q1266.94 1136.97 1268.52 1136.97 Z\" fill=\"#000000\" fill-rule=\"evenodd\" fill-opacity=\"1\" /><polyline clip-path=\"url(#clip795)\" style=\"stroke:#009af9; stroke-width:4; stroke-opacity:1; fill:none\" points=\"\n",
       "  1446.37,1468.36 1544.14,1352.84 1641.92,1264.2 1739.7,1189.47 1837.47,1123.64 1935.25,1064.12 2033.03,1009.39 2130.8,958.44 2228.58,910.591 2326.36,865.335 \n",
       "  \n",
       "  \"/>\n",
       "</svg>\n"
      ]
     },
     "execution_count": 124,
     "metadata": {},
     "output_type": "execute_result"
    }
   ],
   "source": [
    "g1 = plot(x, x, ylab =\"\\$x\\$\")\n",
    "g2 = plot(x, x.^2, ylab =\"\\$x^2\\$\")\n",
    "g3 = plot(x, x.^3, ylab =\"\\$x^3\\$\")\n",
    "g4 = plot(x, sqrt.(x),ylab =\"\\$\\\\sqrt{x}\\$\")\n",
    "plot(g1, g2, g3, g4, layout = (2, 2), legend = false)"
   ]
  },
  {
   "cell_type": "code",
   "execution_count": 172,
   "metadata": {},
   "outputs": [
    {
     "name": "stderr",
     "output_type": "stream",
     "text": [
      "WARNING: using PyPlot.plot in module Main conflicts with an existing identifier.\n"
     ]
    }
   ],
   "source": [
    "using PyPlot"
   ]
  },
  {
   "cell_type": "code",
   "execution_count": 25,
   "metadata": {},
   "outputs": [
    {
     "data": {
      "image/png": "[encoded data removed]",
      "text/plain": [
       "Figure(PyObject <matplotlib.figure.Figure object at 0x7f1388989c50>)"
      ]
     },
     "metadata": {},
     "output_type": "display_data"
    }
   ],
   "source": [
    "PyPlot.plot(x, y)\n",
    "show()"
   ]
  },
  {
   "cell_type": "code",
   "execution_count": 39,
   "metadata": {},
   "outputs": [],
   "source": [
    "using RCall\n",
    "@rlibrary ggplot2"
   ]
  },
  {
   "cell_type": "code",
   "execution_count": 49,
   "metadata": {},
   "outputs": [
    {
     "data": {
      "image/png": "[encoded data removed]"
     },
     "metadata": {},
     "output_type": "display_data"
    },
    {
     "data": {
      "text/plain": [
       "RObject{VecSxp}\n"
      ]
     },
     "execution_count": 49,
     "metadata": {},
     "output_type": "execute_result"
    }
   ],
   "source": [
    "qplot(1:10,[i^2 for i in 1:10])"
   ]
  },
  {
   "cell_type": "markdown",
   "metadata": {},
   "source": [
    "## Macros\n",
    "\n",
    "Las macros se relacionan con las propiedades de metaprogramación que posee Julia. \n",
    "Algunas de ellas son `@time`, `@each`, `@assert`, `@which`."
   ]
  },
  {
   "cell_type": "code",
   "execution_count": 125,
   "metadata": {},
   "outputs": [
    {
     "data": {
      "text/plain": [
       "suma2 (generic function with 1 method)"
      ]
     },
     "execution_count": 125,
     "metadata": {},
     "output_type": "execute_result"
    }
   ],
   "source": [
    "function suma1(n::Int64)  \n",
    "    sum(rand(10^n))\n",
    "end\n",
    "\n",
    "function suma2(n::Int64)\n",
    "    x = 0.0\n",
    "    for i in 1:10^n\n",
    "        x = x + rand()\n",
    "    end\n",
    "    return x\n",
    "end"
   ]
  },
  {
   "cell_type": "code",
   "execution_count": 126,
   "metadata": {},
   "outputs": [],
   "source": [
    "k = 5;"
   ]
  },
  {
   "cell_type": "code",
   "execution_count": 129,
   "metadata": {},
   "outputs": [
    {
     "name": "stdout",
     "output_type": "stream",
     "text": [
      "  0.000633 seconds (7 allocations: 781.500 KiB)\n"
     ]
    },
    {
     "data": {
      "text/plain": [
       "49945.45448583605"
      ]
     },
     "execution_count": 129,
     "metadata": {},
     "output_type": "execute_result"
    }
   ],
   "source": [
    "@time suma1(k) "
   ]
  },
  {
   "cell_type": "code",
   "execution_count": 130,
   "metadata": {},
   "outputs": [
    {
     "name": "stdout",
     "output_type": "stream",
     "text": [
      "  0.005395 seconds (5 allocations: 176 bytes)\n"
     ]
    },
    {
     "data": {
      "text/plain": [
       "50063.65004059469"
      ]
     },
     "execution_count": 130,
     "metadata": {},
     "output_type": "execute_result"
    }
   ],
   "source": [
    "@time suma2(k)"
   ]
  },
  {
   "cell_type": "markdown",
   "metadata": {},
   "source": [
    "## Multiple dispatch"
   ]
  },
  {
   "cell_type": "code",
   "execution_count": 131,
   "metadata": {},
   "outputs": [
    {
     "data": {
      "text/plain": [
       "prueba (generic function with 1 method)"
      ]
     },
     "execution_count": 131,
     "metadata": {},
     "output_type": "execute_result"
    }
   ],
   "source": [
    "prueba(x::String, z::String) = print(\"Mis variables son \", x, \" y \", z, \".\")"
   ]
  },
  {
   "cell_type": "code",
   "execution_count": 132,
   "metadata": {},
   "outputs": [
    {
     "name": "stdout",
     "output_type": "stream",
     "text": [
      "Mis variables son hola y mundo."
     ]
    }
   ],
   "source": [
    "prueba(\"hola\", \"mundo\")"
   ]
  },
  {
   "cell_type": "code",
   "execution_count": 133,
   "metadata": {},
   "outputs": [
    {
     "ename": "MethodError",
     "evalue": "MethodError: no method matching prueba(::Int64, ::Float64)",
     "output_type": "error",
     "traceback": [
      "MethodError: no method matching prueba(::Int64, ::Float64)",
      "",
      "Stacktrace:",
      " [1] top-level scope at In[133]:1"
     ]
    }
   ],
   "source": [
    "prueba(12, 15.0)"
   ]
  },
  {
   "cell_type": "code",
   "execution_count": 134,
   "metadata": {},
   "outputs": [
    {
     "data": {
      "text/plain": [
       "prueba (generic function with 2 methods)"
      ]
     },
     "execution_count": 134,
     "metadata": {},
     "output_type": "execute_result"
    }
   ],
   "source": [
    "prueba(x::Float64, z::Float64) = sqrt(x^2 + z^2)"
   ]
  },
  {
   "cell_type": "code",
   "execution_count": 135,
   "metadata": {},
   "outputs": [
    {
     "data": {
      "text/plain": [
       "19.209372712298546"
      ]
     },
     "execution_count": 135,
     "metadata": {},
     "output_type": "execute_result"
    }
   ],
   "source": [
    "prueba(12.0, 15.0)"
   ]
  },
  {
   "cell_type": "code",
   "execution_count": 136,
   "metadata": {},
   "outputs": [
    {
     "data": {
      "text/plain": [
       "prueba (generic function with 3 methods)"
      ]
     },
     "execution_count": 136,
     "metadata": {},
     "output_type": "execute_result"
    }
   ],
   "source": [
    "prueba(x::Int64, z::Int64) = abs(x) + abs(z)"
   ]
  },
  {
   "cell_type": "code",
   "execution_count": 137,
   "metadata": {},
   "outputs": [
    {
     "data": {
      "text/plain": [
       "17"
      ]
     },
     "execution_count": 137,
     "metadata": {},
     "output_type": "execute_result"
    }
   ],
   "source": [
    "prueba(12, 5)"
   ]
  },
  {
   "cell_type": "code",
   "execution_count": 138,
   "metadata": {},
   "outputs": [
    {
     "data": {
      "text/html": [
       "prueba(x::<b>Int64</b>, z::<b>Int64</b>) in Main at In[136]:1"
      ],
      "text/plain": [
       "prueba(x::Int64, z::Int64) in Main at In[136]:1"
      ]
     },
     "execution_count": 138,
     "metadata": {},
     "output_type": "execute_result"
    }
   ],
   "source": [
    "@which prueba(12, 5)"
   ]
  },
  {
   "cell_type": "code",
   "execution_count": 139,
   "metadata": {},
   "outputs": [
    {
     "data": {
      "text/html": [
       "# 3 methods for generic function <b>prueba</b>:<ul><li> prueba(x::<b>Int64</b>, z::<b>Int64</b>) in Main at In[136]:1</li> <li> prueba(x::<b>Float64</b>, z::<b>Float64</b>) in Main at In[134]:1</li> <li> prueba(x::<b>String</b>, z::<b>String</b>) in Main at In[131]:1</li> </ul>"
      ],
      "text/plain": [
       "# 3 methods for generic function \"prueba\":\n",
       "[1] prueba(x::Int64, z::Int64) in Main at In[136]:1\n",
       "[2] prueba(x::Float64, z::Float64) in Main at In[134]:1\n",
       "[3] prueba(x::String, z::String) in Main at In[131]:1"
      ]
     },
     "execution_count": 139,
     "metadata": {},
     "output_type": "execute_result"
    }
   ],
   "source": [
    "methods(prueba)"
   ]
  },
  {
   "cell_type": "code",
   "execution_count": 140,
   "metadata": {},
   "outputs": [
    {
     "data": {
      "text/html": [
       "# 185 methods for generic function <b>+</b>:<ul><li> +(x::<b>Bool</b>, z::<b>Complex{Bool}</b>) in Base at <a href=\"https://github.com/JuliaLang/julia/tree/2d5741174ce3e6a394010d2e470e4269ca54607f/base/complex.jl#L282\" target=\"_blank\">complex.jl:282</a></li> <li> +(x::<b>Bool</b>, y::<b>Bool</b>) in Base at <a href=\"https://github.com/JuliaLang/julia/tree/2d5741174ce3e6a394010d2e470e4269ca54607f/base/bool.jl#L96\" target=\"_blank\">bool.jl:96</a></li> <li> +(x::<b>Bool</b>) in Base at <a href=\"https://github.com/JuliaLang/julia/tree/2d5741174ce3e6a394010d2e470e4269ca54607f/base/bool.jl#L93\" target=\"_blank\">bool.jl:93</a></li> <li> +(x::<b>Bool</b>, y::<b>T</b>)<i> where T<:AbstractFloat</i> in Base at <a href=\"https://github.com/JuliaLang/julia/tree/2d5741174ce3e6a394010d2e470e4269ca54607f/base/bool.jl#L104\" target=\"_blank\">bool.jl:104</a></li> <li> +(x::<b>Bool</b>, z::<b>Complex</b>) in Base at <a href=\"https://github.com/JuliaLang/julia/tree/2d5741174ce3e6a394010d2e470e4269ca54607f/base/complex.jl#L289\" target=\"_blank\">complex.jl:289</a></li> <li> +(a::<b>Float16</b>, b::<b>Float16</b>) in Base at <a href=\"https://github.com/JuliaLang/julia/tree/2d5741174ce3e6a394010d2e470e4269ca54607f/base/float.jl#L398\" target=\"_blank\">float.jl:398</a></li> <li> +(x::<b>Float32</b>, y::<b>Float32</b>) in Base at <a href=\"https://github.com/JuliaLang/julia/tree/2d5741174ce3e6a394010d2e470e4269ca54607f/base/float.jl#L400\" target=\"_blank\">float.jl:400</a></li> <li> +(x::<b>Float64</b>, y::<b>Float64</b>) in Base at <a href=\"https://github.com/JuliaLang/julia/tree/2d5741174ce3e6a394010d2e470e4269ca54607f/base/float.jl#L401\" target=\"_blank\">float.jl:401</a></li> <li> +(z::<b>Complex{Bool}</b>, x::<b>Bool</b>) in Base at <a href=\"https://github.com/JuliaLang/julia/tree/2d5741174ce3e6a394010d2e470e4269ca54607f/base/complex.jl#L283\" target=\"_blank\">complex.jl:283</a></li> <li> +(z::<b>Complex{Bool}</b>, x::<b>Real</b>) in Base at <a href=\"https://github.com/JuliaLang/julia/tree/2d5741174ce3e6a394010d2e470e4269ca54607f/base/complex.jl#L297\" target=\"_blank\">complex.jl:297</a></li> <li> +(::<b>Missing</b>, ::<b>Missing</b>) in Base at <a href=\"https://github.com/JuliaLang/julia/tree/2d5741174ce3e6a394010d2e470e4269ca54607f/base/missing.jl#L114\" target=\"_blank\">missing.jl:114</a></li> <li> +(::<b>Missing</b>) in Base at <a href=\"https://github.com/JuliaLang/julia/tree/2d5741174ce3e6a394010d2e470e4269ca54607f/base/missing.jl#L100\" target=\"_blank\">missing.jl:100</a></li> <li> +(::<b>Missing</b>, ::<b>Number</b>) in Base at <a href=\"https://github.com/JuliaLang/julia/tree/2d5741174ce3e6a394010d2e470e4269ca54607f/base/missing.jl#L115\" target=\"_blank\">missing.jl:115</a></li> <li> +(level::<b>Base.CoreLogging.LogLevel</b>, inc::<b>Integer</b>) in Base.CoreLogging at <a href=\"https://github.com/JuliaLang/julia/tree/2d5741174ce3e6a394010d2e470e4269ca54607f/base/logging.jl#L106\" target=\"_blank\">logging.jl:106</a></li> <li> +(c::<b>BigInt</b>, x::<b>BigFloat</b>) in Base.MPFR at <a href=\"https://github.com/JuliaLang/julia/tree/2d5741174ce3e6a394010d2e470e4269ca54607f/base/mpfr.jl#L413\" target=\"_blank\">mpfr.jl:413</a></li> <li> +(a::<b>BigInt</b>, b::<b>BigInt</b>, c::<b>BigInt</b>, d::<b>BigInt</b>, e::<b>BigInt</b>) in Base.GMP at <a href=\"https://github.com/JuliaLang/julia/tree/2d5741174ce3e6a394010d2e470e4269ca54607f/base/gmp.jl#L503\" target=\"_blank\">gmp.jl:503</a></li> <li> +(a::<b>BigInt</b>, b::<b>BigInt</b>, c::<b>BigInt</b>, d::<b>BigInt</b>) in Base.GMP at <a href=\"https://github.com/JuliaLang/julia/tree/2d5741174ce3e6a394010d2e470e4269ca54607f/base/gmp.jl#L502\" target=\"_blank\">gmp.jl:502</a></li> <li> +(a::<b>BigInt</b>, b::<b>BigInt</b>, c::<b>BigInt</b>) in Base.GMP at <a href=\"https://github.com/JuliaLang/julia/tree/2d5741174ce3e6a394010d2e470e4269ca54607f/base/gmp.jl#L501\" target=\"_blank\">gmp.jl:501</a></li> <li> +(x::<b>BigInt</b>, y::<b>BigInt</b>) in Base.GMP at <a href=\"https://github.com/JuliaLang/julia/tree/2d5741174ce3e6a394010d2e470e4269ca54607f/base/gmp.jl#L472\" target=\"_blank\">gmp.jl:472</a></li> <li> +(x::<b>BigInt</b>, c::<b>Union{UInt16, UInt32, UInt64, UInt8}</b>) in Base.GMP at <a href=\"https://github.com/JuliaLang/julia/tree/2d5741174ce3e6a394010d2e470e4269ca54607f/base/gmp.jl#L509\" target=\"_blank\">gmp.jl:509</a></li> <li> +(x::<b>BigInt</b>, c::<b>Union{Int16, Int32, Int64, Int8}</b>) in Base.GMP at <a href=\"https://github.com/JuliaLang/julia/tree/2d5741174ce3e6a394010d2e470e4269ca54607f/base/gmp.jl#L515\" target=\"_blank\">gmp.jl:515</a></li> <li> +(a::<b>BigFloat</b>, b::<b>BigFloat</b>, c::<b>BigFloat</b>, d::<b>BigFloat</b>, e::<b>BigFloat</b>) in Base.MPFR at <a href=\"https://github.com/JuliaLang/julia/tree/2d5741174ce3e6a394010d2e470e4269ca54607f/base/mpfr.jl#L563\" target=\"_blank\">mpfr.jl:563</a></li> <li> +(a::<b>BigFloat</b>, b::<b>BigFloat</b>, c::<b>BigFloat</b>, d::<b>BigFloat</b>) in Base.MPFR at <a href=\"https://github.com/JuliaLang/julia/tree/2d5741174ce3e6a394010d2e470e4269ca54607f/base/mpfr.jl#L556\" target=\"_blank\">mpfr.jl:556</a></li> <li> +(a::<b>BigFloat</b>, b::<b>BigFloat</b>, c::<b>BigFloat</b>) in Base.MPFR at <a href=\"https://github.com/JuliaLang/julia/tree/2d5741174ce3e6a394010d2e470e4269ca54607f/base/mpfr.jl#L550\" target=\"_blank\">mpfr.jl:550</a></li> <li> +(x::<b>BigFloat</b>, c::<b>BigInt</b>) in Base.MPFR at <a href=\"https://github.com/JuliaLang/julia/tree/2d5741174ce3e6a394010d2e470e4269ca54607f/base/mpfr.jl#L409\" target=\"_blank\">mpfr.jl:409</a></li> <li> +(x::<b>BigFloat</b>, y::<b>BigFloat</b>) in Base.MPFR at <a href=\"https://github.com/JuliaLang/julia/tree/2d5741174ce3e6a394010d2e470e4269ca54607f/base/mpfr.jl#L378\" target=\"_blank\">mpfr.jl:378</a></li> <li> +(x::<b>BigFloat</b>, c::<b>Union{UInt16, UInt32, UInt64, UInt8}</b>) in Base.MPFR at <a href=\"https://github.com/JuliaLang/julia/tree/2d5741174ce3e6a394010d2e470e4269ca54607f/base/mpfr.jl#L385\" target=\"_blank\">mpfr.jl:385</a></li> <li> +(x::<b>BigFloat</b>, c::<b>Union{Int16, Int32, Int64, Int8}</b>) in Base.MPFR at <a href=\"https://github.com/JuliaLang/julia/tree/2d5741174ce3e6a394010d2e470e4269ca54607f/base/mpfr.jl#L393\" target=\"_blank\">mpfr.jl:393</a></li> <li> +(x::<b>BigFloat</b>, c::<b>Union{Float16, Float32, Float64}</b>) in Base.MPFR at <a href=\"https://github.com/JuliaLang/julia/tree/2d5741174ce3e6a394010d2e470e4269ca54607f/base/mpfr.jl#L401\" target=\"_blank\">mpfr.jl:401</a></li> <li> +(x::<b>Dates.CompoundPeriod</b>, y::<b>Dates.CompoundPeriod</b>) in Dates at <a href=\"file:///build/julia/src/julia-1.3.1/usr/share/julia/stdlib/v1.3/Dates/src/periods.jl\" target=\"_blank\">/build/julia/src/julia-1.3.1/usr/share/julia/stdlib/v1.3/Dates/src/periods.jl:343</a></li> <li> +(x::<b>Dates.CompoundPeriod</b>, y::<b>Dates.Period</b>) in Dates at <a href=\"file:///build/julia/src/julia-1.3.1/usr/share/julia/stdlib/v1.3/Dates/src/periods.jl\" target=\"_blank\">/build/julia/src/julia-1.3.1/usr/share/julia/stdlib/v1.3/Dates/src/periods.jl:341</a></li> <li> +(x::<b>Dates.CompoundPeriod</b>, y::<b>Dates.TimeType</b>) in Dates at <a href=\"file:///build/julia/src/julia-1.3.1/usr/share/julia/stdlib/v1.3/Dates/src/periods.jl\" target=\"_blank\">/build/julia/src/julia-1.3.1/usr/share/julia/stdlib/v1.3/Dates/src/periods.jl:371</a></li> <li> +(x::<b>Dates.Date</b>, y::<b>Dates.Day</b>) in Dates at <a href=\"file:///build/julia/src/julia-1.3.1/usr/share/julia/stdlib/v1.3/Dates/src/arithmetic.jl\" target=\"_blank\">/build/julia/src/julia-1.3.1/usr/share/julia/stdlib/v1.3/Dates/src/arithmetic.jl:74</a></li> <li> +(x::<b>Dates.Date</b>, y::<b>Dates.Week</b>) in Dates at <a href=\"file:///build/julia/src/julia-1.3.1/usr/share/julia/stdlib/v1.3/Dates/src/arithmetic.jl\" target=\"_blank\">/build/julia/src/julia-1.3.1/usr/share/julia/stdlib/v1.3/Dates/src/arithmetic.jl:72</a></li> <li> +(dt::<b>Dates.Date</b>, z::<b>Dates.Month</b>) in Dates at <a href=\"file:///build/julia/src/julia-1.3.1/usr/share/julia/stdlib/v1.3/Dates/src/arithmetic.jl\" target=\"_blank\">/build/julia/src/julia-1.3.1/usr/share/julia/stdlib/v1.3/Dates/src/arithmetic.jl:55</a></li> <li> +(dt::<b>Dates.Date</b>, y::<b>Dates.Year</b>) in Dates at <a href=\"file:///build/julia/src/julia-1.3.1/usr/share/julia/stdlib/v1.3/Dates/src/arithmetic.jl\" target=\"_blank\">/build/julia/src/julia-1.3.1/usr/share/julia/stdlib/v1.3/Dates/src/arithmetic.jl:28</a></li> <li> +(dt::<b>Dates.Date</b>, t::<b>Dates.Time</b>) in Dates at <a href=\"file:///build/julia/src/julia-1.3.1/usr/share/julia/stdlib/v1.3/Dates/src/arithmetic.jl\" target=\"_blank\">/build/julia/src/julia-1.3.1/usr/share/julia/stdlib/v1.3/Dates/src/arithmetic.jl:19</a></li> <li> +(t::<b>Dates.Time</b>, dt::<b>Dates.Date</b>) in Dates at <a href=\"file:///build/julia/src/julia-1.3.1/usr/share/julia/stdlib/v1.3/Dates/src/arithmetic.jl\" target=\"_blank\">/build/julia/src/julia-1.3.1/usr/share/julia/stdlib/v1.3/Dates/src/arithmetic.jl:20</a></li> <li> +(x::<b>Dates.Time</b>, y::<b>Dates.TimePeriod</b>) in Dates at <a href=\"file:///build/julia/src/julia-1.3.1/usr/share/julia/stdlib/v1.3/Dates/src/arithmetic.jl\" target=\"_blank\">/build/julia/src/julia-1.3.1/usr/share/julia/stdlib/v1.3/Dates/src/arithmetic.jl:78</a></li> <li> +(dt::<b>Dates.DateTime</b>, z::<b>Dates.Month</b>) in Dates at <a href=\"file:///build/julia/src/julia-1.3.1/usr/share/julia/stdlib/v1.3/Dates/src/arithmetic.jl\" target=\"_blank\">/build/julia/src/julia-1.3.1/usr/share/julia/stdlib/v1.3/Dates/src/arithmetic.jl:48</a></li> <li> +(dt::<b>Dates.DateTime</b>, y::<b>Dates.Year</b>) in Dates at <a href=\"file:///build/julia/src/julia-1.3.1/usr/share/julia/stdlib/v1.3/Dates/src/arithmetic.jl\" target=\"_blank\">/build/julia/src/julia-1.3.1/usr/share/julia/stdlib/v1.3/Dates/src/arithmetic.jl:24</a></li> <li> +(x::<b>Dates.DateTime</b>, y::<b>Dates.Period</b>) in Dates at <a href=\"file:///build/julia/src/julia-1.3.1/usr/share/julia/stdlib/v1.3/Dates/src/arithmetic.jl\" target=\"_blank\">/build/julia/src/julia-1.3.1/usr/share/julia/stdlib/v1.3/Dates/src/arithmetic.jl:76</a></li> <li> +(B::<b>BitArray{2}</b>, J::<b>LinearAlgebra.UniformScaling</b>) in LinearAlgebra at <a href=\"file:///build/julia/src/julia-1.3.1/usr/share/julia/stdlib/v1.3/LinearAlgebra/src/uniformscaling.jl\" target=\"_blank\">/build/julia/src/julia-1.3.1/usr/share/julia/stdlib/v1.3/LinearAlgebra/src/uniformscaling.jl:115</a></li> <li> +(a::<b>Pkg.Resolve.VersionWeights.VersionWeight</b>, b::<b>Pkg.Resolve.VersionWeights.VersionWeight</b>) in Pkg.Resolve.VersionWeights at <a href=\"file:///build/julia/src/julia-1.3.1/usr/share/julia/stdlib/v1.3/Pkg/src/resolve/VersionWeights.jl\" target=\"_blank\">/build/julia/src/julia-1.3.1/usr/share/julia/stdlib/v1.3/Pkg/src/resolve/VersionWeights.jl:26</a></li> <li> +(a::<b>Pkg.Resolve.MaxSum.FieldValues.FieldValue</b>, b::<b>Pkg.Resolve.MaxSum.FieldValues.FieldValue</b>) in Pkg.Resolve.MaxSum.FieldValues at <a href=\"file:///build/julia/src/julia-1.3.1/usr/share/julia/stdlib/v1.3/Pkg/src/resolve/FieldValues.jl\" target=\"_blank\">/build/julia/src/julia-1.3.1/usr/share/julia/stdlib/v1.3/Pkg/src/resolve/FieldValues.jl:49</a></li> <li> +(y::<b>AbstractFloat</b>, x::<b>Bool</b>) in Base at <a href=\"https://github.com/JuliaLang/julia/tree/2d5741174ce3e6a394010d2e470e4269ca54607f/base/bool.jl#L106\" target=\"_blank\">bool.jl:106</a></li> <li> +(x::<b>T</b>, y::<b>T</b>)<i> where T<:Union{Int128, Int16, Int32, Int64, Int8, UInt128, UInt16, UInt32, UInt64, UInt8}</i> in Base at <a href=\"https://github.com/JuliaLang/julia/tree/2d5741174ce3e6a394010d2e470e4269ca54607f/base/int.jl#L53\" target=\"_blank\">int.jl:53</a></li> <li> +(c::<b>Union{UInt16, UInt32, UInt64, UInt8}</b>, x::<b>BigInt</b>) in Base.GMP at <a href=\"https://github.com/JuliaLang/julia/tree/2d5741174ce3e6a394010d2e470e4269ca54607f/base/gmp.jl#L510\" target=\"_blank\">gmp.jl:510</a></li> <li> +(c::<b>Union{Int16, Int32, Int64, Int8}</b>, x::<b>BigInt</b>) in Base.GMP at <a href=\"https://github.com/JuliaLang/julia/tree/2d5741174ce3e6a394010d2e470e4269ca54607f/base/gmp.jl#L516\" target=\"_blank\">gmp.jl:516</a></li> <li> +(x::<b>GeometryTypes.OffsetInteger{O,T} where T<:Integer</b>, y::<b>GeometryTypes.OffsetInteger{O,T} where T<:Integer</b>)<i> where O</i> in GeometryTypes at <a href=\"file:///home/bryand/.julia/packages/GeometryTypes/gpBFp/src/faces.jl\" target=\"_blank\">/home/bryand/.julia/packages/GeometryTypes/gpBFp/src/faces.jl:32</a></li> <li> +(a::<b>Integer</b>, b::<b>Integer</b>) in Base at <a href=\"https://github.com/JuliaLang/julia/tree/2d5741174ce3e6a394010d2e470e4269ca54607f/base/int.jl#L871\" target=\"_blank\">int.jl:871</a></li> <li> +(x::<b>Integer</b>, y::<b>Ptr</b>) in Base at <a href=\"https://github.com/JuliaLang/julia/tree/2d5741174ce3e6a394010d2e470e4269ca54607f/base/pointer.jl#L161\" target=\"_blank\">pointer.jl:161</a></li> <li> +(z::<b>Complex</b>) in Base at <a href=\"https://github.com/JuliaLang/julia/tree/2d5741174ce3e6a394010d2e470e4269ca54607f/base/complex.jl#L269\" target=\"_blank\">complex.jl:269</a></li> <li> +(z::<b>Complex</b>, w::<b>Complex</b>) in Base at <a href=\"https://github.com/JuliaLang/julia/tree/2d5741174ce3e6a394010d2e470e4269ca54607f/base/complex.jl#L271\" target=\"_blank\">complex.jl:271</a></li> <li> +(z::<b>Complex</b>, x::<b>Bool</b>) in Base at <a href=\"https://github.com/JuliaLang/julia/tree/2d5741174ce3e6a394010d2e470e4269ca54607f/base/complex.jl#L290\" target=\"_blank\">complex.jl:290</a></li> <li> +(x::<b>Rational</b>) in Base at <a href=\"https://github.com/JuliaLang/julia/tree/2d5741174ce3e6a394010d2e470e4269ca54607f/base/rational.jl#L241\" target=\"_blank\">rational.jl:241</a></li> <li> +(x::<b>Real</b>, z::<b>Complex{Bool}</b>) in Base at <a href=\"https://github.com/JuliaLang/julia/tree/2d5741174ce3e6a394010d2e470e4269ca54607f/base/complex.jl#L296\" target=\"_blank\">complex.jl:296</a></li> <li> +(x::<b>Real</b>, z::<b>Complex</b>) in Base at <a href=\"https://github.com/JuliaLang/julia/tree/2d5741174ce3e6a394010d2e470e4269ca54607f/base/complex.jl#L308\" target=\"_blank\">complex.jl:308</a></li> <li> +(z::<b>Complex</b>, x::<b>Real</b>) in Base at <a href=\"https://github.com/JuliaLang/julia/tree/2d5741174ce3e6a394010d2e470e4269ca54607f/base/complex.jl#L309\" target=\"_blank\">complex.jl:309</a></li> <li> +(x::<b>Rational</b>, y::<b>Rational</b>) in Base at <a href=\"https://github.com/JuliaLang/julia/tree/2d5741174ce3e6a394010d2e470e4269ca54607f/base/rational.jl#L257\" target=\"_blank\">rational.jl:257</a></li> <li> +(x::<b>Integer</b>, y::<b>AbstractChar</b>) in Base at <a href=\"https://github.com/JuliaLang/julia/tree/2d5741174ce3e6a394010d2e470e4269ca54607f/base/char.jl#L224\" target=\"_blank\">char.jl:224</a></li> <li> +(c::<b>Union{UInt16, UInt32, UInt64, UInt8}</b>, x::<b>BigFloat</b>) in Base.MPFR at <a href=\"https://github.com/JuliaLang/julia/tree/2d5741174ce3e6a394010d2e470e4269ca54607f/base/mpfr.jl#L389\" target=\"_blank\">mpfr.jl:389</a></li> <li> +(c::<b>Union{Int16, Int32, Int64, Int8}</b>, x::<b>BigFloat</b>) in Base.MPFR at <a href=\"https://github.com/JuliaLang/julia/tree/2d5741174ce3e6a394010d2e470e4269ca54607f/base/mpfr.jl#L397\" target=\"_blank\">mpfr.jl:397</a></li> <li> +(c::<b>Union{Float16, Float32, Float64}</b>, x::<b>BigFloat</b>) in Base.MPFR at <a href=\"https://github.com/JuliaLang/julia/tree/2d5741174ce3e6a394010d2e470e4269ca54607f/base/mpfr.jl#L405\" target=\"_blank\">mpfr.jl:405</a></li> <li> +(x::<b>AbstractIrrational</b>, y::<b>AbstractIrrational</b>) in Base at <a href=\"https://github.com/JuliaLang/julia/tree/2d5741174ce3e6a394010d2e470e4269ca54607f/base/irrationals.jl#L137\" target=\"_blank\">irrationals.jl:137</a></li> <li> +(x::<b>X</b>, y::<b>X</b>)<i> where X<:FixedPointNumbers.FixedPoint</i> in FixedPointNumbers at <a href=\"file:///home/bryand/.julia/packages/FixedPointNumbers/w2pxG/src/FixedPointNumbers.jl\" target=\"_blank\">/home/bryand/.julia/packages/FixedPointNumbers/w2pxG/src/FixedPointNumbers.jl:165</a></li> <li> +(x::<b>Number</b>) in Base at <a href=\"https://github.com/JuliaLang/julia/tree/2d5741174ce3e6a394010d2e470e4269ca54607f/base/operators.jl#L504\" target=\"_blank\">operators.jl:504</a></li> <li> +(x::<b>T</b>, y::<b>T</b>)<i> where T<:Number</i> in Base at <a href=\"https://github.com/JuliaLang/julia/tree/2d5741174ce3e6a394010d2e470e4269ca54607f/base/promotion.jl#L387\" target=\"_blank\">promotion.jl:387</a></li> <li> +(x::<b>Number</b>, y::<b>Number</b>) in Base at <a href=\"https://github.com/JuliaLang/julia/tree/2d5741174ce3e6a394010d2e470e4269ca54607f/base/promotion.jl#L311\" target=\"_blank\">promotion.jl:311</a></li> <li> +(r1::<b>OrdinalRange</b>, r2::<b>OrdinalRange</b>) in Base at <a href=\"https://github.com/JuliaLang/julia/tree/2d5741174ce3e6a394010d2e470e4269ca54607f/base/range.jl#L1011\" target=\"_blank\">range.jl:1011</a></li> <li> +(r1::<b>LinRange{T}</b>, r2::<b>LinRange{T}</b>)<i> where T</i> in Base at <a href=\"https://github.com/JuliaLang/julia/tree/2d5741174ce3e6a394010d2e470e4269ca54607f/base/range.jl#L1018\" target=\"_blank\">range.jl:1018</a></li> <li> +(r1::<b>StepRangeLen{T,R,S} where S</b>, r2::<b>StepRangeLen{T,R,S} where S</b>)<i> where {R<:Base.TwicePrecision, T}</i> in Base at <a href=\"https://github.com/JuliaLang/julia/tree/2d5741174ce3e6a394010d2e470e4269ca54607f/base/twiceprecision.jl#L557\" target=\"_blank\">twiceprecision.jl:557</a></li> <li> +(r1::<b>StepRangeLen{T,S,S1} where S1</b>, r2::<b>StepRangeLen{T,S,S1} where S1</b>)<i> where {T, S}</i> in Base at <a href=\"https://github.com/JuliaLang/julia/tree/2d5741174ce3e6a394010d2e470e4269ca54607f/base/range.jl#L1034\" target=\"_blank\">range.jl:1034</a></li> <li> +(r1::<b>Union{LinRange, OrdinalRange, StepRangeLen}</b>, r2::<b>Union{LinRange, OrdinalRange, StepRangeLen}</b>) in Base at <a href=\"https://github.com/JuliaLang/julia/tree/2d5741174ce3e6a394010d2e470e4269ca54607f/base/range.jl#L1026\" target=\"_blank\">range.jl:1026</a></li> <li> +(x::<b>Ptr</b>, y::<b>Integer</b>) in Base at <a href=\"https://github.com/JuliaLang/julia/tree/2d5741174ce3e6a394010d2e470e4269ca54607f/base/pointer.jl#L159\" target=\"_blank\">pointer.jl:159</a></li> <li> +(x::<b>Base.TwicePrecision</b>, y::<b>Number</b>) in Base at <a href=\"https://github.com/JuliaLang/julia/tree/2d5741174ce3e6a394010d2e470e4269ca54607f/base/twiceprecision.jl#L265\" target=\"_blank\">twiceprecision.jl:265</a></li> <li> +(x::<b>Number</b>, y::<b>Base.TwicePrecision</b>) in Base at <a href=\"https://github.com/JuliaLang/julia/tree/2d5741174ce3e6a394010d2e470e4269ca54607f/base/twiceprecision.jl#L268\" target=\"_blank\">twiceprecision.jl:268</a></li> <li> +(x::<b>Base.TwicePrecision{T}</b>, y::<b>Base.TwicePrecision{T}</b>)<i> where T</i> in Base at <a href=\"https://github.com/JuliaLang/julia/tree/2d5741174ce3e6a394010d2e470e4269ca54607f/base/twiceprecision.jl#L271\" target=\"_blank\">twiceprecision.jl:271</a></li> <li> +(x::<b>Base.TwicePrecision</b>, y::<b>Base.TwicePrecision</b>) in Base at <a href=\"https://github.com/JuliaLang/julia/tree/2d5741174ce3e6a394010d2e470e4269ca54607f/base/twiceprecision.jl#L275\" target=\"_blank\">twiceprecision.jl:275</a></li> <li> +(A::<b>Array</b>, Bs::<b>Array...</b>) in Base at <a href=\"https://github.com/JuliaLang/julia/tree/2d5741174ce3e6a394010d2e470e4269ca54607f/base/arraymath.jl#L44\" target=\"_blank\">arraymath.jl:44</a></li> <li> +(A::<b>BitArray</b>, B::<b>BitArray</b>) in Base at <a href=\"https://github.com/JuliaLang/julia/tree/2d5741174ce3e6a394010d2e470e4269ca54607f/base/bitarray.jl#L1084\" target=\"_blank\">bitarray.jl:1084</a></li> <li> +(r::<b>AbstractRange{#s627} where #s627<:Dates.TimeType</b>, x::<b>Dates.Period</b>) in Dates at <a href=\"file:///build/julia/src/julia-1.3.1/usr/share/julia/stdlib/v1.3/Dates/src/ranges.jl\" target=\"_blank\">/build/julia/src/julia-1.3.1/usr/share/julia/stdlib/v1.3/Dates/src/ranges.jl:59</a></li> <li> +(A::<b>Array</b>, B::<b>SparseArrays.SparseMatrixCSC</b>) in SparseArrays at <a href=\"file:///build/julia/src/julia-1.3.1/usr/share/julia/stdlib/v1.3/SparseArrays/src/sparsematrix.jl\" target=\"_blank\">/build/julia/src/julia-1.3.1/usr/share/julia/stdlib/v1.3/SparseArrays/src/sparsematrix.jl:1647</a></li> <li> +(x::<b>Union{DenseArray{#s627,N}, Base.ReinterpretArray{#s627,N,S,A} where S where A<:Union{SubArray{T,N,A,I,true} where I<:Union{Tuple{Vararg{Real,N} where N}, Tuple{AbstractUnitRange,Vararg{Any,N} where N}} where A<:DenseArray where N where T, DenseArray}, Base.ReshapedArray{#s627,N,A,MI} where MI<:Tuple{Vararg{Base.MultiplicativeInverses.SignedMultiplicativeInverse{Int64},N} where N} where A<:Union{Base.ReinterpretArray{T,N,S,A} where S where A<:Union{SubArray{T,N,A,I,true} where I<:Union{Tuple{Vararg{Real,N} where N}, Tuple{AbstractUnitRange,Vararg{Any,N} where N}} where A<:DenseArray where N where T, DenseArray} where N where T, SubArray{T,N,A,I,true} where I<:Union{Tuple{Vararg{Real,N} where N}, Tuple{AbstractUnitRange,Vararg{Any,N} where N}} where A<:DenseArray where N where T, DenseArray}, SubArray{#s627,N,A,I,L} where L where I<:Tuple{Vararg{Union{Int64, AbstractRange{Int64}, Base.AbstractCartesianIndex},N} where N} where A<:Union{Base.ReinterpretArray{T,N,S,A} where S where A<:Union{SubArray{T,N,A,I,true} where I<:Union{Tuple{Vararg{Real,N} where N}, Tuple{AbstractUnitRange,Vararg{Any,N} where N}} where A<:DenseArray where N where T, DenseArray} where N where T, Base.ReshapedArray{T,N,A,MI} where MI<:Tuple{Vararg{Base.MultiplicativeInverses.SignedMultiplicativeInverse{Int64},N} where N} where A<:Union{Base.ReinterpretArray{T,N,S,A} where S where A<:Union{SubArray{T,N,A,I,true} where I<:Union{Tuple{Vararg{Real,N} where N}, Tuple{AbstractUnitRange,Vararg{Any,N} where N}} where A<:DenseArray where N where T, DenseArray} where N where T, SubArray{T,N,A,I,true} where I<:Union{Tuple{Vararg{Real,N} where N}, Tuple{AbstractUnitRange,Vararg{Any,N} where N}} where A<:DenseArray where N where T, DenseArray} where N where T, DenseArray}} where N where #s627<:Union{Dates.CompoundPeriod, Dates.Period}</b>) in Dates at <a href=\"file:///build/julia/src/julia-1.3.1/usr/share/julia/stdlib/v1.3/Dates/src/deprecated.jl\" target=\"_blank\">/build/julia/src/julia-1.3.1/usr/share/julia/stdlib/v1.3/Dates/src/deprecated.jl:57</a></li> <li> +(x::<b>Union{DenseArray{#s627,N}, Base.ReinterpretArray{#s627,N,S,A} where S where A<:Union{SubArray{T,N,A,I,true} where I<:Union{Tuple{Vararg{Real,N} where N}, Tuple{AbstractUnitRange,Vararg{Any,N} where N}} where A<:DenseArray where N where T, DenseArray}, Base.ReshapedArray{#s627,N,A,MI} where MI<:Tuple{Vararg{Base.MultiplicativeInverses.SignedMultiplicativeInverse{Int64},N} where N} where A<:Union{Base.ReinterpretArray{T,N,S,A} where S where A<:Union{SubArray{T,N,A,I,true} where I<:Union{Tuple{Vararg{Real,N} where N}, Tuple{AbstractUnitRange,Vararg{Any,N} where N}} where A<:DenseArray where N where T, DenseArray} where N where T, SubArray{T,N,A,I,true} where I<:Union{Tuple{Vararg{Real,N} where N}, Tuple{AbstractUnitRange,Vararg{Any,N} where N}} where A<:DenseArray where N where T, DenseArray}, SubArray{#s627,N,A,I,L} where L where I<:Tuple{Vararg{Union{Int64, AbstractRange{Int64}, Base.AbstractCartesianIndex},N} where N} where A<:Union{Base.ReinterpretArray{T,N,S,A} where S where A<:Union{SubArray{T,N,A,I,true} where I<:Union{Tuple{Vararg{Real,N} where N}, Tuple{AbstractUnitRange,Vararg{Any,N} where N}} where A<:DenseArray where N where T, DenseArray} where N where T, Base.ReshapedArray{T,N,A,MI} where MI<:Tuple{Vararg{Base.MultiplicativeInverses.SignedMultiplicativeInverse{Int64},N} where N} where A<:Union{Base.ReinterpretArray{T,N,S,A} where S where A<:Union{SubArray{T,N,A,I,true} where I<:Union{Tuple{Vararg{Real,N} where N}, Tuple{AbstractUnitRange,Vararg{Any,N} where N}} where A<:DenseArray where N where T, DenseArray} where N where T, SubArray{T,N,A,I,true} where I<:Union{Tuple{Vararg{Real,N} where N}, Tuple{AbstractUnitRange,Vararg{Any,N} where N}} where A<:DenseArray where N where T, DenseArray} where N where T, DenseArray}} where N where #s627<:Union{Dates.CompoundPeriod, Dates.Period}</b>, y::<b>Dates.TimeType</b>) in Dates at <a href=\"file:///build/julia/src/julia-1.3.1/usr/share/julia/stdlib/v1.3/Dates/src/deprecated.jl\" target=\"_blank\">/build/julia/src/julia-1.3.1/usr/share/julia/stdlib/v1.3/Dates/src/deprecated.jl:12</a></li> <li> +(X::<b>Union{DenseArray{#s627,N}, Base.ReinterpretArray{#s627,N,S,A} where S where A<:Union{SubArray{T,N,A,I,true} where I<:Union{Tuple{Vararg{Real,N} where N}, Tuple{AbstractUnitRange,Vararg{Any,N} where N}} where A<:DenseArray where N where T, DenseArray}, Base.ReshapedArray{#s627,N,A,MI} where MI<:Tuple{Vararg{Base.MultiplicativeInverses.SignedMultiplicativeInverse{Int64},N} where N} where A<:Union{Base.ReinterpretArray{T,N,S,A} where S where A<:Union{SubArray{T,N,A,I,true} where I<:Union{Tuple{Vararg{Real,N} where N}, Tuple{AbstractUnitRange,Vararg{Any,N} where N}} where A<:DenseArray where N where T, DenseArray} where N where T, SubArray{T,N,A,I,true} where I<:Union{Tuple{Vararg{Real,N} where N}, Tuple{AbstractUnitRange,Vararg{Any,N} where N}} where A<:DenseArray where N where T, DenseArray}, SubArray{#s627,N,A,I,L} where L where I<:Tuple{Vararg{Union{Int64, AbstractRange{Int64}, Base.AbstractCartesianIndex},N} where N} where A<:Union{Base.ReinterpretArray{T,N,S,A} where S where A<:Union{SubArray{T,N,A,I,true} where I<:Union{Tuple{Vararg{Real,N} where N}, Tuple{AbstractUnitRange,Vararg{Any,N} where N}} where A<:DenseArray where N where T, DenseArray} where N where T, Base.ReshapedArray{T,N,A,MI} where MI<:Tuple{Vararg{Base.MultiplicativeInverses.SignedMultiplicativeInverse{Int64},N} where N} where A<:Union{Base.ReinterpretArray{T,N,S,A} where S where A<:Union{SubArray{T,N,A,I,true} where I<:Union{Tuple{Vararg{Real,N} where N}, Tuple{AbstractUnitRange,Vararg{Any,N} where N}} where A<:DenseArray where N where T, DenseArray} where N where T, SubArray{T,N,A,I,true} where I<:Union{Tuple{Vararg{Real,N} where N}, Tuple{AbstractUnitRange,Vararg{Any,N} where N}} where A<:DenseArray where N where T, DenseArray} where N where T, DenseArray}} where N where #s627<:Union{Dates.CompoundPeriod, Dates.Period}</b>, Y::<b>Union{DenseArray{#s626,N}, Base.ReinterpretArray{#s626,N,S,A} where S where A<:Union{SubArray{T,N,A,I,true} where I<:Union{Tuple{Vararg{Real,N} where N}, Tuple{AbstractUnitRange,Vararg{Any,N} where N}} where A<:DenseArray where N where T, DenseArray}, Base.ReshapedArray{#s626,N,A,MI} where MI<:Tuple{Vararg{Base.MultiplicativeInverses.SignedMultiplicativeInverse{Int64},N} where N} where A<:Union{Base.ReinterpretArray{T,N,S,A} where S where A<:Union{SubArray{T,N,A,I,true} where I<:Union{Tuple{Vararg{Real,N} where N}, Tuple{AbstractUnitRange,Vararg{Any,N} where N}} where A<:DenseArray where N where T, DenseArray} where N where T, SubArray{T,N,A,I,true} where I<:Union{Tuple{Vararg{Real,N} where N}, Tuple{AbstractUnitRange,Vararg{Any,N} where N}} where A<:DenseArray where N where T, DenseArray}, SubArray{#s626,N,A,I,L} where L where I<:Tuple{Vararg{Union{Int64, AbstractRange{Int64}, Base.AbstractCartesianIndex},N} where N} where A<:Union{Base.ReinterpretArray{T,N,S,A} where S where A<:Union{SubArray{T,N,A,I,true} where I<:Union{Tuple{Vararg{Real,N} where N}, Tuple{AbstractUnitRange,Vararg{Any,N} where N}} where A<:DenseArray where N where T, DenseArray} where N where T, Base.ReshapedArray{T,N,A,MI} where MI<:Tuple{Vararg{Base.MultiplicativeInverses.SignedMultiplicativeInverse{Int64},N} where N} where A<:Union{Base.ReinterpretArray{T,N,S,A} where S where A<:Union{SubArray{T,N,A,I,true} where I<:Union{Tuple{Vararg{Real,N} where N}, Tuple{AbstractUnitRange,Vararg{Any,N} where N}} where A<:DenseArray where N where T, DenseArray} where N where T, SubArray{T,N,A,I,true} where I<:Union{Tuple{Vararg{Real,N} where N}, Tuple{AbstractUnitRange,Vararg{Any,N} where N}} where A<:DenseArray where N where T, DenseArray} where N where T, DenseArray}} where N where #s626<:Union{Dates.CompoundPeriod, Dates.Period}</b>) in Dates at <a href=\"file:///build/julia/src/julia-1.3.1/usr/share/julia/stdlib/v1.3/Dates/src/deprecated.jl\" target=\"_blank\">/build/julia/src/julia-1.3.1/usr/share/julia/stdlib/v1.3/Dates/src/deprecated.jl:64</a></li> <li> +(A::<b>LinearAlgebra.SymTridiagonal</b>, B::<b>LinearAlgebra.SymTridiagonal</b>) in LinearAlgebra at <a href=\"file:///build/julia/src/julia-1.3.1/usr/share/julia/stdlib/v1.3/LinearAlgebra/src/tridiag.jl\" target=\"_blank\">/build/julia/src/julia-1.3.1/usr/share/julia/stdlib/v1.3/LinearAlgebra/src/tridiag.jl:158</a></li> <li> +(A::<b>LinearAlgebra.Tridiagonal</b>, B::<b>LinearAlgebra.Tridiagonal</b>) in LinearAlgebra at <a href=\"file:///build/julia/src/julia-1.3.1/usr/share/julia/stdlib/v1.3/LinearAlgebra/src/tridiag.jl\" target=\"_blank\">/build/julia/src/julia-1.3.1/usr/share/julia/stdlib/v1.3/LinearAlgebra/src/tridiag.jl:636</a></li> <li> +(A::<b>LinearAlgebra.UpperTriangular</b>, B::<b>LinearAlgebra.UpperTriangular</b>) in LinearAlgebra at <a href=\"file:///build/julia/src/julia-1.3.1/usr/share/julia/stdlib/v1.3/LinearAlgebra/src/triangular.jl\" target=\"_blank\">/build/julia/src/julia-1.3.1/usr/share/julia/stdlib/v1.3/LinearAlgebra/src/triangular.jl:554</a></li> <li> +(A::<b>LinearAlgebra.LowerTriangular</b>, B::<b>LinearAlgebra.LowerTriangular</b>) in LinearAlgebra at <a href=\"file:///build/julia/src/julia-1.3.1/usr/share/julia/stdlib/v1.3/LinearAlgebra/src/triangular.jl\" target=\"_blank\">/build/julia/src/julia-1.3.1/usr/share/julia/stdlib/v1.3/LinearAlgebra/src/triangular.jl:555</a></li> <li> +(A::<b>LinearAlgebra.UpperTriangular</b>, B::<b>LinearAlgebra.UnitUpperTriangular</b>) in LinearAlgebra at <a href=\"file:///build/julia/src/julia-1.3.1/usr/share/julia/stdlib/v1.3/LinearAlgebra/src/triangular.jl\" target=\"_blank\">/build/julia/src/julia-1.3.1/usr/share/julia/stdlib/v1.3/LinearAlgebra/src/triangular.jl:556</a></li> <li> +(A::<b>LinearAlgebra.LowerTriangular</b>, B::<b>LinearAlgebra.UnitLowerTriangular</b>) in LinearAlgebra at <a href=\"file:///build/julia/src/julia-1.3.1/usr/share/julia/stdlib/v1.3/LinearAlgebra/src/triangular.jl\" target=\"_blank\">/build/julia/src/julia-1.3.1/usr/share/julia/stdlib/v1.3/LinearAlgebra/src/triangular.jl:557</a></li> <li> +(A::<b>LinearAlgebra.UnitUpperTriangular</b>, B::<b>LinearAlgebra.UpperTriangular</b>) in LinearAlgebra at <a href=\"file:///build/julia/src/julia-1.3.1/usr/share/julia/stdlib/v1.3/LinearAlgebra/src/triangular.jl\" target=\"_blank\">/build/julia/src/julia-1.3.1/usr/share/julia/stdlib/v1.3/LinearAlgebra/src/triangular.jl:558</a></li> <li> +(A::<b>LinearAlgebra.UnitLowerTriangular</b>, B::<b>LinearAlgebra.LowerTriangular</b>) in LinearAlgebra at <a href=\"file:///build/julia/src/julia-1.3.1/usr/share/julia/stdlib/v1.3/LinearAlgebra/src/triangular.jl\" target=\"_blank\">/build/julia/src/julia-1.3.1/usr/share/julia/stdlib/v1.3/LinearAlgebra/src/triangular.jl:559</a></li> <li> +(A::<b>LinearAlgebra.UnitUpperTriangular</b>, B::<b>LinearAlgebra.UnitUpperTriangular</b>) in LinearAlgebra at <a href=\"file:///build/julia/src/julia-1.3.1/usr/share/julia/stdlib/v1.3/LinearAlgebra/src/triangular.jl\" target=\"_blank\">/build/julia/src/julia-1.3.1/usr/share/julia/stdlib/v1.3/LinearAlgebra/src/triangular.jl:560</a></li> <li> +(A::<b>LinearAlgebra.UnitLowerTriangular</b>, B::<b>LinearAlgebra.UnitLowerTriangular</b>) in LinearAlgebra at <a href=\"file:///build/julia/src/julia-1.3.1/usr/share/julia/stdlib/v1.3/LinearAlgebra/src/triangular.jl\" target=\"_blank\">/build/julia/src/julia-1.3.1/usr/share/julia/stdlib/v1.3/LinearAlgebra/src/triangular.jl:561</a></li> <li> +(A::<b>LinearAlgebra.AbstractTriangular</b>, B::<b>LinearAlgebra.AbstractTriangular</b>) in LinearAlgebra at <a href=\"file:///build/julia/src/julia-1.3.1/usr/share/julia/stdlib/v1.3/LinearAlgebra/src/triangular.jl\" target=\"_blank\">/build/julia/src/julia-1.3.1/usr/share/julia/stdlib/v1.3/LinearAlgebra/src/triangular.jl:562</a></li> <li> +(A::<b>LinearAlgebra.Symmetric</b>, B::<b>LinearAlgebra.Symmetric</b>) in LinearAlgebra at <a href=\"file:///build/julia/src/julia-1.3.1/usr/share/julia/stdlib/v1.3/LinearAlgebra/src/symmetric.jl\" target=\"_blank\">/build/julia/src/julia-1.3.1/usr/share/julia/stdlib/v1.3/LinearAlgebra/src/symmetric.jl:422</a></li> <li> +(A::<b>LinearAlgebra.Hermitian</b>, B::<b>LinearAlgebra.Hermitian</b>) in LinearAlgebra at <a href=\"file:///build/julia/src/julia-1.3.1/usr/share/julia/stdlib/v1.3/LinearAlgebra/src/symmetric.jl\" target=\"_blank\">/build/julia/src/julia-1.3.1/usr/share/julia/stdlib/v1.3/LinearAlgebra/src/symmetric.jl:423</a></li> <li> +(A::<b>LinearAlgebra.Hermitian</b>, B::<b>LinearAlgebra.Symmetric{#s627,S} where S<:(AbstractArray{#s6271,2} where #s6271<:#s627) where #s627<:Real</b>) in LinearAlgebra at <a href=\"file:///build/julia/src/julia-1.3.1/usr/share/julia/stdlib/v1.3/LinearAlgebra/src/symmetric.jl\" target=\"_blank\">/build/julia/src/julia-1.3.1/usr/share/julia/stdlib/v1.3/LinearAlgebra/src/symmetric.jl:424</a></li> <li> +(A::<b>LinearAlgebra.Symmetric{#s627,S} where S<:(AbstractArray{#s6271,2} where #s6271<:#s627) where #s627<:Real</b>, B::<b>LinearAlgebra.Hermitian</b>) in LinearAlgebra at <a href=\"file:///build/julia/src/julia-1.3.1/usr/share/julia/stdlib/v1.3/LinearAlgebra/src/symmetric.jl\" target=\"_blank\">/build/julia/src/julia-1.3.1/usr/share/julia/stdlib/v1.3/LinearAlgebra/src/symmetric.jl:425</a></li> <li> +(Da::<b>LinearAlgebra.Diagonal</b>, Db::<b>LinearAlgebra.Diagonal</b>) in LinearAlgebra at <a href=\"file:///build/julia/src/julia-1.3.1/usr/share/julia/stdlib/v1.3/LinearAlgebra/src/diagonal.jl\" target=\"_blank\">/build/julia/src/julia-1.3.1/usr/share/julia/stdlib/v1.3/LinearAlgebra/src/diagonal.jl:156</a></li> <li> +(A::<b>LinearAlgebra.Bidiagonal</b>, B::<b>LinearAlgebra.Bidiagonal</b>) in LinearAlgebra at <a href=\"file:///build/julia/src/julia-1.3.1/usr/share/julia/stdlib/v1.3/LinearAlgebra/src/bidiag.jl\" target=\"_blank\">/build/julia/src/julia-1.3.1/usr/share/julia/stdlib/v1.3/LinearAlgebra/src/bidiag.jl:309</a></li> <li> +(UL::<b>LinearAlgebra.UnitUpperTriangular</b>, J::<b>LinearAlgebra.UniformScaling</b>) in LinearAlgebra at <a href=\"file:///build/julia/src/julia-1.3.1/usr/share/julia/stdlib/v1.3/LinearAlgebra/src/uniformscaling.jl\" target=\"_blank\">/build/julia/src/julia-1.3.1/usr/share/julia/stdlib/v1.3/LinearAlgebra/src/uniformscaling.jl:131</a></li> <li> +(UL::<b>LinearAlgebra.UnitLowerTriangular</b>, J::<b>LinearAlgebra.UniformScaling</b>) in LinearAlgebra at <a href=\"file:///build/julia/src/julia-1.3.1/usr/share/julia/stdlib/v1.3/LinearAlgebra/src/uniformscaling.jl\" target=\"_blank\">/build/julia/src/julia-1.3.1/usr/share/julia/stdlib/v1.3/LinearAlgebra/src/uniformscaling.jl:131</a></li> <li> +(A::<b>LinearAlgebra.Hermitian</b>, J::<b>LinearAlgebra.UniformScaling{#s627} where #s627<:Complex</b>) in LinearAlgebra at <a href=\"file:///build/julia/src/julia-1.3.1/usr/share/julia/stdlib/v1.3/LinearAlgebra/src/uniformscaling.jl\" target=\"_blank\">/build/julia/src/julia-1.3.1/usr/share/julia/stdlib/v1.3/LinearAlgebra/src/uniformscaling.jl:145</a></li> <li> +(H::<b>LinearAlgebra.UpperHessenberg</b>, J::<b>LinearAlgebra.UniformScaling</b>) in LinearAlgebra at <a href=\"file:///build/julia/src/julia-1.3.1/usr/share/julia/stdlib/v1.3/LinearAlgebra/src/hessenberg.jl\" target=\"_blank\">/build/julia/src/julia-1.3.1/usr/share/julia/stdlib/v1.3/LinearAlgebra/src/hessenberg.jl:106</a></li> <li> +(A::<b>LinearAlgebra.Tridiagonal{#s627,V} where V<:AbstractArray{#s627,1} where #s627<:Number</b>, B::<b>LinearAlgebra.UniformScaling</b>) in LinearAlgebra at <a href=\"file:///build/julia/src/julia-1.3.1/usr/share/julia/stdlib/v1.3/LinearAlgebra/src/special.jl\" target=\"_blank\">/build/julia/src/julia-1.3.1/usr/share/julia/stdlib/v1.3/LinearAlgebra/src/special.jl:238</a></li> <li> +(A::<b>LinearAlgebra.SymTridiagonal{#s627,V} where V<:AbstractArray{#s627,1} where #s627<:Number</b>, B::<b>LinearAlgebra.UniformScaling</b>) in LinearAlgebra at <a href=\"file:///build/julia/src/julia-1.3.1/usr/share/julia/stdlib/v1.3/LinearAlgebra/src/special.jl\" target=\"_blank\">/build/julia/src/julia-1.3.1/usr/share/julia/stdlib/v1.3/LinearAlgebra/src/special.jl:243</a></li> <li> +(A::<b>LinearAlgebra.Bidiagonal{#s627,V} where V<:AbstractArray{#s627,1} where #s627<:Number</b>, B::<b>LinearAlgebra.UniformScaling</b>) in LinearAlgebra at <a href=\"file:///build/julia/src/julia-1.3.1/usr/share/julia/stdlib/v1.3/LinearAlgebra/src/special.jl\" target=\"_blank\">/build/julia/src/julia-1.3.1/usr/share/julia/stdlib/v1.3/LinearAlgebra/src/special.jl:248</a></li> <li> +(A::<b>LinearAlgebra.Diagonal{#s627,V} where V<:AbstractArray{#s627,1} where #s627<:Number</b>, B::<b>LinearAlgebra.UniformScaling</b>) in LinearAlgebra at <a href=\"file:///build/julia/src/julia-1.3.1/usr/share/julia/stdlib/v1.3/LinearAlgebra/src/special.jl\" target=\"_blank\">/build/julia/src/julia-1.3.1/usr/share/julia/stdlib/v1.3/LinearAlgebra/src/special.jl:253</a></li> <li> +(A::<b>SparseArrays.SparseMatrixCSC</b>, J::<b>LinearAlgebra.UniformScaling</b>) in SparseArrays at <a href=\"file:///build/julia/src/julia-1.3.1/usr/share/julia/stdlib/v1.3/SparseArrays/src/sparsematrix.jl\" target=\"_blank\">/build/julia/src/julia-1.3.1/usr/share/julia/stdlib/v1.3/SparseArrays/src/sparsematrix.jl:3605</a></li> <li> +(a::<b>StaticArrays.StaticArray{Tuple{N,M},T,2} where T where M where N</b>, b::<b>LinearAlgebra.UniformScaling</b>) in StaticArrays at <a href=\"file:///home/bryand/.julia/packages/StaticArrays/mlIi1/src/linalg.jl\" target=\"_blank\">/home/bryand/.julia/packages/StaticArrays/mlIi1/src/linalg.jl:28</a></li> <li> +(A::<b>AbstractArray{T,2} where T</b>, J::<b>LinearAlgebra.UniformScaling</b>) in LinearAlgebra at <a href=\"file:///build/julia/src/julia-1.3.1/usr/share/julia/stdlib/v1.3/LinearAlgebra/src/uniformscaling.jl\" target=\"_blank\">/build/julia/src/julia-1.3.1/usr/share/julia/stdlib/v1.3/LinearAlgebra/src/uniformscaling.jl:164</a></li> <li> +(A::<b>LinearAlgebra.UpperHessenberg</b>, B::<b>LinearAlgebra.UpperHessenberg</b>) in LinearAlgebra at <a href=\"file:///build/julia/src/julia-1.3.1/usr/share/julia/stdlib/v1.3/LinearAlgebra/src/hessenberg.jl\" target=\"_blank\">/build/julia/src/julia-1.3.1/usr/share/julia/stdlib/v1.3/LinearAlgebra/src/hessenberg.jl:101</a></li> <li> +(A::<b>LinearAlgebra.UpperTriangular</b>, B::<b>LinearAlgebra.Bidiagonal</b>) in LinearAlgebra at <a href=\"file:///build/julia/src/julia-1.3.1/usr/share/julia/stdlib/v1.3/LinearAlgebra/src/special.jl\" target=\"_blank\">/build/julia/src/julia-1.3.1/usr/share/julia/stdlib/v1.3/LinearAlgebra/src/special.jl:98</a></li> <li> +(A::<b>LinearAlgebra.Bidiagonal</b>, B::<b>LinearAlgebra.UpperTriangular</b>) in LinearAlgebra at <a href=\"file:///build/julia/src/julia-1.3.1/usr/share/julia/stdlib/v1.3/LinearAlgebra/src/special.jl\" target=\"_blank\">/build/julia/src/julia-1.3.1/usr/share/julia/stdlib/v1.3/LinearAlgebra/src/special.jl:106</a></li> <li> +(A::<b>LinearAlgebra.UnitUpperTriangular</b>, B::<b>LinearAlgebra.Bidiagonal</b>) in LinearAlgebra at <a href=\"file:///build/julia/src/julia-1.3.1/usr/share/julia/stdlib/v1.3/LinearAlgebra/src/special.jl\" target=\"_blank\">/build/julia/src/julia-1.3.1/usr/share/julia/stdlib/v1.3/LinearAlgebra/src/special.jl:98</a></li> <li> +(A::<b>LinearAlgebra.Bidiagonal</b>, B::<b>LinearAlgebra.UnitUpperTriangular</b>) in LinearAlgebra at <a href=\"file:///build/julia/src/julia-1.3.1/usr/share/julia/stdlib/v1.3/LinearAlgebra/src/special.jl\" target=\"_blank\">/build/julia/src/julia-1.3.1/usr/share/julia/stdlib/v1.3/LinearAlgebra/src/special.jl:106</a></li> <li> +(A::<b>LinearAlgebra.LowerTriangular</b>, B::<b>LinearAlgebra.Bidiagonal</b>) in LinearAlgebra at <a href=\"file:///build/julia/src/julia-1.3.1/usr/share/julia/stdlib/v1.3/LinearAlgebra/src/special.jl\" target=\"_blank\">/build/julia/src/julia-1.3.1/usr/share/julia/stdlib/v1.3/LinearAlgebra/src/special.jl:98</a></li> <li> +(A::<b>LinearAlgebra.Bidiagonal</b>, B::<b>LinearAlgebra.LowerTriangular</b>) in LinearAlgebra at <a href=\"file:///build/julia/src/julia-1.3.1/usr/share/julia/stdlib/v1.3/LinearAlgebra/src/special.jl\" target=\"_blank\">/build/julia/src/julia-1.3.1/usr/share/julia/stdlib/v1.3/LinearAlgebra/src/special.jl:106</a></li> <li> +(A::<b>LinearAlgebra.UnitLowerTriangular</b>, B::<b>LinearAlgebra.Bidiagonal</b>) in LinearAlgebra at <a href=\"file:///build/julia/src/julia-1.3.1/usr/share/julia/stdlib/v1.3/LinearAlgebra/src/special.jl\" target=\"_blank\">/build/julia/src/julia-1.3.1/usr/share/julia/stdlib/v1.3/LinearAlgebra/src/special.jl:98</a></li> <li> +(A::<b>LinearAlgebra.Bidiagonal</b>, B::<b>LinearAlgebra.UnitLowerTriangular</b>) in LinearAlgebra at <a href=\"file:///build/julia/src/julia-1.3.1/usr/share/julia/stdlib/v1.3/LinearAlgebra/src/special.jl\" target=\"_blank\">/build/julia/src/julia-1.3.1/usr/share/julia/stdlib/v1.3/LinearAlgebra/src/special.jl:106</a></li> <li> +(A::<b>LinearAlgebra.Bidiagonal</b>, B::<b>LinearAlgebra.Diagonal</b>) in LinearAlgebra at <a href=\"file:///build/julia/src/julia-1.3.1/usr/share/julia/stdlib/v1.3/LinearAlgebra/src/special.jl\" target=\"_blank\">/build/julia/src/julia-1.3.1/usr/share/julia/stdlib/v1.3/LinearAlgebra/src/special.jl:127</a></li> <li> +(A::<b>LinearAlgebra.Diagonal</b>, B::<b>LinearAlgebra.Bidiagonal</b>) in LinearAlgebra at <a href=\"file:///build/julia/src/julia-1.3.1/usr/share/julia/stdlib/v1.3/LinearAlgebra/src/special.jl\" target=\"_blank\">/build/julia/src/julia-1.3.1/usr/share/julia/stdlib/v1.3/LinearAlgebra/src/special.jl:137</a></li> <li> +(A::<b>LinearAlgebra.Diagonal</b>, B::<b>LinearAlgebra.SymTridiagonal</b>) in LinearAlgebra at <a href=\"file:///build/julia/src/julia-1.3.1/usr/share/julia/stdlib/v1.3/LinearAlgebra/src/special.jl\" target=\"_blank\">/build/julia/src/julia-1.3.1/usr/share/julia/stdlib/v1.3/LinearAlgebra/src/special.jl:147</a></li> <li> +(A::<b>LinearAlgebra.SymTridiagonal</b>, B::<b>LinearAlgebra.Diagonal</b>) in LinearAlgebra at <a href=\"file:///build/julia/src/julia-1.3.1/usr/share/julia/stdlib/v1.3/LinearAlgebra/src/special.jl\" target=\"_blank\">/build/julia/src/julia-1.3.1/usr/share/julia/stdlib/v1.3/LinearAlgebra/src/special.jl:157</a></li> <li> +(A::<b>LinearAlgebra.Tridiagonal</b>, B::<b>LinearAlgebra.SymTridiagonal</b>) in LinearAlgebra at <a href=\"file:///build/julia/src/julia-1.3.1/usr/share/julia/stdlib/v1.3/LinearAlgebra/src/special.jl\" target=\"_blank\">/build/julia/src/julia-1.3.1/usr/share/julia/stdlib/v1.3/LinearAlgebra/src/special.jl:168</a></li> <li> +(A::<b>LinearAlgebra.SymTridiagonal</b>, B::<b>LinearAlgebra.Tridiagonal</b>) in LinearAlgebra at <a href=\"file:///build/julia/src/julia-1.3.1/usr/share/julia/stdlib/v1.3/LinearAlgebra/src/special.jl\" target=\"_blank\">/build/julia/src/julia-1.3.1/usr/share/julia/stdlib/v1.3/LinearAlgebra/src/special.jl:170</a></li> <li> +(A::<b>LinearAlgebra.Diagonal</b>, B::<b>LinearAlgebra.Tridiagonal</b>) in LinearAlgebra at <a href=\"file:///build/julia/src/julia-1.3.1/usr/share/julia/stdlib/v1.3/LinearAlgebra/src/special.jl\" target=\"_blank\">/build/julia/src/julia-1.3.1/usr/share/julia/stdlib/v1.3/LinearAlgebra/src/special.jl:175</a></li> <li> +(A::<b>LinearAlgebra.Tridiagonal</b>, B::<b>LinearAlgebra.Diagonal</b>) in LinearAlgebra at <a href=\"file:///build/julia/src/julia-1.3.1/usr/share/julia/stdlib/v1.3/LinearAlgebra/src/special.jl\" target=\"_blank\">/build/julia/src/julia-1.3.1/usr/share/julia/stdlib/v1.3/LinearAlgebra/src/special.jl:185</a></li> <li> +(A::<b>LinearAlgebra.Bidiagonal</b>, B::<b>LinearAlgebra.Tridiagonal</b>) in LinearAlgebra at <a href=\"file:///build/julia/src/julia-1.3.1/usr/share/julia/stdlib/v1.3/LinearAlgebra/src/special.jl\" target=\"_blank\">/build/julia/src/julia-1.3.1/usr/share/julia/stdlib/v1.3/LinearAlgebra/src/special.jl:195</a></li> <li> +(A::<b>LinearAlgebra.Tridiagonal</b>, B::<b>LinearAlgebra.Bidiagonal</b>) in LinearAlgebra at <a href=\"file:///build/julia/src/julia-1.3.1/usr/share/julia/stdlib/v1.3/LinearAlgebra/src/special.jl\" target=\"_blank\">/build/julia/src/julia-1.3.1/usr/share/julia/stdlib/v1.3/LinearAlgebra/src/special.jl:205</a></li> <li> +(A::<b>LinearAlgebra.Bidiagonal</b>, B::<b>LinearAlgebra.SymTridiagonal</b>) in LinearAlgebra at <a href=\"file:///build/julia/src/julia-1.3.1/usr/share/julia/stdlib/v1.3/LinearAlgebra/src/special.jl\" target=\"_blank\">/build/julia/src/julia-1.3.1/usr/share/julia/stdlib/v1.3/LinearAlgebra/src/special.jl:215</a></li> <li> +(A::<b>LinearAlgebra.SymTridiagonal</b>, B::<b>LinearAlgebra.Bidiagonal</b>) in LinearAlgebra at <a href=\"file:///build/julia/src/julia-1.3.1/usr/share/julia/stdlib/v1.3/LinearAlgebra/src/special.jl\" target=\"_blank\">/build/julia/src/julia-1.3.1/usr/share/julia/stdlib/v1.3/LinearAlgebra/src/special.jl:225</a></li> <li> +(A::<b>SparseArrays.SparseMatrixCSC</b>, B::<b>SparseArrays.SparseMatrixCSC</b>) in SparseArrays at <a href=\"file:///build/julia/src/julia-1.3.1/usr/share/julia/stdlib/v1.3/SparseArrays/src/sparsematrix.jl\" target=\"_blank\">/build/julia/src/julia-1.3.1/usr/share/julia/stdlib/v1.3/SparseArrays/src/sparsematrix.jl:1643</a></li> <li> +(A::<b>SparseArrays.SparseMatrixCSC</b>, B::<b>Array</b>) in SparseArrays at <a href=\"file:///build/julia/src/julia-1.3.1/usr/share/julia/stdlib/v1.3/SparseArrays/src/sparsematrix.jl\" target=\"_blank\">/build/julia/src/julia-1.3.1/usr/share/julia/stdlib/v1.3/SparseArrays/src/sparsematrix.jl:1646</a></li> <li> +(x::<b>SparseArrays.AbstractSparseArray{Tv,Ti,1} where Ti where Tv</b>, y::<b>SparseArrays.AbstractSparseArray{Tv,Ti,1} where Ti where Tv</b>) in SparseArrays at <a href=\"file:///build/julia/src/julia-1.3.1/usr/share/julia/stdlib/v1.3/SparseArrays/src/sparsevector.jl\" target=\"_blank\">/build/julia/src/julia-1.3.1/usr/share/julia/stdlib/v1.3/SparseArrays/src/sparsevector.jl:1304</a></li> <li> +(a::<b>StaticArrays.StaticArray</b>, b::<b>StaticArrays.StaticArray</b>) in StaticArrays at <a href=\"file:///home/bryand/.julia/packages/StaticArrays/mlIi1/src/linalg.jl\" target=\"_blank\">/home/bryand/.julia/packages/StaticArrays/mlIi1/src/linalg.jl:11</a></li> <li> +(a::<b>StaticArrays.StaticArray</b>, b::<b>AbstractArray</b>) in StaticArrays at <a href=\"file:///home/bryand/.julia/packages/StaticArrays/mlIi1/src/linalg.jl\" target=\"_blank\">/home/bryand/.julia/packages/StaticArrays/mlIi1/src/linalg.jl:13</a></li> <li> +(a::<b>StaticArrays.SHermitianCompact</b>, b::<b>Number</b>) in StaticArrays at <a href=\"file:///usr/bin/../share/julia/base/deprecated.jl\" target=\"_blank\">deprecated.jl:65</a></li> <li> +(a::<b>StaticArrays.StaticArray</b>, b::<b>Number</b>) in StaticArrays at <a href=\"file:///usr/bin/../share/julia/base/deprecated.jl\" target=\"_blank\">deprecated.jl:65</a></li> <li> +(x::<b>AbstractArray{#s66,N} where N where #s66<:Number</b>) in Base at <a href=\"https://github.com/JuliaLang/julia/tree/2d5741174ce3e6a394010d2e470e4269ca54607f/base/abstractarraymath.jl#L97\" target=\"_blank\">abstractarraymath.jl:97</a></li> <li> +(a::<b>AbstractArray</b>, b::<b>StaticArrays.StaticArray</b>) in StaticArrays at <a href=\"file:///home/bryand/.julia/packages/StaticArrays/mlIi1/src/linalg.jl\" target=\"_blank\">/home/bryand/.julia/packages/StaticArrays/mlIi1/src/linalg.jl:12</a></li> <li> +(A::<b>AbstractArray</b>, B::<b>AbstractArray</b>) in Base at <a href=\"https://github.com/JuliaLang/julia/tree/2d5741174ce3e6a394010d2e470e4269ca54607f/base/arraymath.jl#L38\" target=\"_blank\">arraymath.jl:38</a></li> <li> +(x::<b>T</b>, y::<b>Integer</b>)<i> where T<:AbstractChar</i> in Base at <a href=\"https://github.com/JuliaLang/julia/tree/2d5741174ce3e6a394010d2e470e4269ca54607f/base/char.jl#L223\" target=\"_blank\">char.jl:223</a></li> <li> +(index1::<b>CartesianIndex{N}</b>, index2::<b>CartesianIndex{N}</b>)<i> where N</i> in Base.IteratorsMD at <a href=\"https://github.com/JuliaLang/julia/tree/2d5741174ce3e6a394010d2e470e4269ca54607f/base/multidimensional.jl#L110\" target=\"_blank\">multidimensional.jl:110</a></li> <li> +(::<b>Number</b>, ::<b>Missing</b>) in Base at <a href=\"https://github.com/JuliaLang/julia/tree/2d5741174ce3e6a394010d2e470e4269ca54607f/base/missing.jl#L116\" target=\"_blank\">missing.jl:116</a></li> <li> +(x::<b>P</b>, y::<b>P</b>)<i> where P<:Dates.Period</i> in Dates at <a href=\"file:///build/julia/src/julia-1.3.1/usr/share/julia/stdlib/v1.3/Dates/src/periods.jl\" target=\"_blank\">/build/julia/src/julia-1.3.1/usr/share/julia/stdlib/v1.3/Dates/src/periods.jl:75</a></li> <li> +(x::<b>Dates.Period</b>, y::<b>Dates.Period</b>) in Dates at <a href=\"file:///build/julia/src/julia-1.3.1/usr/share/julia/stdlib/v1.3/Dates/src/periods.jl\" target=\"_blank\">/build/julia/src/julia-1.3.1/usr/share/julia/stdlib/v1.3/Dates/src/periods.jl:340</a></li> <li> +(y::<b>Dates.Period</b>, x::<b>Dates.CompoundPeriod</b>) in Dates at <a href=\"file:///build/julia/src/julia-1.3.1/usr/share/julia/stdlib/v1.3/Dates/src/periods.jl\" target=\"_blank\">/build/julia/src/julia-1.3.1/usr/share/julia/stdlib/v1.3/Dates/src/periods.jl:342</a></li> <li> +(x::<b>Union{Dates.CompoundPeriod, Dates.Period}</b>) in Dates at <a href=\"file:///build/julia/src/julia-1.3.1/usr/share/julia/stdlib/v1.3/Dates/src/periods.jl\" target=\"_blank\">/build/julia/src/julia-1.3.1/usr/share/julia/stdlib/v1.3/Dates/src/periods.jl:351</a></li> <li> +(x::<b>Dates.TimeType</b>) in Dates at <a href=\"file:///build/julia/src/julia-1.3.1/usr/share/julia/stdlib/v1.3/Dates/src/arithmetic.jl\" target=\"_blank\">/build/julia/src/julia-1.3.1/usr/share/julia/stdlib/v1.3/Dates/src/arithmetic.jl:8</a></li> <li> +(a::<b>Dates.TimeType</b>, b::<b>Dates.Period</b>, c::<b>Dates.Period</b>) in Dates at <a href=\"file:///build/julia/src/julia-1.3.1/usr/share/julia/stdlib/v1.3/Dates/src/periods.jl\" target=\"_blank\">/build/julia/src/julia-1.3.1/usr/share/julia/stdlib/v1.3/Dates/src/periods.jl:362</a></li> <li> +(a::<b>Dates.TimeType</b>, b::<b>Dates.Period</b>, c::<b>Dates.Period</b>, d::<b>Dates.Period...</b>) in Dates at <a href=\"file:///build/julia/src/julia-1.3.1/usr/share/julia/stdlib/v1.3/Dates/src/periods.jl\" target=\"_blank\">/build/julia/src/julia-1.3.1/usr/share/julia/stdlib/v1.3/Dates/src/periods.jl:363</a></li> <li> +(x::<b>Dates.TimeType</b>, y::<b>Dates.CompoundPeriod</b>) in Dates at <a href=\"file:///build/julia/src/julia-1.3.1/usr/share/julia/stdlib/v1.3/Dates/src/periods.jl\" target=\"_blank\">/build/julia/src/julia-1.3.1/usr/share/julia/stdlib/v1.3/Dates/src/periods.jl:366</a></li> <li> +(x::<b>Dates.Instant</b>) in Dates at <a href=\"file:///build/julia/src/julia-1.3.1/usr/share/julia/stdlib/v1.3/Dates/src/arithmetic.jl\" target=\"_blank\">/build/julia/src/julia-1.3.1/usr/share/julia/stdlib/v1.3/Dates/src/arithmetic.jl:4</a></li> <li> +(y::<b>Dates.Period</b>, x::<b>Dates.TimeType</b>) in Dates at <a href=\"file:///build/julia/src/julia-1.3.1/usr/share/julia/stdlib/v1.3/Dates/src/arithmetic.jl\" target=\"_blank\">/build/julia/src/julia-1.3.1/usr/share/julia/stdlib/v1.3/Dates/src/arithmetic.jl:80</a></li> <li> +(x::<b>Dates.Period</b>, r::<b>AbstractRange{#s627} where #s627<:Dates.TimeType</b>) in Dates at <a href=\"file:///build/julia/src/julia-1.3.1/usr/share/julia/stdlib/v1.3/Dates/src/ranges.jl\" target=\"_blank\">/build/julia/src/julia-1.3.1/usr/share/julia/stdlib/v1.3/Dates/src/ranges.jl:58</a></li> <li> +(x::<b>AbstractArray{#s627,N} where N where #s627<:Dates.TimeType</b>, y::<b>Union{Dates.CompoundPeriod, Dates.Period}</b>) in Dates at <a href=\"file:///build/julia/src/julia-1.3.1/usr/share/julia/stdlib/v1.3/Dates/src/deprecated.jl\" target=\"_blank\">/build/julia/src/julia-1.3.1/usr/share/julia/stdlib/v1.3/Dates/src/deprecated.jl:8</a></li> <li> +(y::<b>Union{Dates.CompoundPeriod, Dates.Period}</b>, x::<b>AbstractArray{#s627,N} where N where #s627<:Dates.TimeType</b>) in Dates at <a href=\"file:///build/julia/src/julia-1.3.1/usr/share/julia/stdlib/v1.3/Dates/src/deprecated.jl\" target=\"_blank\">/build/julia/src/julia-1.3.1/usr/share/julia/stdlib/v1.3/Dates/src/deprecated.jl:16</a></li> <li> +(y::<b>Dates.TimeType</b>, x::<b>Union{DenseArray{#s627,N}, Base.ReinterpretArray{#s627,N,S,A} where S where A<:Union{SubArray{T,N,A,I,true} where I<:Union{Tuple{Vararg{Real,N} where N}, Tuple{AbstractUnitRange,Vararg{Any,N} where N}} where A<:DenseArray where N where T, DenseArray}, Base.ReshapedArray{#s627,N,A,MI} where MI<:Tuple{Vararg{Base.MultiplicativeInverses.SignedMultiplicativeInverse{Int64},N} where N} where A<:Union{Base.ReinterpretArray{T,N,S,A} where S where A<:Union{SubArray{T,N,A,I,true} where I<:Union{Tuple{Vararg{Real,N} where N}, Tuple{AbstractUnitRange,Vararg{Any,N} where N}} where A<:DenseArray where N where T, DenseArray} where N where T, SubArray{T,N,A,I,true} where I<:Union{Tuple{Vararg{Real,N} where N}, Tuple{AbstractUnitRange,Vararg{Any,N} where N}} where A<:DenseArray where N where T, DenseArray}, SubArray{#s627,N,A,I,L} where L where I<:Tuple{Vararg{Union{Int64, AbstractRange{Int64}, Base.AbstractCartesianIndex},N} where N} where A<:Union{Base.ReinterpretArray{T,N,S,A} where S where A<:Union{SubArray{T,N,A,I,true} where I<:Union{Tuple{Vararg{Real,N} where N}, Tuple{AbstractUnitRange,Vararg{Any,N} where N}} where A<:DenseArray where N where T, DenseArray} where N where T, Base.ReshapedArray{T,N,A,MI} where MI<:Tuple{Vararg{Base.MultiplicativeInverses.SignedMultiplicativeInverse{Int64},N} where N} where A<:Union{Base.ReinterpretArray{T,N,S,A} where S where A<:Union{SubArray{T,N,A,I,true} where I<:Union{Tuple{Vararg{Real,N} where N}, Tuple{AbstractUnitRange,Vararg{Any,N} where N}} where A<:DenseArray where N where T, DenseArray} where N where T, SubArray{T,N,A,I,true} where I<:Union{Tuple{Vararg{Real,N} where N}, Tuple{AbstractUnitRange,Vararg{Any,N} where N}} where A<:DenseArray where N where T, DenseArray} where N where T, DenseArray}} where N where #s627<:Union{Dates.CompoundPeriod, Dates.Period}</b>) in Dates at <a href=\"file:///build/julia/src/julia-1.3.1/usr/share/julia/stdlib/v1.3/Dates/src/deprecated.jl\" target=\"_blank\">/build/julia/src/julia-1.3.1/usr/share/julia/stdlib/v1.3/Dates/src/deprecated.jl:20</a></li> <li> +(J::<b>LinearAlgebra.UniformScaling</b>, x::<b>Number</b>) in LinearAlgebra at <a href=\"file:///build/julia/src/julia-1.3.1/usr/share/julia/stdlib/v1.3/LinearAlgebra/src/uniformscaling.jl\" target=\"_blank\">/build/julia/src/julia-1.3.1/usr/share/julia/stdlib/v1.3/LinearAlgebra/src/uniformscaling.jl:109</a></li> <li> +(x::<b>Number</b>, J::<b>LinearAlgebra.UniformScaling</b>) in LinearAlgebra at <a href=\"file:///build/julia/src/julia-1.3.1/usr/share/julia/stdlib/v1.3/LinearAlgebra/src/uniformscaling.jl\" target=\"_blank\">/build/julia/src/julia-1.3.1/usr/share/julia/stdlib/v1.3/LinearAlgebra/src/uniformscaling.jl:110</a></li> <li> +(J1::<b>LinearAlgebra.UniformScaling</b>, J2::<b>LinearAlgebra.UniformScaling</b>) in LinearAlgebra at <a href=\"file:///build/julia/src/julia-1.3.1/usr/share/julia/stdlib/v1.3/LinearAlgebra/src/uniformscaling.jl\" target=\"_blank\">/build/julia/src/julia-1.3.1/usr/share/julia/stdlib/v1.3/LinearAlgebra/src/uniformscaling.jl:114</a></li> <li> +(J::<b>LinearAlgebra.UniformScaling</b>, B::<b>BitArray{2}</b>) in LinearAlgebra at <a href=\"file:///build/julia/src/julia-1.3.1/usr/share/julia/stdlib/v1.3/LinearAlgebra/src/uniformscaling.jl\" target=\"_blank\">/build/julia/src/julia-1.3.1/usr/share/julia/stdlib/v1.3/LinearAlgebra/src/uniformscaling.jl:116</a></li> <li> +(A::<b>LinearAlgebra.UniformScaling</b>, B::<b>LinearAlgebra.Tridiagonal{#s627,V} where V<:AbstractArray{#s627,1} where #s627<:Number</b>) in LinearAlgebra at <a href=\"file:///build/julia/src/julia-1.3.1/usr/share/julia/stdlib/v1.3/LinearAlgebra/src/special.jl\" target=\"_blank\">/build/julia/src/julia-1.3.1/usr/share/julia/stdlib/v1.3/LinearAlgebra/src/special.jl:257</a></li> <li> +(A::<b>LinearAlgebra.UniformScaling</b>, B::<b>LinearAlgebra.SymTridiagonal{#s627,V} where V<:AbstractArray{#s627,1} where #s627<:Number</b>) in LinearAlgebra at <a href=\"file:///build/julia/src/julia-1.3.1/usr/share/julia/stdlib/v1.3/LinearAlgebra/src/special.jl\" target=\"_blank\">/build/julia/src/julia-1.3.1/usr/share/julia/stdlib/v1.3/LinearAlgebra/src/special.jl:262</a></li> <li> +(A::<b>LinearAlgebra.UniformScaling</b>, B::<b>LinearAlgebra.Bidiagonal{#s627,V} where V<:AbstractArray{#s627,1} where #s627<:Number</b>) in LinearAlgebra at <a href=\"file:///build/julia/src/julia-1.3.1/usr/share/julia/stdlib/v1.3/LinearAlgebra/src/special.jl\" target=\"_blank\">/build/julia/src/julia-1.3.1/usr/share/julia/stdlib/v1.3/LinearAlgebra/src/special.jl:267</a></li> <li> +(A::<b>LinearAlgebra.UniformScaling</b>, B::<b>LinearAlgebra.Diagonal{#s627,V} where V<:AbstractArray{#s627,1} where #s627<:Number</b>) in LinearAlgebra at <a href=\"file:///build/julia/src/julia-1.3.1/usr/share/julia/stdlib/v1.3/LinearAlgebra/src/special.jl\" target=\"_blank\">/build/julia/src/julia-1.3.1/usr/share/julia/stdlib/v1.3/LinearAlgebra/src/special.jl:272</a></li> <li> +(a::<b>LinearAlgebra.UniformScaling</b>, b::<b>StaticArrays.StaticArray{Tuple{N,M},T,2} where T where M where N</b>) in StaticArrays at <a href=\"file:///home/bryand/.julia/packages/StaticArrays/mlIi1/src/linalg.jl\" target=\"_blank\">/home/bryand/.julia/packages/StaticArrays/mlIi1/src/linalg.jl:29</a></li> <li> +(J::<b>LinearAlgebra.UniformScaling</b>, A::<b>AbstractArray{T,2} where T</b>) in LinearAlgebra at <a href=\"file:///build/julia/src/julia-1.3.1/usr/share/julia/stdlib/v1.3/LinearAlgebra/src/uniformscaling.jl\" target=\"_blank\">/build/julia/src/julia-1.3.1/usr/share/julia/stdlib/v1.3/LinearAlgebra/src/uniformscaling.jl:117</a></li> <li> +(F::<b>LinearAlgebra.Hessenberg</b>, J::<b>LinearAlgebra.UniformScaling</b>) in LinearAlgebra at <a href=\"file:///build/julia/src/julia-1.3.1/usr/share/julia/stdlib/v1.3/LinearAlgebra/src/hessenberg.jl\" target=\"_blank\">/build/julia/src/julia-1.3.1/usr/share/julia/stdlib/v1.3/LinearAlgebra/src/hessenberg.jl:517</a></li> <li> +(J::<b>LinearAlgebra.UniformScaling</b>, F::<b>LinearAlgebra.Hessenberg</b>) in LinearAlgebra at <a href=\"file:///build/julia/src/julia-1.3.1/usr/share/julia/stdlib/v1.3/LinearAlgebra/src/hessenberg.jl\" target=\"_blank\">/build/julia/src/julia-1.3.1/usr/share/julia/stdlib/v1.3/LinearAlgebra/src/hessenberg.jl:518</a></li> <li> +(a::<b>Measures.Length{U,T} where T</b>, b::<b>Measures.Length{U,T} where T</b>)<i> where U</i> in Measures at <a href=\"file:///home/bryand/.julia/packages/Measures/0Zkai/src/length.jl\" target=\"_blank\">/home/bryand/.julia/packages/Measures/0Zkai/src/length.jl:28</a></li> <li> +(a::<b>Measures.Measure</b>, b::<b>Measures.Measure</b>) in Measures at <a href=\"file:///home/bryand/.julia/packages/Measures/0Zkai/src/operations.jl\" target=\"_blank\">/home/bryand/.julia/packages/Measures/0Zkai/src/operations.jl:41</a></li> <li> +(a::<b>Tuple{Vararg{Measures.Measure,N}}</b>, b::<b>Tuple{Vararg{Measures.Measure,N}}</b>)<i> where N</i> in Measures at <a href=\"file:///home/bryand/.julia/packages/Measures/0Zkai/src/point.jl\" target=\"_blank\">/home/bryand/.julia/packages/Measures/0Zkai/src/point.jl:22</a></li> <li> +(a::<b>Tuple{Vararg{Measures.Measure,N}} where N</b>, b::<b>Tuple{Vararg{Measures.Measure,N}} where N</b>) in Measures at <a href=\"file:///home/bryand/.julia/packages/Measures/0Zkai/src/point.jl\" target=\"_blank\">/home/bryand/.julia/packages/Measures/0Zkai/src/point.jl:15</a></li> <li> +(a::<b>Number</b>, b::<b>StaticArrays.SHermitianCompact</b>) in StaticArrays at <a href=\"file:///usr/bin/../share/julia/base/deprecated.jl\" target=\"_blank\">deprecated.jl:65</a></li> <li> +(a::<b>Number</b>, b::<b>StaticArrays.StaticArray</b>) in StaticArrays at <a href=\"file:///usr/bin/../share/julia/base/deprecated.jl\" target=\"_blank\">deprecated.jl:65</a></li> <li> +(a::<b>C</b>, b::<b>C</b>)<i> where C<:Union{LMS, XYZ}</i> in Colors at <a href=\"file:///home/bryand/.julia/packages/Colors/qXo6j/src/algorithms.jl\" target=\"_blank\">/home/bryand/.julia/packages/Colors/qXo6j/src/algorithms.jl:4</a></li> <li> +(h::<b>GeometryTypes.HyperRectangle{N,T}</b>, move::<b>GeometryTypes.Vec{N,T} where T</b>)<i> where {N, T}</i> in GeometryTypes at <a href=\"file:///home/bryand/.julia/packages/GeometryTypes/gpBFp/src/hyperrectangles.jl\" target=\"_blank\">/home/bryand/.julia/packages/GeometryTypes/gpBFp/src/hyperrectangles.jl:202</a></li> <li> +(h::<b>GeometryTypes.SimpleRectangle{T}</b>, move::<b>GeometryTypes.Vec{2,T} where T</b>)<i> where T</i> in GeometryTypes at <a href=\"file:///home/bryand/.julia/packages/GeometryTypes/gpBFp/src/hyperrectangles.jl\" target=\"_blank\">/home/bryand/.julia/packages/GeometryTypes/gpBFp/src/hyperrectangles.jl:209</a></li> <li> +(bb1::<b>Measures.BoundingBox</b>, bb2::<b>Measures.BoundingBox</b>) in Plots at <a href=\"file:///home/bryand/.julia/packages/Plots/vAz7I/src/layouts.jl\" target=\"_blank\">/home/bryand/.julia/packages/Plots/vAz7I/src/layouts.jl:49</a></li> <li> +(a, b, c, xs...) in Base at <a href=\"https://github.com/JuliaLang/julia/tree/2d5741174ce3e6a394010d2e470e4269ca54607f/base/operators.jl#L529\" target=\"_blank\">operators.jl:529</a></li> </ul>"
      ],
      "text/plain": [
       "# 185 methods for generic function \"+\":\n",
       "[1] +(x::Bool, z::Complex{Bool}) in Base at complex.jl:282\n",
       "[2] +(x::Bool, y::Bool) in Base at bool.jl:96\n",
       "[3] +(x::Bool) in Base at bool.jl:93\n",
       "[4] +(x::Bool, y::T) where T<:AbstractFloat in Base at bool.jl:104\n",
       "[5] +(x::Bool, z::Complex) in Base at complex.jl:289\n",
       "[6] +(a::Float16, b::Float16) in Base at float.jl:398\n",
       "[7] +(x::Float32, y::Float32) in Base at float.jl:400\n",
       "[8] +(x::Float64, y::Float64) in Base at float.jl:401\n",
       "[9] +(z::Complex{Bool}, x::Bool) in Base at complex.jl:283\n",
       "[10] +(z::Complex{Bool}, x::Real) in Base at complex.jl:297\n",
       "[11] +(::Missing, ::Missing) in Base at missing.jl:114\n",
       "[12] +(::Missing) in Base at missing.jl:100\n",
       "[13] +(::Missing, ::Number) in Base at missing.jl:115\n",
       "[14] +(level::Base.CoreLogging.LogLevel, inc::Integer) in Base.CoreLogging at logging.jl:106\n",
       "[15] +(c::BigInt, x::BigFloat) in Base.MPFR at mpfr.jl:413\n",
       "[16] +(a::BigInt, b::BigInt, c::BigInt, d::BigInt, e::BigInt) in Base.GMP at gmp.jl:503\n",
       "[17] +(a::BigInt, b::BigInt, c::BigInt, d::BigInt) in Base.GMP at gmp.jl:502\n",
       "[18] +(a::BigInt, b::BigInt, c::BigInt) in Base.GMP at gmp.jl:501\n",
       "[19] +(x::BigInt, y::BigInt) in Base.GMP at gmp.jl:472\n",
       "[20] +(x::BigInt, c::Union{UInt16, UInt32, UInt64, UInt8}) in Base.GMP at gmp.jl:509\n",
       "[21] +(x::BigInt, c::Union{Int16, Int32, Int64, Int8}) in Base.GMP at gmp.jl:515\n",
       "[22] +(a::BigFloat, b::BigFloat, c::BigFloat, d::BigFloat, e::BigFloat) in Base.MPFR at mpfr.jl:563\n",
       "[23] +(a::BigFloat, b::BigFloat, c::BigFloat, d::BigFloat) in Base.MPFR at mpfr.jl:556\n",
       "[24] +(a::BigFloat, b::BigFloat, c::BigFloat) in Base.MPFR at mpfr.jl:550\n",
       "[25] +(x::BigFloat, c::BigInt) in Base.MPFR at mpfr.jl:409\n",
       "[26] +(x::BigFloat, y::BigFloat) in Base.MPFR at mpfr.jl:378\n",
       "[27] +(x::BigFloat, c::Union{UInt16, UInt32, UInt64, UInt8}) in Base.MPFR at mpfr.jl:385\n",
       "[28] +(x::BigFloat, c::Union{Int16, Int32, Int64, Int8}) in Base.MPFR at mpfr.jl:393\n",
       "[29] +(x::BigFloat, c::Union{Float16, Float32, Float64}) in Base.MPFR at mpfr.jl:401\n",
       "[30] +(x::Dates.CompoundPeriod, y::Dates.CompoundPeriod) in Dates at /build/julia/src/julia-1.3.1/usr/share/julia/stdlib/v1.3/Dates/src/periods.jl:343\n",
       "[31] +(x::Dates.CompoundPeriod, y::Dates.Period) in Dates at /build/julia/src/julia-1.3.1/usr/share/julia/stdlib/v1.3/Dates/src/periods.jl:341\n",
       "[32] +(x::Dates.CompoundPeriod, y::Dates.TimeType) in Dates at /build/julia/src/julia-1.3.1/usr/share/julia/stdlib/v1.3/Dates/src/periods.jl:371\n",
       "[33] +(x::Dates.Date, y::Dates.Day) in Dates at /build/julia/src/julia-1.3.1/usr/share/julia/stdlib/v1.3/Dates/src/arithmetic.jl:74\n",
       "[34] +(x::Dates.Date, y::Dates.Week) in Dates at /build/julia/src/julia-1.3.1/usr/share/julia/stdlib/v1.3/Dates/src/arithmetic.jl:72\n",
       "[35] +(dt::Dates.Date, z::Dates.Month) in Dates at /build/julia/src/julia-1.3.1/usr/share/julia/stdlib/v1.3/Dates/src/arithmetic.jl:55\n",
       "[36] +(dt::Dates.Date, y::Dates.Year) in Dates at /build/julia/src/julia-1.3.1/usr/share/julia/stdlib/v1.3/Dates/src/arithmetic.jl:28\n",
       "[37] +(dt::Dates.Date, t::Dates.Time) in Dates at /build/julia/src/julia-1.3.1/usr/share/julia/stdlib/v1.3/Dates/src/arithmetic.jl:19\n",
       "[38] +(t::Dates.Time, dt::Dates.Date) in Dates at /build/julia/src/julia-1.3.1/usr/share/julia/stdlib/v1.3/Dates/src/arithmetic.jl:20\n",
       "[39] +(x::Dates.Time, y::Dates.TimePeriod) in Dates at /build/julia/src/julia-1.3.1/usr/share/julia/stdlib/v1.3/Dates/src/arithmetic.jl:78\n",
       "[40] +(dt::Dates.DateTime, z::Dates.Month) in Dates at /build/julia/src/julia-1.3.1/usr/share/julia/stdlib/v1.3/Dates/src/arithmetic.jl:48\n",
       "[41] +(dt::Dates.DateTime, y::Dates.Year) in Dates at /build/julia/src/julia-1.3.1/usr/share/julia/stdlib/v1.3/Dates/src/arithmetic.jl:24\n",
       "[42] +(x::Dates.DateTime, y::Dates.Period) in Dates at /build/julia/src/julia-1.3.1/usr/share/julia/stdlib/v1.3/Dates/src/arithmetic.jl:76\n",
       "[43] +(B::BitArray{2}, J::LinearAlgebra.UniformScaling) in LinearAlgebra at /build/julia/src/julia-1.3.1/usr/share/julia/stdlib/v1.3/LinearAlgebra/src/uniformscaling.jl:115\n",
       "[44] +(a::Pkg.Resolve.VersionWeights.VersionWeight, b::Pkg.Resolve.VersionWeights.VersionWeight) in Pkg.Resolve.VersionWeights at /build/julia/src/julia-1.3.1/usr/share/julia/stdlib/v1.3/Pkg/src/resolve/VersionWeights.jl:26\n",
       "[45] +(a::Pkg.Resolve.MaxSum.FieldValues.FieldValue, b::Pkg.Resolve.MaxSum.FieldValues.FieldValue) in Pkg.Resolve.MaxSum.FieldValues at /build/julia/src/julia-1.3.1/usr/share/julia/stdlib/v1.3/Pkg/src/resolve/FieldValues.jl:49\n",
       "[46] +(y::AbstractFloat, x::Bool) in Base at bool.jl:106\n",
       "[47] +(x::T, y::T) where T<:Union{Int128, Int16, Int32, Int64, Int8, UInt128, UInt16, UInt32, UInt64, UInt8} in Base at int.jl:53\n",
       "[48] +(c::Union{UInt16, UInt32, UInt64, UInt8}, x::BigInt) in Base.GMP at gmp.jl:510\n",
       "[49] +(c::Union{Int16, Int32, Int64, Int8}, x::BigInt) in Base.GMP at gmp.jl:516\n",
       "[50] +(x::GeometryTypes.OffsetInteger{O,T} where T<:Integer, y::GeometryTypes.OffsetInteger{O,T} where T<:Integer) where O in GeometryTypes at /home/bryand/.julia/packages/GeometryTypes/gpBFp/src/faces.jl:32\n",
       "[51] +(a::Integer, b::Integer) in Base at int.jl:871\n",
       "[52] +(x::Integer, y::Ptr) in Base at pointer.jl:161\n",
       "[53] +(z::Complex) in Base at complex.jl:269\n",
       "[54] +(z::Complex, w::Complex) in Base at complex.jl:271\n",
       "[55] +(z::Complex, x::Bool) in Base at complex.jl:290\n",
       "[56] +(x::Rational) in Base at rational.jl:241\n",
       "[57] +(x::Real, z::Complex{Bool}) in Base at complex.jl:296\n",
       "[58] +(x::Real, z::Complex) in Base at complex.jl:308\n",
       "[59] +(z::Complex, x::Real) in Base at complex.jl:309\n",
       "[60] +(x::Rational, y::Rational) in Base at rational.jl:257\n",
       "[61] +(x::Integer, y::AbstractChar) in Base at char.jl:224\n",
       "[62] +(c::Union{UInt16, UInt32, UInt64, UInt8}, x::BigFloat) in Base.MPFR at mpfr.jl:389\n",
       "[63] +(c::Union{Int16, Int32, Int64, Int8}, x::BigFloat) in Base.MPFR at mpfr.jl:397\n",
       "[64] +(c::Union{Float16, Float32, Float64}, x::BigFloat) in Base.MPFR at mpfr.jl:405\n",
       "[65] +(x::AbstractIrrational, y::AbstractIrrational) in Base at irrationals.jl:137\n",
       "[66] +(x::X, y::X) where X<:FixedPointNumbers.FixedPoint in FixedPointNumbers at /home/bryand/.julia/packages/FixedPointNumbers/w2pxG/src/FixedPointNumbers.jl:165\n",
       "[67] +(x::Number) in Base at operators.jl:504\n",
       "[68] +(x::T, y::T) where T<:Number in Base at promotion.jl:387\n",
       "[69] +(x::Number, y::Number) in Base at promotion.jl:311\n",
       "[70] +(r1::OrdinalRange, r2::OrdinalRange) in Base at range.jl:1011\n",
       "[71] +(r1::LinRange{T}, r2::LinRange{T}) where T in Base at range.jl:1018\n",
       "[72] +(r1::StepRangeLen{T,R,S} where S, r2::StepRangeLen{T,R,S} where S) where {R<:Base.TwicePrecision, T} in Base at twiceprecision.jl:557\n",
       "[73] +(r1::StepRangeLen{T,S,S1} where S1, r2::StepRangeLen{T,S,S1} where S1) where {T, S} in Base at range.jl:1034\n",
       "[74] +(r1::Union{LinRange, OrdinalRange, StepRangeLen}, r2::Union{LinRange, OrdinalRange, StepRangeLen}) in Base at range.jl:1026\n",
       "[75] +(x::Ptr, y::Integer) in Base at pointer.jl:159\n",
       "[76] +(x::Base.TwicePrecision, y::Number) in Base at twiceprecision.jl:265\n",
       "[77] +(x::Number, y::Base.TwicePrecision) in Base at twiceprecision.jl:268\n",
       "[78] +(x::Base.TwicePrecision{T}, y::Base.TwicePrecision{T}) where T in Base at twiceprecision.jl:271\n",
       "[79] +(x::Base.TwicePrecision, y::Base.TwicePrecision) in Base at twiceprecision.jl:275\n",
       "[80] +(A::Array, Bs::Array...) in Base at arraymath.jl:44\n",
       "[81] +(A::BitArray, B::BitArray) in Base at bitarray.jl:1084\n",
       "[82] +(r::AbstractRange{#s627} where #s627<:Dates.TimeType, x::Dates.Period) in Dates at /build/julia/src/julia-1.3.1/usr/share/julia/stdlib/v1.3/Dates/src/ranges.jl:59\n",
       "[83] +(A::Array, B::SparseArrays.SparseMatrixCSC) in SparseArrays at /build/julia/src/julia-1.3.1/usr/share/julia/stdlib/v1.3/SparseArrays/src/sparsematrix.jl:1647\n",
       "[84] +(x::Union{DenseArray{#s627,N}, Base.ReinterpretArray{#s627,N,S,A} where S where A<:Union{SubArray{T,N,A,I,true} where I<:Union{Tuple{Vararg{Real,N} where N}, Tuple{AbstractUnitRange,Vararg{Any,N} where N}} where A<:DenseArray where N where T, DenseArray}, Base.ReshapedArray{#s627,N,A,MI} where MI<:Tuple{Vararg{Base.MultiplicativeInverses.SignedMultiplicativeInverse{Int64},N} where N} where A<:Union{Base.ReinterpretArray{T,N,S,A} where S where A<:Union{SubArray{T,N,A,I,true} where I<:Union{Tuple{Vararg{Real,N} where N}, Tuple{AbstractUnitRange,Vararg{Any,N} where N}} where A<:DenseArray where N where T, DenseArray} where N where T, SubArray{T,N,A,I,true} where I<:Union{Tuple{Vararg{Real,N} where N}, Tuple{AbstractUnitRange,Vararg{Any,N} where N}} where A<:DenseArray where N where T, DenseArray}, SubArray{#s627,N,A,I,L} where L where I<:Tuple{Vararg{Union{Int64, AbstractRange{Int64}, Base.AbstractCartesianIndex},N} where N} where A<:Union{Base.ReinterpretArray{T,N,S,A} where S where A<:Union{SubArray{T,N,A,I,true} where I<:Union{Tuple{Vararg{Real,N} where N}, Tuple{AbstractUnitRange,Vararg{Any,N} where N}} where A<:DenseArray where N where T, DenseArray} where N where T, Base.ReshapedArray{T,N,A,MI} where MI<:Tuple{Vararg{Base.MultiplicativeInverses.SignedMultiplicativeInverse{Int64},N} where N} where A<:Union{Base.ReinterpretArray{T,N,S,A} where S where A<:Union{SubArray{T,N,A,I,true} where I<:Union{Tuple{Vararg{Real,N} where N}, Tuple{AbstractUnitRange,Vararg{Any,N} where N}} where A<:DenseArray where N where T, DenseArray} where N where T, SubArray{T,N,A,I,true} where I<:Union{Tuple{Vararg{Real,N} where N}, Tuple{AbstractUnitRange,Vararg{Any,N} where N}} where A<:DenseArray where N where T, DenseArray} where N where T, DenseArray}} where N where #s627<:Union{Dates.CompoundPeriod, Dates.Period}) in Dates at /build/julia/src/julia-1.3.1/usr/share/julia/stdlib/v1.3/Dates/src/deprecated.jl:57\n",
       "[85] +(x::Union{DenseArray{#s627,N}, Base.ReinterpretArray{#s627,N,S,A} where S where A<:Union{SubArray{T,N,A,I,true} where I<:Union{Tuple{Vararg{Real,N} where N}, Tuple{AbstractUnitRange,Vararg{Any,N} where N}} where A<:DenseArray where N where T, DenseArray}, Base.ReshapedArray{#s627,N,A,MI} where MI<:Tuple{Vararg{Base.MultiplicativeInverses.SignedMultiplicativeInverse{Int64},N} where N} where A<:Union{Base.ReinterpretArray{T,N,S,A} where S where A<:Union{SubArray{T,N,A,I,true} where I<:Union{Tuple{Vararg{Real,N} where N}, Tuple{AbstractUnitRange,Vararg{Any,N} where N}} where A<:DenseArray where N where T, DenseArray} where N where T, SubArray{T,N,A,I,true} where I<:Union{Tuple{Vararg{Real,N} where N}, Tuple{AbstractUnitRange,Vararg{Any,N} where N}} where A<:DenseArray where N where T, DenseArray}, SubArray{#s627,N,A,I,L} where L where I<:Tuple{Vararg{Union{Int64, AbstractRange{Int64}, Base.AbstractCartesianIndex},N} where N} where A<:Union{Base.ReinterpretArray{T,N,S,A} where S where A<:Union{SubArray{T,N,A,I,true} where I<:Union{Tuple{Vararg{Real,N} where N}, Tuple{AbstractUnitRange,Vararg{Any,N} where N}} where A<:DenseArray where N where T, DenseArray} where N where T, Base.ReshapedArray{T,N,A,MI} where MI<:Tuple{Vararg{Base.MultiplicativeInverses.SignedMultiplicativeInverse{Int64},N} where N} where A<:Union{Base.ReinterpretArray{T,N,S,A} where S where A<:Union{SubArray{T,N,A,I,true} where I<:Union{Tuple{Vararg{Real,N} where N}, Tuple{AbstractUnitRange,Vararg{Any,N} where N}} where A<:DenseArray where N where T, DenseArray} where N where T, SubArray{T,N,A,I,true} where I<:Union{Tuple{Vararg{Real,N} where N}, Tuple{AbstractUnitRange,Vararg{Any,N} where N}} where A<:DenseArray where N where T, DenseArray} where N where T, DenseArray}} where N where #s627<:Union{Dates.CompoundPeriod, Dates.Period}, y::Dates.TimeType) in Dates at /build/julia/src/julia-1.3.1/usr/share/julia/stdlib/v1.3/Dates/src/deprecated.jl:12\n",
       "[86] +(X::Union{DenseArray{#s627,N}, Base.ReinterpretArray{#s627,N,S,A} where S where A<:Union{SubArray{T,N,A,I,true} where I<:Union{Tuple{Vararg{Real,N} where N}, Tuple{AbstractUnitRange,Vararg{Any,N} where N}} where A<:DenseArray where N where T, DenseArray}, Base.ReshapedArray{#s627,N,A,MI} where MI<:Tuple{Vararg{Base.MultiplicativeInverses.SignedMultiplicativeInverse{Int64},N} where N} where A<:Union{Base.ReinterpretArray{T,N,S,A} where S where A<:Union{SubArray{T,N,A,I,true} where I<:Union{Tuple{Vararg{Real,N} where N}, Tuple{AbstractUnitRange,Vararg{Any,N} where N}} where A<:DenseArray where N where T, DenseArray} where N where T, SubArray{T,N,A,I,true} where I<:Union{Tuple{Vararg{Real,N} where N}, Tuple{AbstractUnitRange,Vararg{Any,N} where N}} where A<:DenseArray where N where T, DenseArray}, SubArray{#s627,N,A,I,L} where L where I<:Tuple{Vararg{Union{Int64, AbstractRange{Int64}, Base.AbstractCartesianIndex},N} where N} where A<:Union{Base.ReinterpretArray{T,N,S,A} where S where A<:Union{SubArray{T,N,A,I,true} where I<:Union{Tuple{Vararg{Real,N} where N}, Tuple{AbstractUnitRange,Vararg{Any,N} where N}} where A<:DenseArray where N where T, DenseArray} where N where T, Base.ReshapedArray{T,N,A,MI} where MI<:Tuple{Vararg{Base.MultiplicativeInverses.SignedMultiplicativeInverse{Int64},N} where N} where A<:Union{Base.ReinterpretArray{T,N,S,A} where S where A<:Union{SubArray{T,N,A,I,true} where I<:Union{Tuple{Vararg{Real,N} where N}, Tuple{AbstractUnitRange,Vararg{Any,N} where N}} where A<:DenseArray where N where T, DenseArray} where N where T, SubArray{T,N,A,I,true} where I<:Union{Tuple{Vararg{Real,N} where N}, Tuple{AbstractUnitRange,Vararg{Any,N} where N}} where A<:DenseArray where N where T, DenseArray} where N where T, DenseArray}} where N where #s627<:Union{Dates.CompoundPeriod, Dates.Period}, Y::Union{DenseArray{#s626,N}, Base.ReinterpretArray{#s626,N,S,A} where S where A<:Union{SubArray{T,N,A,I,true} where I<:Union{Tuple{Vararg{Real,N} where N}, Tuple{AbstractUnitRange,Vararg{Any,N} where N}} where A<:DenseArray where N where T, DenseArray}, Base.ReshapedArray{#s626,N,A,MI} where MI<:Tuple{Vararg{Base.MultiplicativeInverses.SignedMultiplicativeInverse{Int64},N} where N} where A<:Union{Base.ReinterpretArray{T,N,S,A} where S where A<:Union{SubArray{T,N,A,I,true} where I<:Union{Tuple{Vararg{Real,N} where N}, Tuple{AbstractUnitRange,Vararg{Any,N} where N}} where A<:DenseArray where N where T, DenseArray} where N where T, SubArray{T,N,A,I,true} where I<:Union{Tuple{Vararg{Real,N} where N}, Tuple{AbstractUnitRange,Vararg{Any,N} where N}} where A<:DenseArray where N where T, DenseArray}, SubArray{#s626,N,A,I,L} where L where I<:Tuple{Vararg{Union{Int64, AbstractRange{Int64}, Base.AbstractCartesianIndex},N} where N} where A<:Union{Base.ReinterpretArray{T,N,S,A} where S where A<:Union{SubArray{T,N,A,I,true} where I<:Union{Tuple{Vararg{Real,N} where N}, Tuple{AbstractUnitRange,Vararg{Any,N} where N}} where A<:DenseArray where N where T, DenseArray} where N where T, Base.ReshapedArray{T,N,A,MI} where MI<:Tuple{Vararg{Base.MultiplicativeInverses.SignedMultiplicativeInverse{Int64},N} where N} where A<:Union{Base.ReinterpretArray{T,N,S,A} where S where A<:Union{SubArray{T,N,A,I,true} where I<:Union{Tuple{Vararg{Real,N} where N}, Tuple{AbstractUnitRange,Vararg{Any,N} where N}} where A<:DenseArray where N where T, DenseArray} where N where T, SubArray{T,N,A,I,true} where I<:Union{Tuple{Vararg{Real,N} where N}, Tuple{AbstractUnitRange,Vararg{Any,N} where N}} where A<:DenseArray where N where T, DenseArray} where N where T, DenseArray}} where N where #s626<:Union{Dates.CompoundPeriod, Dates.Period}) in Dates at /build/julia/src/julia-1.3.1/usr/share/julia/stdlib/v1.3/Dates/src/deprecated.jl:64\n",
       "[87] +(A::LinearAlgebra.SymTridiagonal, B::LinearAlgebra.SymTridiagonal) in LinearAlgebra at /build/julia/src/julia-1.3.1/usr/share/julia/stdlib/v1.3/LinearAlgebra/src/tridiag.jl:158\n",
       "[88] +(A::LinearAlgebra.Tridiagonal, B::LinearAlgebra.Tridiagonal) in LinearAlgebra at /build/julia/src/julia-1.3.1/usr/share/julia/stdlib/v1.3/LinearAlgebra/src/tridiag.jl:636\n",
       "[89] +(A::LinearAlgebra.UpperTriangular, B::LinearAlgebra.UpperTriangular) in LinearAlgebra at /build/julia/src/julia-1.3.1/usr/share/julia/stdlib/v1.3/LinearAlgebra/src/triangular.jl:554\n",
       "[90] +(A::LinearAlgebra.LowerTriangular, B::LinearAlgebra.LowerTriangular) in LinearAlgebra at /build/julia/src/julia-1.3.1/usr/share/julia/stdlib/v1.3/LinearAlgebra/src/triangular.jl:555\n",
       "[91] +(A::LinearAlgebra.UpperTriangular, B::LinearAlgebra.UnitUpperTriangular) in LinearAlgebra at /build/julia/src/julia-1.3.1/usr/share/julia/stdlib/v1.3/LinearAlgebra/src/triangular.jl:556\n",
       "[92] +(A::LinearAlgebra.LowerTriangular, B::LinearAlgebra.UnitLowerTriangular) in LinearAlgebra at /build/julia/src/julia-1.3.1/usr/share/julia/stdlib/v1.3/LinearAlgebra/src/triangular.jl:557\n",
       "[93] +(A::LinearAlgebra.UnitUpperTriangular, B::LinearAlgebra.UpperTriangular) in LinearAlgebra at /build/julia/src/julia-1.3.1/usr/share/julia/stdlib/v1.3/LinearAlgebra/src/triangular.jl:558\n",
       "[94] +(A::LinearAlgebra.UnitLowerTriangular, B::LinearAlgebra.LowerTriangular) in LinearAlgebra at /build/julia/src/julia-1.3.1/usr/share/julia/stdlib/v1.3/LinearAlgebra/src/triangular.jl:559\n",
       "[95] +(A::LinearAlgebra.UnitUpperTriangular, B::LinearAlgebra.UnitUpperTriangular) in LinearAlgebra at /build/julia/src/julia-1.3.1/usr/share/julia/stdlib/v1.3/LinearAlgebra/src/triangular.jl:560\n",
       "[96] +(A::LinearAlgebra.UnitLowerTriangular, B::LinearAlgebra.UnitLowerTriangular) in LinearAlgebra at /build/julia/src/julia-1.3.1/usr/share/julia/stdlib/v1.3/LinearAlgebra/src/triangular.jl:561\n",
       "[97] +(A::LinearAlgebra.AbstractTriangular, B::LinearAlgebra.AbstractTriangular) in LinearAlgebra at /build/julia/src/julia-1.3.1/usr/share/julia/stdlib/v1.3/LinearAlgebra/src/triangular.jl:562\n",
       "[98] +(A::LinearAlgebra.Symmetric, B::LinearAlgebra.Symmetric) in LinearAlgebra at /build/julia/src/julia-1.3.1/usr/share/julia/stdlib/v1.3/LinearAlgebra/src/symmetric.jl:422\n",
       "[99] +(A::LinearAlgebra.Hermitian, B::LinearAlgebra.Hermitian) in LinearAlgebra at /build/julia/src/julia-1.3.1/usr/share/julia/stdlib/v1.3/LinearAlgebra/src/symmetric.jl:423\n",
       "[100] +(A::LinearAlgebra.Hermitian, B::LinearAlgebra.Symmetric{#s627,S} where S<:(AbstractArray{#s6271,2} where #s6271<:#s627) where #s627<:Real) in LinearAlgebra at /build/julia/src/julia-1.3.1/usr/share/julia/stdlib/v1.3/LinearAlgebra/src/symmetric.jl:424\n",
       "[101] +(A::LinearAlgebra.Symmetric{#s627,S} where S<:(AbstractArray{#s6271,2} where #s6271<:#s627) where #s627<:Real, B::LinearAlgebra.Hermitian) in LinearAlgebra at /build/julia/src/julia-1.3.1/usr/share/julia/stdlib/v1.3/LinearAlgebra/src/symmetric.jl:425\n",
       "[102] +(Da::LinearAlgebra.Diagonal, Db::LinearAlgebra.Diagonal) in LinearAlgebra at /build/julia/src/julia-1.3.1/usr/share/julia/stdlib/v1.3/LinearAlgebra/src/diagonal.jl:156\n",
       "[103] +(A::LinearAlgebra.Bidiagonal, B::LinearAlgebra.Bidiagonal) in LinearAlgebra at /build/julia/src/julia-1.3.1/usr/share/julia/stdlib/v1.3/LinearAlgebra/src/bidiag.jl:309\n",
       "[104] +(UL::LinearAlgebra.UnitUpperTriangular, J::LinearAlgebra.UniformScaling) in LinearAlgebra at /build/julia/src/julia-1.3.1/usr/share/julia/stdlib/v1.3/LinearAlgebra/src/uniformscaling.jl:131\n",
       "[105] +(UL::LinearAlgebra.UnitLowerTriangular, J::LinearAlgebra.UniformScaling) in LinearAlgebra at /build/julia/src/julia-1.3.1/usr/share/julia/stdlib/v1.3/LinearAlgebra/src/uniformscaling.jl:131\n",
       "[106] +(A::LinearAlgebra.Hermitian, J::LinearAlgebra.UniformScaling{#s627} where #s627<:Complex) in LinearAlgebra at /build/julia/src/julia-1.3.1/usr/share/julia/stdlib/v1.3/LinearAlgebra/src/uniformscaling.jl:145\n",
       "[107] +(H::LinearAlgebra.UpperHessenberg, J::LinearAlgebra.UniformScaling) in LinearAlgebra at /build/julia/src/julia-1.3.1/usr/share/julia/stdlib/v1.3/LinearAlgebra/src/hessenberg.jl:106\n",
       "[108] +(A::LinearAlgebra.Tridiagonal{#s627,V} where V<:AbstractArray{#s627,1} where #s627<:Number, B::LinearAlgebra.UniformScaling) in LinearAlgebra at /build/julia/src/julia-1.3.1/usr/share/julia/stdlib/v1.3/LinearAlgebra/src/special.jl:238\n",
       "[109] +(A::LinearAlgebra.SymTridiagonal{#s627,V} where V<:AbstractArray{#s627,1} where #s627<:Number, B::LinearAlgebra.UniformScaling) in LinearAlgebra at /build/julia/src/julia-1.3.1/usr/share/julia/stdlib/v1.3/LinearAlgebra/src/special.jl:243\n",
       "[110] +(A::LinearAlgebra.Bidiagonal{#s627,V} where V<:AbstractArray{#s627,1} where #s627<:Number, B::LinearAlgebra.UniformScaling) in LinearAlgebra at /build/julia/src/julia-1.3.1/usr/share/julia/stdlib/v1.3/LinearAlgebra/src/special.jl:248\n",
       "[111] +(A::LinearAlgebra.Diagonal{#s627,V} where V<:AbstractArray{#s627,1} where #s627<:Number, B::LinearAlgebra.UniformScaling) in LinearAlgebra at /build/julia/src/julia-1.3.1/usr/share/julia/stdlib/v1.3/LinearAlgebra/src/special.jl:253\n",
       "[112] +(A::SparseArrays.SparseMatrixCSC, J::LinearAlgebra.UniformScaling) in SparseArrays at /build/julia/src/julia-1.3.1/usr/share/julia/stdlib/v1.3/SparseArrays/src/sparsematrix.jl:3605\n",
       "[113] +(a::StaticArrays.StaticArray{Tuple{N,M},T,2} where T where M where N, b::LinearAlgebra.UniformScaling) in StaticArrays at /home/bryand/.julia/packages/StaticArrays/mlIi1/src/linalg.jl:28\n",
       "[114] +(A::AbstractArray{T,2} where T, J::LinearAlgebra.UniformScaling) in LinearAlgebra at /build/julia/src/julia-1.3.1/usr/share/julia/stdlib/v1.3/LinearAlgebra/src/uniformscaling.jl:164\n",
       "[115] +(A::LinearAlgebra.UpperHessenberg, B::LinearAlgebra.UpperHessenberg) in LinearAlgebra at /build/julia/src/julia-1.3.1/usr/share/julia/stdlib/v1.3/LinearAlgebra/src/hessenberg.jl:101\n",
       "[116] +(A::LinearAlgebra.UpperTriangular, B::LinearAlgebra.Bidiagonal) in LinearAlgebra at /build/julia/src/julia-1.3.1/usr/share/julia/stdlib/v1.3/LinearAlgebra/src/special.jl:98\n",
       "[117] +(A::LinearAlgebra.Bidiagonal, B::LinearAlgebra.UpperTriangular) in LinearAlgebra at /build/julia/src/julia-1.3.1/usr/share/julia/stdlib/v1.3/LinearAlgebra/src/special.jl:106\n",
       "[118] +(A::LinearAlgebra.UnitUpperTriangular, B::LinearAlgebra.Bidiagonal) in LinearAlgebra at /build/julia/src/julia-1.3.1/usr/share/julia/stdlib/v1.3/LinearAlgebra/src/special.jl:98\n",
       "[119] +(A::LinearAlgebra.Bidiagonal, B::LinearAlgebra.UnitUpperTriangular) in LinearAlgebra at /build/julia/src/julia-1.3.1/usr/share/julia/stdlib/v1.3/LinearAlgebra/src/special.jl:106\n",
       "[120] +(A::LinearAlgebra.LowerTriangular, B::LinearAlgebra.Bidiagonal) in LinearAlgebra at /build/julia/src/julia-1.3.1/usr/share/julia/stdlib/v1.3/LinearAlgebra/src/special.jl:98\n",
       "[121] +(A::LinearAlgebra.Bidiagonal, B::LinearAlgebra.LowerTriangular) in LinearAlgebra at /build/julia/src/julia-1.3.1/usr/share/julia/stdlib/v1.3/LinearAlgebra/src/special.jl:106\n",
       "[122] +(A::LinearAlgebra.UnitLowerTriangular, B::LinearAlgebra.Bidiagonal) in LinearAlgebra at /build/julia/src/julia-1.3.1/usr/share/julia/stdlib/v1.3/LinearAlgebra/src/special.jl:98\n",
       "[123] +(A::LinearAlgebra.Bidiagonal, B::LinearAlgebra.UnitLowerTriangular) in LinearAlgebra at /build/julia/src/julia-1.3.1/usr/share/julia/stdlib/v1.3/LinearAlgebra/src/special.jl:106\n",
       "[124] +(A::LinearAlgebra.Bidiagonal, B::LinearAlgebra.Diagonal) in LinearAlgebra at /build/julia/src/julia-1.3.1/usr/share/julia/stdlib/v1.3/LinearAlgebra/src/special.jl:127\n",
       "[125] +(A::LinearAlgebra.Diagonal, B::LinearAlgebra.Bidiagonal) in LinearAlgebra at /build/julia/src/julia-1.3.1/usr/share/julia/stdlib/v1.3/LinearAlgebra/src/special.jl:137\n",
       "[126] +(A::LinearAlgebra.Diagonal, B::LinearAlgebra.SymTridiagonal) in LinearAlgebra at /build/julia/src/julia-1.3.1/usr/share/julia/stdlib/v1.3/LinearAlgebra/src/special.jl:147\n",
       "[127] +(A::LinearAlgebra.SymTridiagonal, B::LinearAlgebra.Diagonal) in LinearAlgebra at /build/julia/src/julia-1.3.1/usr/share/julia/stdlib/v1.3/LinearAlgebra/src/special.jl:157\n",
       "[128] +(A::LinearAlgebra.Tridiagonal, B::LinearAlgebra.SymTridiagonal) in LinearAlgebra at /build/julia/src/julia-1.3.1/usr/share/julia/stdlib/v1.3/LinearAlgebra/src/special.jl:168\n",
       "[129] +(A::LinearAlgebra.SymTridiagonal, B::LinearAlgebra.Tridiagonal) in LinearAlgebra at /build/julia/src/julia-1.3.1/usr/share/julia/stdlib/v1.3/LinearAlgebra/src/special.jl:170\n",
       "[130] +(A::LinearAlgebra.Diagonal, B::LinearAlgebra.Tridiagonal) in LinearAlgebra at /build/julia/src/julia-1.3.1/usr/share/julia/stdlib/v1.3/LinearAlgebra/src/special.jl:175\n",
       "[131] +(A::LinearAlgebra.Tridiagonal, B::LinearAlgebra.Diagonal) in LinearAlgebra at /build/julia/src/julia-1.3.1/usr/share/julia/stdlib/v1.3/LinearAlgebra/src/special.jl:185\n",
       "[132] +(A::LinearAlgebra.Bidiagonal, B::LinearAlgebra.Tridiagonal) in LinearAlgebra at /build/julia/src/julia-1.3.1/usr/share/julia/stdlib/v1.3/LinearAlgebra/src/special.jl:195\n",
       "[133] +(A::LinearAlgebra.Tridiagonal, B::LinearAlgebra.Bidiagonal) in LinearAlgebra at /build/julia/src/julia-1.3.1/usr/share/julia/stdlib/v1.3/LinearAlgebra/src/special.jl:205\n",
       "[134] +(A::LinearAlgebra.Bidiagonal, B::LinearAlgebra.SymTridiagonal) in LinearAlgebra at /build/julia/src/julia-1.3.1/usr/share/julia/stdlib/v1.3/LinearAlgebra/src/special.jl:215\n",
       "[135] +(A::LinearAlgebra.SymTridiagonal, B::LinearAlgebra.Bidiagonal) in LinearAlgebra at /build/julia/src/julia-1.3.1/usr/share/julia/stdlib/v1.3/LinearAlgebra/src/special.jl:225\n",
       "[136] +(A::SparseArrays.SparseMatrixCSC, B::SparseArrays.SparseMatrixCSC) in SparseArrays at /build/julia/src/julia-1.3.1/usr/share/julia/stdlib/v1.3/SparseArrays/src/sparsematrix.jl:1643\n",
       "[137] +(A::SparseArrays.SparseMatrixCSC, B::Array) in SparseArrays at /build/julia/src/julia-1.3.1/usr/share/julia/stdlib/v1.3/SparseArrays/src/sparsematrix.jl:1646\n",
       "[138] +(x::SparseArrays.AbstractSparseArray{Tv,Ti,1} where Ti where Tv, y::SparseArrays.AbstractSparseArray{Tv,Ti,1} where Ti where Tv) in SparseArrays at /build/julia/src/julia-1.3.1/usr/share/julia/stdlib/v1.3/SparseArrays/src/sparsevector.jl:1304\n",
       "[139] +(a::StaticArrays.StaticArray, b::StaticArrays.StaticArray) in StaticArrays at /home/bryand/.julia/packages/StaticArrays/mlIi1/src/linalg.jl:11\n",
       "[140] +(a::StaticArrays.StaticArray, b::AbstractArray) in StaticArrays at /home/bryand/.julia/packages/StaticArrays/mlIi1/src/linalg.jl:13\n",
       "[141] +(a::StaticArrays.SHermitianCompact, b::Number) in StaticArrays at deprecated.jl:65\n",
       "[142] +(a::StaticArrays.StaticArray, b::Number) in StaticArrays at deprecated.jl:65\n",
       "[143] +(x::AbstractArray{#s66,N} where N where #s66<:Number) in Base at abstractarraymath.jl:97\n",
       "[144] +(a::AbstractArray, b::StaticArrays.StaticArray) in StaticArrays at /home/bryand/.julia/packages/StaticArrays/mlIi1/src/linalg.jl:12\n",
       "[145] +(A::AbstractArray, B::AbstractArray) in Base at arraymath.jl:38\n",
       "[146] +(x::T, y::Integer) where T<:AbstractChar in Base at char.jl:223\n",
       "[147] +(index1::CartesianIndex{N}, index2::CartesianIndex{N}) where N in Base.IteratorsMD at multidimensional.jl:110\n",
       "[148] +(::Number, ::Missing) in Base at missing.jl:116\n",
       "[149] +(x::P, y::P) where P<:Dates.Period in Dates at /build/julia/src/julia-1.3.1/usr/share/julia/stdlib/v1.3/Dates/src/periods.jl:75\n",
       "[150] +(x::Dates.Period, y::Dates.Period) in Dates at /build/julia/src/julia-1.3.1/usr/share/julia/stdlib/v1.3/Dates/src/periods.jl:340\n",
       "[151] +(y::Dates.Period, x::Dates.CompoundPeriod) in Dates at /build/julia/src/julia-1.3.1/usr/share/julia/stdlib/v1.3/Dates/src/periods.jl:342\n",
       "[152] +(x::Union{Dates.CompoundPeriod, Dates.Period}) in Dates at /build/julia/src/julia-1.3.1/usr/share/julia/stdlib/v1.3/Dates/src/periods.jl:351\n",
       "[153] +(x::Dates.TimeType) in Dates at /build/julia/src/julia-1.3.1/usr/share/julia/stdlib/v1.3/Dates/src/arithmetic.jl:8\n",
       "[154] +(a::Dates.TimeType, b::Dates.Period, c::Dates.Period) in Dates at /build/julia/src/julia-1.3.1/usr/share/julia/stdlib/v1.3/Dates/src/periods.jl:362\n",
       "[155] +(a::Dates.TimeType, b::Dates.Period, c::Dates.Period, d::Dates.Period...) in Dates at /build/julia/src/julia-1.3.1/usr/share/julia/stdlib/v1.3/Dates/src/periods.jl:363\n",
       "[156] +(x::Dates.TimeType, y::Dates.CompoundPeriod) in Dates at /build/julia/src/julia-1.3.1/usr/share/julia/stdlib/v1.3/Dates/src/periods.jl:366\n",
       "[157] +(x::Dates.Instant) in Dates at /build/julia/src/julia-1.3.1/usr/share/julia/stdlib/v1.3/Dates/src/arithmetic.jl:4\n",
       "[158] +(y::Dates.Period, x::Dates.TimeType) in Dates at /build/julia/src/julia-1.3.1/usr/share/julia/stdlib/v1.3/Dates/src/arithmetic.jl:80\n",
       "[159] +(x::Dates.Period, r::AbstractRange{#s627} where #s627<:Dates.TimeType) in Dates at /build/julia/src/julia-1.3.1/usr/share/julia/stdlib/v1.3/Dates/src/ranges.jl:58\n",
       "[160] +(x::AbstractArray{#s627,N} where N where #s627<:Dates.TimeType, y::Union{Dates.CompoundPeriod, Dates.Period}) in Dates at /build/julia/src/julia-1.3.1/usr/share/julia/stdlib/v1.3/Dates/src/deprecated.jl:8\n",
       "[161] +(y::Union{Dates.CompoundPeriod, Dates.Period}, x::AbstractArray{#s627,N} where N where #s627<:Dates.TimeType) in Dates at /build/julia/src/julia-1.3.1/usr/share/julia/stdlib/v1.3/Dates/src/deprecated.jl:16\n",
       "[162] +(y::Dates.TimeType, x::Union{DenseArray{#s627,N}, Base.ReinterpretArray{#s627,N,S,A} where S where A<:Union{SubArray{T,N,A,I,true} where I<:Union{Tuple{Vararg{Real,N} where N}, Tuple{AbstractUnitRange,Vararg{Any,N} where N}} where A<:DenseArray where N where T, DenseArray}, Base.ReshapedArray{#s627,N,A,MI} where MI<:Tuple{Vararg{Base.MultiplicativeInverses.SignedMultiplicativeInverse{Int64},N} where N} where A<:Union{Base.ReinterpretArray{T,N,S,A} where S where A<:Union{SubArray{T,N,A,I,true} where I<:Union{Tuple{Vararg{Real,N} where N}, Tuple{AbstractUnitRange,Vararg{Any,N} where N}} where A<:DenseArray where N where T, DenseArray} where N where T, SubArray{T,N,A,I,true} where I<:Union{Tuple{Vararg{Real,N} where N}, Tuple{AbstractUnitRange,Vararg{Any,N} where N}} where A<:DenseArray where N where T, DenseArray}, SubArray{#s627,N,A,I,L} where L where I<:Tuple{Vararg{Union{Int64, AbstractRange{Int64}, Base.AbstractCartesianIndex},N} where N} where A<:Union{Base.ReinterpretArray{T,N,S,A} where S where A<:Union{SubArray{T,N,A,I,true} where I<:Union{Tuple{Vararg{Real,N} where N}, Tuple{AbstractUnitRange,Vararg{Any,N} where N}} where A<:DenseArray where N where T, DenseArray} where N where T, Base.ReshapedArray{T,N,A,MI} where MI<:Tuple{Vararg{Base.MultiplicativeInverses.SignedMultiplicativeInverse{Int64},N} where N} where A<:Union{Base.ReinterpretArray{T,N,S,A} where S where A<:Union{SubArray{T,N,A,I,true} where I<:Union{Tuple{Vararg{Real,N} where N}, Tuple{AbstractUnitRange,Vararg{Any,N} where N}} where A<:DenseArray where N where T, DenseArray} where N where T, SubArray{T,N,A,I,true} where I<:Union{Tuple{Vararg{Real,N} where N}, Tuple{AbstractUnitRange,Vararg{Any,N} where N}} where A<:DenseArray where N where T, DenseArray} where N where T, DenseArray}} where N where #s627<:Union{Dates.CompoundPeriod, Dates.Period}) in Dates at /build/julia/src/julia-1.3.1/usr/share/julia/stdlib/v1.3/Dates/src/deprecated.jl:20\n",
       "[163] +(J::LinearAlgebra.UniformScaling, x::Number) in LinearAlgebra at /build/julia/src/julia-1.3.1/usr/share/julia/stdlib/v1.3/LinearAlgebra/src/uniformscaling.jl:109\n",
       "[164] +(x::Number, J::LinearAlgebra.UniformScaling) in LinearAlgebra at /build/julia/src/julia-1.3.1/usr/share/julia/stdlib/v1.3/LinearAlgebra/src/uniformscaling.jl:110\n",
       "[165] +(J1::LinearAlgebra.UniformScaling, J2::LinearAlgebra.UniformScaling) in LinearAlgebra at /build/julia/src/julia-1.3.1/usr/share/julia/stdlib/v1.3/LinearAlgebra/src/uniformscaling.jl:114\n",
       "[166] +(J::LinearAlgebra.UniformScaling, B::BitArray{2}) in LinearAlgebra at /build/julia/src/julia-1.3.1/usr/share/julia/stdlib/v1.3/LinearAlgebra/src/uniformscaling.jl:116\n",
       "[167] +(A::LinearAlgebra.UniformScaling, B::LinearAlgebra.Tridiagonal{#s627,V} where V<:AbstractArray{#s627,1} where #s627<:Number) in LinearAlgebra at /build/julia/src/julia-1.3.1/usr/share/julia/stdlib/v1.3/LinearAlgebra/src/special.jl:257\n",
       "[168] +(A::LinearAlgebra.UniformScaling, B::LinearAlgebra.SymTridiagonal{#s627,V} where V<:AbstractArray{#s627,1} where #s627<:Number) in LinearAlgebra at /build/julia/src/julia-1.3.1/usr/share/julia/stdlib/v1.3/LinearAlgebra/src/special.jl:262\n",
       "[169] +(A::LinearAlgebra.UniformScaling, B::LinearAlgebra.Bidiagonal{#s627,V} where V<:AbstractArray{#s627,1} where #s627<:Number) in LinearAlgebra at /build/julia/src/julia-1.3.1/usr/share/julia/stdlib/v1.3/LinearAlgebra/src/special.jl:267\n",
       "[170] +(A::LinearAlgebra.UniformScaling, B::LinearAlgebra.Diagonal{#s627,V} where V<:AbstractArray{#s627,1} where #s627<:Number) in LinearAlgebra at /build/julia/src/julia-1.3.1/usr/share/julia/stdlib/v1.3/LinearAlgebra/src/special.jl:272\n",
       "[171] +(a::LinearAlgebra.UniformScaling, b::StaticArrays.StaticArray{Tuple{N,M},T,2} where T where M where N) in StaticArrays at /home/bryand/.julia/packages/StaticArrays/mlIi1/src/linalg.jl:29\n",
       "[172] +(J::LinearAlgebra.UniformScaling, A::AbstractArray{T,2} where T) in LinearAlgebra at /build/julia/src/julia-1.3.1/usr/share/julia/stdlib/v1.3/LinearAlgebra/src/uniformscaling.jl:117\n",
       "[173] +(F::LinearAlgebra.Hessenberg, J::LinearAlgebra.UniformScaling) in LinearAlgebra at /build/julia/src/julia-1.3.1/usr/share/julia/stdlib/v1.3/LinearAlgebra/src/hessenberg.jl:517\n",
       "[174] +(J::LinearAlgebra.UniformScaling, F::LinearAlgebra.Hessenberg) in LinearAlgebra at /build/julia/src/julia-1.3.1/usr/share/julia/stdlib/v1.3/LinearAlgebra/src/hessenberg.jl:518\n",
       "[175] +(a::Measures.Length{U,T} where T, b::Measures.Length{U,T} where T) where U in Measures at /home/bryand/.julia/packages/Measures/0Zkai/src/length.jl:28\n",
       "[176] +(a::Measures.Measure, b::Measures.Measure) in Measures at /home/bryand/.julia/packages/Measures/0Zkai/src/operations.jl:41\n",
       "[177] +(a::Tuple{Vararg{Measures.Measure,N}}, b::Tuple{Vararg{Measures.Measure,N}}) where N in Measures at /home/bryand/.julia/packages/Measures/0Zkai/src/point.jl:22\n",
       "[178] +(a::Tuple{Vararg{Measures.Measure,N}} where N, b::Tuple{Vararg{Measures.Measure,N}} where N) in Measures at /home/bryand/.julia/packages/Measures/0Zkai/src/point.jl:15\n",
       "[179] +(a::Number, b::StaticArrays.SHermitianCompact) in StaticArrays at deprecated.jl:65\n",
       "[180] +(a::Number, b::StaticArrays.StaticArray) in StaticArrays at deprecated.jl:65\n",
       "[181] +(a::C, b::C) where C<:Union{LMS, XYZ} in Colors at /home/bryand/.julia/packages/Colors/qXo6j/src/algorithms.jl:4\n",
       "[182] +(h::GeometryTypes.HyperRectangle{N,T}, move::GeometryTypes.Vec{N,T} where T) where {N, T} in GeometryTypes at /home/bryand/.julia/packages/GeometryTypes/gpBFp/src/hyperrectangles.jl:202\n",
       "[183] +(h::GeometryTypes.SimpleRectangle{T}, move::GeometryTypes.Vec{2,T} where T) where T in GeometryTypes at /home/bryand/.julia/packages/GeometryTypes/gpBFp/src/hyperrectangles.jl:209\n",
       "[184] +(bb1::Measures.BoundingBox, bb2::Measures.BoundingBox) in Plots at /home/bryand/.julia/packages/Plots/vAz7I/src/layouts.jl:49\n",
       "[185] +(a, b, c, xs...) in Base at operators.jl:529"
      ]
     },
     "execution_count": 140,
     "metadata": {},
     "output_type": "execute_result"
    }
   ],
   "source": [
    "methods(+)  "
   ]
  },
  {
   "cell_type": "markdown",
   "metadata": {},
   "source": [
    "Es fácil de usar, ya que Julia hace todo el trabajo. Si no quieres afectar al rendimiento tienes que definir bien las constantes. "
   ]
  },
  {
   "cell_type": "code",
   "execution_count": null,
   "metadata": {},
   "outputs": [],
   "source": []
  }
 ],
 "metadata": {
  "kernelspec": {
   "display_name": "Julia 1.1.0",
   "language": "julia",
   "name": "julia-1.1"
  },
  "language_info": {
   "file_extension": ".jl",
   "mimetype": "application/julia",
   "name": "julia",
   "version": "1.3.1"
  }
 },
 "nbformat": 4,
 "nbformat_minor": 2
}
